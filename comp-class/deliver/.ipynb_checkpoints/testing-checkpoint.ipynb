{
 "cells": [
  {
   "cell_type": "markdown",
   "id": "d96f430d-fc32-4fe6-811f-45cfd22a17ab",
   "metadata": {},
   "source": [
    "This is a test! Of the post save hook system!"
   ]
  },
  {
   "cell_type": "code",
   "execution_count": null,
   "id": "ac1cb4f4-f121-4a9c-8e82-de3e69864f8b",
   "metadata": {},
   "outputs": [],
   "source": []
  }
 ],
 "metadata": {
  "kernelspec": {
   "display_name": "Python 3",
   "language": "python",
   "name": "python3"
  },
  "language_info": {
   "codemirror_mode": {
    "name": "ipython",
    "version": 3
   },
   "file_extension": ".py",
   "mimetype": "text/x-python",
   "name": "python",
   "nbconvert_exporter": "python",
   "pygments_lexer": "ipython3",
   "version": "3.6.13"
  }
 },
 "nbformat": 4,
 "nbformat_minor": 5
}
