{
 "cells": [
  {
   "cell_type": "markdown",
   "id": "b021400a-8253-4e36-bda1-0f0393446d18",
   "metadata": {},
   "source": [
    "# A day of graphing"
   ]
  },
  {
   "cell_type": "code",
   "execution_count": 1,
   "id": "0cfc8fd3-79b2-4814-a9de-65c8bafe5cde",
   "metadata": {},
   "outputs": [],
   "source": [
    "import numpy as np\n",
    "import matplotlib.pyplot as plt"
   ]
  },
  {
   "cell_type": "code",
   "execution_count": 2,
   "id": "8c66f59b-1bfd-4e93-ba54-5f82495f09a3",
   "metadata": {},
   "outputs": [],
   "source": [
    "x_data = np.linspace(1,10)\n",
    "y_data = x_data**2+x_data+1"
   ]
  },
  {
   "cell_type": "code",
   "execution_count": 22,
   "id": "3af46f58-cd25-4cba-b820-a78ef6f9b0eb",
   "metadata": {},
   "outputs": [
    {
     "data": {
      "application/vnd.jupyter.widget-view+json": {
       "model_id": "a93b1a7c87a34b138da7758e3e14fee0",
       "version_major": 2,
       "version_minor": 0
      },
      "text/plain": [
       "Canvas(toolbar=Toolbar(toolitems=[('Home', 'Reset original view', 'home', 'home'), ('Back', 'Back to previous …"
      ]
     },
     "metadata": {},
     "output_type": "display_data"
    },
    {
     "data": {
      "text/plain": [
       "[<matplotlib.lines.Line2D at 0x7fb96e1f0e10>]"
      ]
     },
     "execution_count": 22,
     "metadata": {},
     "output_type": "execute_result"
    }
   ],
   "source": [
    "fig0 = plt.figure()\n",
    "ax0 = fig0.add_subplot()\n",
    "\n",
    "ax0.plot(x_data, 'o', mfc='none')"
   ]
  },
  {
   "cell_type": "code",
   "execution_count": 24,
   "id": "e4275167-e353-45e7-8caf-04e9c2b2e72b",
   "metadata": {},
   "outputs": [
    {
     "data": {
      "application/vnd.jupyter.widget-view+json": {
       "model_id": "623bb37e59a249aa96f088edfc1dcc2a",
       "version_major": 2,
       "version_minor": 0
      },
      "text/plain": [
       "Canvas(toolbar=Toolbar(toolitems=[('Home', 'Reset original view', 'home', 'home'), ('Back', 'Back to previous …"
      ]
     },
     "metadata": {},
     "output_type": "display_data"
    },
    {
     "data": {
      "text/plain": [
       "[<matplotlib.lines.Line2D at 0x7fb96de8da58>]"
      ]
     },
     "execution_count": 24,
     "metadata": {},
     "output_type": "execute_result"
    }
   ],
   "source": [
    "fig1 = plt.figure()\n",
    "ax1 = fig1.add_subplot()\n",
    "\n",
    "y_data1 = 2*x_data+1\n",
    "\n",
    "ax1.plot(x_data, y_data)\n",
    "ax1.plot(x_data, y_data1)"
   ]
  },
  {
   "cell_type": "markdown",
   "id": "6960e778-a052-4f87-a14b-3b66afeca28a",
   "metadata": {},
   "source": []
  }
 ],
 "metadata": {
  "kernelspec": {
   "display_name": "Python 3",
   "language": "python",
   "name": "python3"
  },
  "language_info": {
   "codemirror_mode": {
    "name": "ipython",
    "version": 3
   },
   "file_extension": ".py",
   "mimetype": "text/x-python",
   "name": "python",
   "nbconvert_exporter": "python",
   "pygments_lexer": "ipython3",
   "version": "3.6.13"
  }
 },
 "nbformat": 4,
 "nbformat_minor": 5
}
