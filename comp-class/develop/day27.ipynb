{
 "cells": [
  {
   "cell_type": "markdown",
   "id": "d37160a0-db5a-42cb-a62e-149f343a2b79",
   "metadata": {},
   "source": [
    "# Day 27"
   ]
  },
  {
   "cell_type": "code",
   "execution_count": 1,
   "id": "b16b1d83-6dad-44d5-b40f-e9ea9882361b",
   "metadata": {
    "tags": []
   },
   "outputs": [],
   "source": [
    "import numpy as np\n",
    "import matplotlib.pyplot as plt"
   ]
  },
  {
   "cell_type": "code",
   "execution_count": 2,
   "id": "2a4d80cd-2a2d-4f06-a1a9-0301f314f2a2",
   "metadata": {
    "tags": []
   },
   "outputs": [],
   "source": [
    "# Runge-Kutta 4nd order\n",
    "\n",
    "def f(r,t):\n",
    "    y = r[0]\n",
    "    v = r[1]\n",
    "    fy = v\n",
    "    fv = -9.81\n",
    "    return(np.array([fy,fv],float))\n",
    "\n",
    "# define boundary conditions\n",
    "\n",
    "t0 = 0.0 # starting point\n",
    "tf = 10.0 # ending point\n",
    "N = 1000 # number of points between a and b\n",
    "dt = (tf-t0)/N\n",
    "\n",
    "r = np.array([100,30],float) # initial condition\n",
    "\n",
    "tpoints = np.arange(t0, tf, dt)\n",
    "ypoints = []\n",
    "vpoints = []\n",
    "\n",
    "for t in tpoints:\n",
    "    ypoints.append(r[0])\n",
    "    vpoints.append(r[1])\n",
    "    k1 = dt*f(r,t)\n",
    "    k2 = dt*f(r+0.5*k1,t+0.5*dt)\n",
    "    k3 = dt*f(r+0.5*k2,t+0.5*dt)\n",
    "    k4 = dt*f(r+k3, t+dt)\n",
    "    r = r + (k1+2*k2+2*k3+k4)/6"
   ]
  },
  {
   "cell_type": "code",
   "execution_count": 3,
   "id": "7ff85693-32a7-4807-a03e-faae279b9115",
   "metadata": {
    "tags": []
   },
   "outputs": [
    {
     "data": {
      "application/vnd.jupyter.widget-view+json": {
       "model_id": "e056c7b374634e6b97e1b117ed199391",
       "version_major": 2,
       "version_minor": 0
      },
      "text/plain": [
       "Canvas(toolbar=Toolbar(toolitems=[('Home', 'Reset original view', 'home', 'home'), ('Back', 'Back to previous …"
      ]
     },
     "metadata": {},
     "output_type": "display_data"
    },
    {
     "data": {
      "text/plain": [
       "[<matplotlib.lines.Line2D at 0x7fef4bda0470>]"
      ]
     },
     "execution_count": 3,
     "metadata": {},
     "output_type": "execute_result"
    }
   ],
   "source": [
    "fig0, ax0 = plt.subplots()\n",
    "ax0.plot(tpoints, ypoints)\n",
    "ax0.plot(tpoints, vpoints)"
   ]
  },
  {
   "cell_type": "markdown",
   "id": "23c16ca2-5639-4fb5-be1e-91608a552cca",
   "metadata": {},
   "source": [
    "## what about linear drag?"
   ]
  },
  {
   "cell_type": "code",
   "execution_count": 4,
   "id": "79fe9c50-b945-44e3-ac31-8d0b3b15105e",
   "metadata": {
    "tags": []
   },
   "outputs": [],
   "source": [
    "# Runge-Kutta 4nd order\n",
    "\n",
    "def f(r,t):\n",
    "    y = r[0]\n",
    "    v = r[1]\n",
    "    fy = v\n",
    "    c = 1\n",
    "    fv = -9.81 - c*v\n",
    "    return(np.array([fy,fv],float))\n",
    "\n",
    "# define boundary conditions\n",
    "\n",
    "t0 = 0.0 # starting point\n",
    "tf = 5.0 # ending point\n",
    "N = 1000 # number of points between a and b\n",
    "dt = (tf-t0)/N\n",
    "\n",
    "r = np.array([100,0],float) # initial condition\n",
    "\n",
    "tpoints = np.arange(t0, tf, dt)\n",
    "ypoints = []\n",
    "vpoints = []\n",
    "\n",
    "for t in tpoints:\n",
    "    ypoints.append(r[0])\n",
    "    vpoints.append(r[1])\n",
    "    k1 = dt*f(r,t)\n",
    "    k2 = dt*f(r+0.5*k1,t+0.5*dt)\n",
    "    k3 = dt*f(r+0.5*k2,t+0.5*dt)\n",
    "    k4 = dt*f(r+k3, t+dt)\n",
    "    r = r + (k1+2*k2+2*k3+k4)/6"
   ]
  },
  {
   "cell_type": "code",
   "execution_count": 5,
   "id": "3c4856f8-ac40-43aa-939f-e58eb1606dc1",
   "metadata": {
    "tags": []
   },
   "outputs": [
    {
     "data": {
      "application/vnd.jupyter.widget-view+json": {
       "model_id": "99654e9407ea47b487aa753f00c60528",
       "version_major": 2,
       "version_minor": 0
      },
      "text/plain": [
       "Canvas(toolbar=Toolbar(toolitems=[('Home', 'Reset original view', 'home', 'home'), ('Back', 'Back to previous …"
      ]
     },
     "metadata": {},
     "output_type": "display_data"
    },
    {
     "data": {
      "text/plain": [
       "[<matplotlib.lines.Line2D at 0x7fef4afbd518>]"
      ]
     },
     "execution_count": 5,
     "metadata": {},
     "output_type": "execute_result"
    }
   ],
   "source": [
    "fig1, ax1 = plt.subplots()\n",
    "ax1.plot(tpoints, ypoints)"
   ]
  },
  {
   "cell_type": "code",
   "execution_count": 6,
   "id": "f4b7a329-9914-411d-8e85-08626f938797",
   "metadata": {
    "tags": []
   },
   "outputs": [
    {
     "data": {
      "application/vnd.jupyter.widget-view+json": {
       "model_id": "45ae5d912c964586b5bd306ff4e80485",
       "version_major": 2,
       "version_minor": 0
      },
      "text/plain": [
       "Canvas(toolbar=Toolbar(toolitems=[('Home', 'Reset original view', 'home', 'home'), ('Back', 'Back to previous …"
      ]
     },
     "metadata": {},
     "output_type": "display_data"
    },
    {
     "data": {
      "text/plain": [
       "[<matplotlib.lines.Line2D at 0x7fef4b104fd0>]"
      ]
     },
     "execution_count": 6,
     "metadata": {},
     "output_type": "execute_result"
    }
   ],
   "source": [
    "fig2, ax2 = plt.subplots()\n",
    "ax2.plot(tpoints, vpoints)"
   ]
  },
  {
   "cell_type": "markdown",
   "id": "826fd549-b550-4270-9e9a-58fc5601778e",
   "metadata": {},
   "source": [
    "## What about quadratic drag??"
   ]
  },
  {
   "cell_type": "code",
   "execution_count": 7,
   "id": "e90033d9-8e52-4885-9d3b-42a8c3720563",
   "metadata": {
    "tags": []
   },
   "outputs": [],
   "source": [
    "# Runge-Kutta 4nd order\n",
    "\n",
    "def f(r,t):\n",
    "    y = r[0]\n",
    "    v = r[1]\n",
    "    fy = v\n",
    "    c = .001\n",
    "    fv = -9.81 - c*v**2\n",
    "    return(np.array([fy,fv],float))\n",
    "\n",
    "# define boundary conditions\n",
    "\n",
    "t0 = 0.0 # starting point\n",
    "tf = 5.0 # ending point\n",
    "N = 1000 # number of points between a and b\n",
    "dt = (tf-t0)/N\n",
    "\n",
    "r = np.array([100,0],float) # initial condition\n",
    "\n",
    "tpoints = np.arange(t0, tf, dt)\n",
    "ypoints = []\n",
    "vpoints = []\n",
    "\n",
    "for t in tpoints:\n",
    "    ypoints.append(r[0])\n",
    "    vpoints.append(r[1])\n",
    "    k1 = dt*f(r,t)\n",
    "    k2 = dt*f(r+0.5*k1,t+0.5*dt)\n",
    "    k3 = dt*f(r+0.5*k2,t+0.5*dt)\n",
    "    k4 = dt*f(r+k3, t+dt)\n",
    "    r = r + (k1+2*k2+2*k3+k4)/6"
   ]
  },
  {
   "cell_type": "code",
   "execution_count": 8,
   "id": "6d88e2ad-f3dd-4487-a864-5d7a9795841f",
   "metadata": {
    "tags": []
   },
   "outputs": [
    {
     "data": {
      "application/vnd.jupyter.widget-view+json": {
       "model_id": "4b54d4176d2c4c44a81b7721d254ae7f",
       "version_major": 2,
       "version_minor": 0
      },
      "text/plain": [
       "Canvas(toolbar=Toolbar(toolitems=[('Home', 'Reset original view', 'home', 'home'), ('Back', 'Back to previous …"
      ]
     },
     "metadata": {},
     "output_type": "display_data"
    },
    {
     "data": {
      "text/plain": [
       "[<matplotlib.lines.Line2D at 0x7fef4b0ae7f0>]"
      ]
     },
     "execution_count": 8,
     "metadata": {},
     "output_type": "execute_result"
    }
   ],
   "source": [
    "fig3, ax3 = plt.subplots()\n",
    "ax3.plot(tpoints, ypoints)"
   ]
  },
  {
   "cell_type": "code",
   "execution_count": 9,
   "id": "994b0058-e2f9-4bc8-9b7e-e35b59e8c488",
   "metadata": {
    "tags": []
   },
   "outputs": [],
   "source": [
    "# Runge-Kutta 4nd order\n",
    "\n",
    "def f(r,t):\n",
    "    y = r[0]\n",
    "    v = r[1]\n",
    "    fy = v\n",
    "    c = 1\n",
    "    fv = -9.81 - c*v\n",
    "    return(np.array([fy,fv],float))\n",
    "\n",
    "def cRK4(f, tf, x0, v0, t0=0, dt=2**-5): \n",
    "\n",
    "    r = np.array([x0,v0],float) # initial condition\n",
    "\n",
    "    tpoints = np.arange(t0, tf, dt)\n",
    "    xpoints = []\n",
    "    vpoints = []\n",
    "\n",
    "    for t in tpoints:\n",
    "        xpoints.append(r[0])\n",
    "        vpoints.append(r[1])\n",
    "        k1 = dt*f(r,t)\n",
    "        k2 = dt*f(r+0.5*k1,t+0.5*dt)\n",
    "        k3 = dt*f(r+0.5*k2,t+0.5*dt)\n",
    "        k4 = dt*f(r+k3, t+dt)\n",
    "        r = r + (k1+2*k2+2*k3+k4)/6\n",
    "        \n",
    "    return(tpoints, xpoints, vpoints)"
   ]
  },
  {
   "cell_type": "code",
   "execution_count": 10,
   "id": "2b0f69ac-c480-439e-95f7-da63225d715e",
   "metadata": {
    "tags": []
   },
   "outputs": [],
   "source": [
    "def func0(r,t):\n",
    "    y = r[0]\n",
    "    v = r[1]\n",
    "    fy = v\n",
    "    c = 1\n",
    "    fv = -9.81 - c*v\n",
    "    return(np.array([fy,fv],float))\n",
    "\n",
    "t0, y0, v0 = cRK4(func0, 5, 100, 0)"
   ]
  },
  {
   "cell_type": "code",
   "execution_count": 11,
   "id": "43c588fe-a1a0-4493-8aca-5b4246409c33",
   "metadata": {
    "tags": []
   },
   "outputs": [
    {
     "data": {
      "application/vnd.jupyter.widget-view+json": {
       "model_id": "9a17af9871264d1394a46fb42d7a7184",
       "version_major": 2,
       "version_minor": 0
      },
      "text/plain": [
       "Canvas(toolbar=Toolbar(toolitems=[('Home', 'Reset original view', 'home', 'home'), ('Back', 'Back to previous …"
      ]
     },
     "metadata": {},
     "output_type": "display_data"
    },
    {
     "data": {
      "text/plain": [
       "[<matplotlib.lines.Line2D at 0x7fef4b031f60>]"
      ]
     },
     "execution_count": 11,
     "metadata": {},
     "output_type": "execute_result"
    }
   ],
   "source": [
    "fig4, ax4 = plt.subplots()\n",
    "ax4.plot(t0,v0)"
   ]
  },
  {
   "cell_type": "code",
   "execution_count": 26,
   "id": "c6262b11-b3e7-45cb-8921-7fe4c2680f32",
   "metadata": {},
   "outputs": [],
   "source": [
    "def func1(r,t):\n",
    "    y = r[0]\n",
    "    v = r[1]\n",
    "    fy = v\n",
    "    c1 = 25\n",
    "    c2 = 20\n",
    "    fv = -9.81 +c1 - c2*v\n",
    "    return(np.array([fy,fv],float))\n",
    "\n",
    "t1, y1, v1 = cRK4(func1, 2, -1, 0)"
   ]
  },
  {
   "cell_type": "code",
   "execution_count": 27,
   "id": "d9b4f274-c6a2-489f-a79d-16f46bea1419",
   "metadata": {},
   "outputs": [
    {
     "data": {
      "application/vnd.jupyter.widget-view+json": {
       "model_id": "96dd2bc768bb4a68bc1a2b7d165706b4",
       "version_major": 2,
       "version_minor": 0
      },
      "text/plain": [
       "Canvas(toolbar=Toolbar(toolitems=[('Home', 'Reset original view', 'home', 'home'), ('Back', 'Back to previous …"
      ]
     },
     "metadata": {},
     "output_type": "display_data"
    },
    {
     "data": {
      "text/plain": [
       "[<matplotlib.lines.Line2D at 0x7fef4ac46198>]"
      ]
     },
     "execution_count": 27,
     "metadata": {},
     "output_type": "execute_result"
    }
   ],
   "source": [
    "fig5, ax5 = plt.subplots()\n",
    "ax5.plot(t1,y1)\n",
    "ax5.plot(t1,v1)"
   ]
  },
  {
   "cell_type": "code",
   "execution_count": null,
   "id": "37c2cc54-f2a7-4b6a-91bd-1f379dce2cc2",
   "metadata": {},
   "outputs": [],
   "source": []
  }
 ],
 "metadata": {
  "kernelspec": {
   "display_name": "Python 3",
   "language": "python",
   "name": "python3"
  },
  "language_info": {
   "codemirror_mode": {
    "name": "ipython",
    "version": 3
   },
   "file_extension": ".py",
   "mimetype": "text/x-python",
   "name": "python",
   "nbconvert_exporter": "python",
   "pygments_lexer": "ipython3",
   "version": "3.6.13"
  }
 },
 "nbformat": 4,
 "nbformat_minor": 5
}
