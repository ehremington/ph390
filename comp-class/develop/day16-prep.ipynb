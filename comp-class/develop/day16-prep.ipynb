{
 "cells": [
  {
   "cell_type": "markdown",
   "id": "68b94949-5124-4bca-b3f2-29922186e75d",
   "metadata": {},
   "source": [
    "## Day 16 - prep"
   ]
  },
  {
   "cell_type": "code",
   "execution_count": 36,
   "id": "c1822849-6334-4cb8-a8bb-241d3c8a8ab7",
   "metadata": {},
   "outputs": [],
   "source": [
    "def integrate0(func, a, b, steps):\n",
    "    h = (b-a)/steps\n",
    "    s = (func(a)+func(b))*h/2\n",
    "    x = np.linspace(a, b, steps+1)\n",
    "    y = func(x)\n",
    "    s = s + np.sum(y[1:steps]*h)\n",
    "    return(s)\n",
    "\n",
    "def integrate1(func, a, b, steps):\n",
    "    h = (b-a)/steps\n",
    "    x = np.linspace(a, b, steps+1)\n",
    "    s = 0\n",
    "    for i in x[:steps]:\n",
    "        s = s + (func(i+h)+f(i))/2*h\n",
    "    return s"
   ]
  },
  {
   "cell_type": "code",
   "execution_count": 37,
   "id": "2c864e95-0e05-45a3-89b7-904d7c0c2e02",
   "metadata": {},
   "outputs": [],
   "source": [
    "def f(x):\n",
    "    return(np.sin(x))"
   ]
  },
  {
   "cell_type": "code",
   "execution_count": 41,
   "id": "5dc0ff90-af27-4a18-90c7-fb8efadb5213",
   "metadata": {},
   "outputs": [
    {
     "data": {
      "text/plain": [
       "1.9999999835506597"
      ]
     },
     "execution_count": 41,
     "metadata": {},
     "output_type": "execute_result"
    }
   ],
   "source": [
    "integrate0(f,0,np.pi,10000)"
   ]
  },
  {
   "cell_type": "code",
   "execution_count": 38,
   "id": "20f49282-0484-4f39-8fe7-555c0ebb4b6f",
   "metadata": {},
   "outputs": [
    {
     "name": "stdout",
     "output_type": "stream",
     "text": [
      "The slowest run took 6.37 times longer than the fastest. This could mean that an intermediate result is being cached.\n",
      "1000 loops, best of 3: 222 µs per loop\n"
     ]
    }
   ],
   "source": [
    "%%timeit\n",
    "integrate0(f,0,np.pi,10000)"
   ]
  },
  {
   "cell_type": "code",
   "execution_count": 42,
   "id": "eb5c2415-a807-4be2-bc9b-a55295228a95",
   "metadata": {},
   "outputs": [
    {
     "data": {
      "text/plain": [
       "1.9999999835506606"
      ]
     },
     "execution_count": 42,
     "metadata": {},
     "output_type": "execute_result"
    }
   ],
   "source": [
    "integrate1(f,0,np.pi,10000)"
   ]
  },
  {
   "cell_type": "code",
   "execution_count": 39,
   "id": "855bf318-47fe-49c4-986f-d63567779d92",
   "metadata": {},
   "outputs": [
    {
     "name": "stdout",
     "output_type": "stream",
     "text": [
      "10 loops, best of 3: 43.4 ms per loop\n"
     ]
    }
   ],
   "source": [
    "%%timeit\n",
    "integrate1(f,0,np.pi,10000)"
   ]
  },
  {
   "cell_type": "code",
   "execution_count": 40,
   "id": "37db0a9a-c282-4d1e-b37c-8baf9944f411",
   "metadata": {},
   "outputs": [
    {
     "data": {
      "text/plain": [
       "193.33333333333331"
      ]
     },
     "execution_count": 40,
     "metadata": {},
     "output_type": "execute_result"
    }
   ],
   "source": [
    "43.5e-3/225e-6"
   ]
  },
  {
   "cell_type": "code",
   "execution_count": null,
   "id": "3cea0ffd-d6a1-4cfb-87bf-842444778d86",
   "metadata": {},
   "outputs": [],
   "source": []
  }
 ],
 "metadata": {
  "kernelspec": {
   "display_name": "Python 3 (ipykernel)",
   "language": "python",
   "name": "python3"
  },
  "language_info": {
   "codemirror_mode": {
    "name": "ipython",
    "version": 3
   },
   "file_extension": ".py",
   "mimetype": "text/x-python",
   "name": "python",
   "nbconvert_exporter": "python",
   "pygments_lexer": "ipython3",
   "version": "3.9.17"
  }
 },
 "nbformat": 4,
 "nbformat_minor": 5
}
