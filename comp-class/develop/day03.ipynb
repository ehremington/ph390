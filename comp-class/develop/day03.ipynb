{
 "cells": [
  {
   "cell_type": "code",
   "execution_count": 1,
   "id": "04d0d37f-dc97-4a59-877d-c090b28c0b06",
   "metadata": {
    "tags": []
   },
   "outputs": [
    {
     "name": "stdin",
     "output_type": "stream",
     "text": [
      "Enter the height of the tower:  20\n",
      "Enter the time interval:  20\n"
     ]
    },
    {
     "name": "stdout",
     "output_type": "stream",
     "text": [
      "The height of the rock is  -1942.0  meters.\n"
     ]
    }
   ],
   "source": [
    "h = float(input(\"Enter the height of the tower: \"))\n",
    "t = float(input(\"Enter the time interval: \"))\n",
    "g = 9.81\n",
    "\n",
    "x = h - 1/2*g*t**2\n",
    "print(\"The height of the rock is \",x,\" meters.\")"
   ]
  },
  {
   "cell_type": "code",
   "execution_count": 22,
   "id": "fb613e51-bc5a-47be-a59b-6e95600d83c0",
   "metadata": {
    "tags": []
   },
   "outputs": [
    {
     "name": "stdin",
     "output_type": "stream",
     "text": [
      "Enter the height of the tower:  50\n"
     ]
    },
    {
     "name": "stdout",
     "output_type": "stream",
     "text": [
      "The time to hit the ground is  3.19  seconds.\n"
     ]
    }
   ],
   "source": [
    "h = float(input(\"Enter the height of the tower: \"))\n",
    "# t = float(input(\"Enter the time interval: \"))\n",
    "g = 9.81\n",
    "\n",
    "t = (2*h/g)**.5\n",
    "# x = h - 1/2*g*t**2\n",
    "print(\"The time to hit the ground is \",round(t,2),\" seconds.\")"
   ]
  },
  {
   "cell_type": "code",
   "execution_count": 1,
   "id": "4e40800a-b2d4-4316-a1df-fc4623daecf6",
   "metadata": {
    "tags": []
   },
   "outputs": [
    {
     "data": {
      "text/plain": [
       "2.220446049250313e-16"
      ]
     },
     "execution_count": 1,
     "metadata": {},
     "output_type": "execute_result"
    }
   ],
   "source": [
    "7/3 - 4/3 - 1"
   ]
  },
  {
   "cell_type": "code",
   "execution_count": 30,
   "id": "d8cf9b0e-3bdf-4061-ba52-bd999c3c481f",
   "metadata": {
    "tags": []
   },
   "outputs": [
    {
     "data": {
      "text/plain": [
       "(5, 6)"
      ]
     },
     "execution_count": 30,
     "metadata": {},
     "output_type": "execute_result"
    }
   ],
   "source": [
    "test[1:]"
   ]
  },
  {
   "cell_type": "code",
   "execution_count": null,
   "id": "c8986f06-fbc1-462a-aed2-9b73597360ee",
   "metadata": {},
   "outputs": [],
   "source": []
  }
 ],
 "metadata": {
  "kernelspec": {
   "display_name": "Python 3",
   "language": "python",
   "name": "python3"
  },
  "language_info": {
   "codemirror_mode": {
    "name": "ipython",
    "version": 3
   },
   "file_extension": ".py",
   "mimetype": "text/x-python",
   "name": "python",
   "nbconvert_exporter": "python",
   "pygments_lexer": "ipython3",
   "version": "3.6.13"
  }
 },
 "nbformat": 4,
 "nbformat_minor": 5
}
