{
 "cells": [
  {
   "cell_type": "markdown",
   "id": "7eb5b1f2-d0fd-4e8f-a427-fa1ca2d1ea3a",
   "metadata": {},
   "source": [
    "# Day 24"
   ]
  },
  {
   "cell_type": "code",
   "execution_count": 1,
   "id": "b8fae5af-47f8-479a-9bd5-f42b9070e4d6",
   "metadata": {
    "tags": []
   },
   "outputs": [],
   "source": [
    "import numpy as np\n",
    "import matplotlib.pyplot as plt\n",
    "import seaborn as sns"
   ]
  },
  {
   "cell_type": "code",
   "execution_count": 2,
   "id": "d72e337f-8f40-4d0d-ae70-609f466f9dbb",
   "metadata": {
    "tags": []
   },
   "outputs": [],
   "source": [
    "sns.set_theme()"
   ]
  },
  {
   "cell_type": "code",
   "execution_count": 3,
   "id": "9334b552-45e9-44db-a447-b7b5db15b10d",
   "metadata": {
    "tags": []
   },
   "outputs": [],
   "source": [
    "ti = np.linspace(0,10,100001)"
   ]
  },
  {
   "cell_type": "code",
   "execution_count": 4,
   "id": "72227968-6e4c-4cb2-a09e-81a3658c2db5",
   "metadata": {
    "tags": []
   },
   "outputs": [],
   "source": [
    "def vin(ti): return(np.floor(2*ti)%2*-2+1)"
   ]
  },
  {
   "cell_type": "code",
   "execution_count": 5,
   "id": "2374b3d9-3e01-4999-a7ae-ddf9220c0aaa",
   "metadata": {
    "tags": []
   },
   "outputs": [
    {
     "data": {
      "application/vnd.jupyter.widget-view+json": {
       "model_id": "09bbd89faa994b07b73c1301d648db55",
       "version_major": 2,
       "version_minor": 0
      },
      "text/plain": [
       "Canvas(toolbar=Toolbar(toolitems=[('Home', 'Reset original view', 'home', 'home'), ('Back', 'Back to previous …"
      ]
     },
     "metadata": {},
     "output_type": "display_data"
    },
    {
     "data": {
      "text/plain": [
       "[<matplotlib.lines.Line2D at 0x7ff9ad6b11d0>]"
      ]
     },
     "execution_count": 5,
     "metadata": {},
     "output_type": "execute_result"
    }
   ],
   "source": [
    "fig0, ax0 = plt.subplots()\n",
    "\n",
    "ax0.plot(ti, vin(ti))"
   ]
  },
  {
   "cell_type": "code",
   "execution_count": 8,
   "id": "503fdb94-d134-43ee-882e-7c9dad1868c0",
   "metadata": {
    "tags": []
   },
   "outputs": [],
   "source": [
    "# Runge-Kutta 4nd order\n",
    "\n",
    "def f(vout,t):\n",
    "    return(1/.01*(vin(t)-vout))\n",
    "\n",
    "# define boundary conditions\n",
    "\n",
    "a = 0.0 # starting point\n",
    "b = 10.0 # ending point\n",
    "N = 100000 # number of points between a and b\n",
    "dt = (b-a)/N\n",
    "\n",
    "x = 0.0 # initial condition\n",
    "\n",
    "\n",
    "tpoints = np.arange(a, b, dt)\n",
    "xpoints = []\n",
    "\n",
    "for t in tpoints:\n",
    "    xpoints.append(x)\n",
    "    k1 = dt*f(x,t)\n",
    "    k2 = dt*f(x+0.5*k1,t+0.5*dt)\n",
    "    k3 = dt*f(x+0.5*k2,t+0.5*dt)\n",
    "    k4 = dt*f(x+k3, t+dt)\n",
    "    x = x + (k1+2*k2+2*k3+k4)/6"
   ]
  },
  {
   "cell_type": "code",
   "execution_count": 9,
   "id": "27f54360-a494-4fdc-93cd-5f70744b36ee",
   "metadata": {
    "tags": []
   },
   "outputs": [
    {
     "data": {
      "application/vnd.jupyter.widget-view+json": {
       "model_id": "899251fc6883423d9c524b02850b47a4",
       "version_major": 2,
       "version_minor": 0
      },
      "text/plain": [
       "Canvas(toolbar=Toolbar(toolitems=[('Home', 'Reset original view', 'home', 'home'), ('Back', 'Back to previous …"
      ]
     },
     "metadata": {},
     "output_type": "display_data"
    },
    {
     "data": {
      "text/plain": [
       "[<matplotlib.lines.Line2D at 0x7ff9ac281358>]"
      ]
     },
     "execution_count": 9,
     "metadata": {},
     "output_type": "execute_result"
    }
   ],
   "source": [
    "fig1, ax1 = plt.subplots()\n",
    "\n",
    "ax1.plot(tpoints, vin(tpoints))\n",
    "ax1.plot(tpoints, xpoints)"
   ]
  },
  {
   "cell_type": "markdown",
   "id": "4ef4a067-aab8-4430-b48b-ceafdef5975b",
   "metadata": {},
   "source": [
    "Now do the above plot, but use a Sin wave, and rather than adjust RC, instead adjust the frequency of the wave. See how the low pass filter lets low frequencies go but stifles higher frequencies."
   ]
  },
  {
   "cell_type": "code",
   "execution_count": 14,
   "id": "7db75cec-f5a6-4a56-9b74-62e3603ceb59",
   "metadata": {
    "tags": []
   },
   "outputs": [],
   "source": [
    "# Runge-Kutta 4nd order\n",
    "\n",
    "def vin(t):\n",
    "    f = 1\n",
    "    return(np.sin(2*np.pi*f*t))\n",
    "\n",
    "def f(vout,t):\n",
    "    return(1/0.01*(vin(t)-vout))\n",
    "\n",
    "# define boundary conditions\n",
    "\n",
    "a = 0.0 # starting point\n",
    "b = 1.0 # ending point\n",
    "N = 100000 # number of points between a and b\n",
    "dt = (b-a)/N\n",
    "\n",
    "x = 0.0 # initial condition\n",
    "\n",
    "\n",
    "tpoints = np.arange(a, b, dt)\n",
    "xpoints = []\n",
    "\n",
    "for t in tpoints:\n",
    "    xpoints.append(x)\n",
    "    k1 = dt*f(x,t)\n",
    "    k2 = dt*f(x+0.5*k1,t+0.5*dt)\n",
    "    k3 = dt*f(x+0.5*k2,t+0.5*dt)\n",
    "    k4 = dt*f(x+k3, t+dt)\n",
    "    x = x + (k1+2*k2+2*k3+k4)/6"
   ]
  },
  {
   "cell_type": "code",
   "execution_count": 15,
   "id": "29039ef4-515e-43fd-b1f1-956c1f196905",
   "metadata": {
    "tags": []
   },
   "outputs": [
    {
     "data": {
      "application/vnd.jupyter.widget-view+json": {
       "model_id": "268e6a6ba0aa4d8f920c1be422f234a4",
       "version_major": 2,
       "version_minor": 0
      },
      "text/plain": [
       "Canvas(toolbar=Toolbar(toolitems=[('Home', 'Reset original view', 'home', 'home'), ('Back', 'Back to previous …"
      ]
     },
     "metadata": {},
     "output_type": "display_data"
    },
    {
     "data": {
      "text/plain": [
       "[<matplotlib.lines.Line2D at 0x7ff9ac452e80>]"
      ]
     },
     "execution_count": 15,
     "metadata": {},
     "output_type": "execute_result"
    }
   ],
   "source": [
    "fig2, ax2 = plt.subplots()\n",
    "ax2.plot(tpoints[:100], vin(tpoints[:100]))\n",
    "ax2.plot(tpoints[:100], xpoints[:100])"
   ]
  },
  {
   "cell_type": "code",
   "execution_count": 16,
   "id": "8f65635f-4c7b-4a06-ab09-d2349432af75",
   "metadata": {
    "tags": []
   },
   "outputs": [],
   "source": [
    "plt.close('all')"
   ]
  },
  {
   "cell_type": "code",
   "execution_count": null,
   "id": "65feb5c3-52f5-4a68-a0d9-0e275bdd033e",
   "metadata": {},
   "outputs": [],
   "source": []
  }
 ],
 "metadata": {
  "kernelspec": {
   "display_name": "Python 3",
   "language": "python",
   "name": "python3"
  },
  "language_info": {
   "codemirror_mode": {
    "name": "ipython",
    "version": 3
   },
   "file_extension": ".py",
   "mimetype": "text/x-python",
   "name": "python",
   "nbconvert_exporter": "python",
   "pygments_lexer": "ipython3",
   "version": "3.6.13"
  }
 },
 "nbformat": 4,
 "nbformat_minor": 5
}
