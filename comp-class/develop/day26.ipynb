{
 "cells": [
  {
   "cell_type": "markdown",
   "id": "0eca9d6e-23b0-4ab0-bbfc-555e96531fe5",
   "metadata": {},
   "source": [
    "# Day 26"
   ]
  },
  {
   "cell_type": "code",
   "execution_count": null,
   "id": "d074cae4-8c54-4fdb-8c21-22378e34871d",
   "metadata": {},
   "outputs": [],
   "source": []
  },
  {
   "cell_type": "code",
   "execution_count": 5,
   "id": "26cf4792-d61f-4843-a59f-1d3f62228f48",
   "metadata": {
    "tags": []
   },
   "outputs": [],
   "source": [
    "# Runge-Kutta 4nd order\n",
    "\n",
    "def f(r,t):\n",
    "    y = r[0]\n",
    "    v = r[1]\n",
    "    fy = v\n",
    "    fv = -9.81\n",
    "    return(np.array([fy,fv],float))\n",
    "\n",
    "# define boundary conditions\n",
    "\n",
    "t0 = 0.0 # starting point\n",
    "tf = 10.0 # ending point\n",
    "N = 1000 # number of points between a and b\n",
    "dt = (tf-t0)/N\n",
    "\n",
    "r = np.array([100,0],float) # initial condition\n",
    "\n",
    "tpoints = np.arange(t0, tf, dt)\n",
    "ypoints = []\n",
    "vpoints = []\n",
    "\n",
    "for t in tpoints:\n",
    "    ypoints.append(r[0])\n",
    "    vpoints.append(r[1])\n",
    "    k1 = dt*f(r,t)\n",
    "    k2 = dt*f(r+0.5*k1,t+0.5*dt)\n",
    "    k3 = dt*f(r+0.5*k2,t+0.5*dt)\n",
    "    k4 = dt*f(r+k3, t+dt)\n",
    "    r = r + (k1+2*k2+2*k3+k4)/6"
   ]
  },
  {
   "cell_type": "code",
   "execution_count": 6,
   "id": "83a0dce7-47bb-4fb1-82fe-8253fe6d4cde",
   "metadata": {},
   "outputs": [
    {
     "data": {
      "application/vnd.jupyter.widget-view+json": {
       "model_id": "224b827116084e50b59a91c987fb28e2",
       "version_major": 2,
       "version_minor": 0
      },
      "text/plain": [
       "Canvas(toolbar=Toolbar(toolitems=[('Home', 'Reset original view', 'home', 'home'), ('Back', 'Back to previous …"
      ]
     },
     "metadata": {},
     "output_type": "display_data"
    },
    {
     "data": {
      "text/plain": [
       "[<matplotlib.lines.Line2D at 0x7ff17e871a20>]"
      ]
     },
     "execution_count": 6,
     "metadata": {},
     "output_type": "execute_result"
    }
   ],
   "source": [
    "fig0, ax0 = plt.subplots()\n",
    "ax0.plot(tpoints, ypoints)"
   ]
  },
  {
   "cell_type": "code",
   "execution_count": null,
   "id": "8d9fd2c1-3b8e-4be8-8b19-b4d1b63a4d82",
   "metadata": {},
   "outputs": [],
   "source": []
  },
  {
   "cell_type": "code",
   "execution_count": null,
   "id": "be03b874-f64e-4e97-8e78-cfb85adb294a",
   "metadata": {},
   "outputs": [],
   "source": []
  },
  {
   "cell_type": "code",
   "execution_count": null,
   "id": "23a7346c-11d7-4d5d-aa0e-3a58c05cd04b",
   "metadata": {},
   "outputs": [],
   "source": []
  }
 ],
 "metadata": {
  "kernelspec": {
   "display_name": "Python 3",
   "language": "python",
   "name": "python3"
  },
  "language_info": {
   "codemirror_mode": {
    "name": "ipython",
    "version": 3
   },
   "file_extension": ".py",
   "mimetype": "text/x-python",
   "name": "python",
   "nbconvert_exporter": "python",
   "pygments_lexer": "ipython3",
   "version": "3.6.13"
  }
 },
 "nbformat": 4,
 "nbformat_minor": 5
}
