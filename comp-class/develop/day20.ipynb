{
 "cells": [
  {
   "cell_type": "markdown",
   "id": "e98af95b-cbfe-4d96-af5a-e1df1348f4e8",
   "metadata": {},
   "source": [
    "## Day 20\n",
    "\n",
    "We worked in excel/google sheets solving differential equations"
   ]
  },
  {
   "cell_type": "code",
   "execution_count": null,
   "id": "fd72b9ad-97bd-40ed-a6fe-1db44e915785",
   "metadata": {},
   "outputs": [],
   "source": []
  }
 ],
 "metadata": {
  "kernelspec": {
   "display_name": "Python 3",
   "language": "python",
   "name": "python3"
  },
  "language_info": {
   "codemirror_mode": {
    "name": "ipython",
    "version": 3
   },
   "file_extension": ".py",
   "mimetype": "text/x-python",
   "name": "python",
   "nbconvert_exporter": "python",
   "pygments_lexer": "ipython3",
   "version": "3.6.13"
  }
 },
 "nbformat": 4,
 "nbformat_minor": 5
}
