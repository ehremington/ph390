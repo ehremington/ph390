{
 "cells": [
  {
   "cell_type": "markdown",
   "id": "9eaaa1f4-6b27-45e2-9ee6-7a636b51630d",
   "metadata": {},
   "source": [
    "# Day 8 - Importing data and plotting"
   ]
  },
  {
   "cell_type": "code",
   "execution_count": 1,
   "id": "d2494ec4-1c7b-47f8-ab90-eb6df5a466b9",
   "metadata": {},
   "outputs": [],
   "source": [
    "import numpy as np\n",
    "import pandas as pd\n",
    "import matplotlib.pyplot as plt"
   ]
  },
  {
   "cell_type": "code",
   "execution_count": 2,
   "id": "7a46d0bb-9d18-4a99-9a4c-24b666f61e5e",
   "metadata": {},
   "outputs": [],
   "source": [
    "data = np.loadtxt('../data/150407-02.dat', skiprows=1)"
   ]
  },
  {
   "cell_type": "code",
   "execution_count": 3,
   "id": "a8fd8c78-a110-4602-9c9d-1a3984b6c121",
   "metadata": {},
   "outputs": [],
   "source": [
    "data1 = data.T"
   ]
  },
  {
   "cell_type": "code",
   "execution_count": 4,
   "id": "b9837098-5f83-4dc0-bd08-08f4ca4dc2b6",
   "metadata": {},
   "outputs": [
    {
     "data": {
      "text/plain": [
       "array([[20.  , 20.01, 20.02, ..., 74.98, 74.99, 75.  ],\n",
       "       [28.  , 17.  , 23.  , ...,  8.  , 12.  ,  0.  ]])"
      ]
     },
     "execution_count": 4,
     "metadata": {},
     "output_type": "execute_result"
    }
   ],
   "source": [
    "data1"
   ]
  },
  {
   "cell_type": "code",
   "execution_count": 5,
   "id": "285566a4-e953-486a-9d30-56b0902022e7",
   "metadata": {},
   "outputs": [
    {
     "data": {
      "application/vnd.jupyter.widget-view+json": {
       "model_id": "9f369cb408f24c7e90fe56eb24983d4e",
       "version_major": 2,
       "version_minor": 0
      },
      "text/plain": [
       "Canvas(toolbar=Toolbar(toolitems=[('Home', 'Reset original view', 'home', 'home'), ('Back', 'Back to previous …"
      ]
     },
     "metadata": {},
     "output_type": "display_data"
    },
    {
     "data": {
      "text/plain": [
       "Text(0, 0.5, 'Intensity (a.u.)')"
      ]
     },
     "execution_count": 5,
     "metadata": {},
     "output_type": "execute_result"
    }
   ],
   "source": [
    "fig0 = plt.figure()\n",
    "ax0 = fig0.add_subplot()\n",
    "\n",
    "ax0.plot(data1[0],data1[1])\n",
    "\n",
    "ax0.set_xlabel(r'2 $\\theta$')\n",
    "ax0.set_ylabel('Intensity (a.u.)')"
   ]
  },
  {
   "cell_type": "code",
   "execution_count": 16,
   "id": "5c9842ed-203f-497b-8c9a-33e297ec7e7b",
   "metadata": {},
   "outputs": [],
   "source": [
    "fig0.savefig('150704-02-plot.png')"
   ]
  },
  {
   "cell_type": "code",
   "execution_count": null,
   "id": "77230b71-92ca-406b-af95-a6313c813422",
   "metadata": {},
   "outputs": [],
   "source": []
  }
 ],
 "metadata": {
  "kernelspec": {
   "display_name": "Python 3",
   "language": "python",
   "name": "python3"
  },
  "language_info": {
   "codemirror_mode": {
    "name": "ipython",
    "version": 3
   },
   "file_extension": ".py",
   "mimetype": "text/x-python",
   "name": "python",
   "nbconvert_exporter": "python",
   "pygments_lexer": "ipython3",
   "version": "3.6.13"
  }
 },
 "nbformat": 4,
 "nbformat_minor": 5
}
