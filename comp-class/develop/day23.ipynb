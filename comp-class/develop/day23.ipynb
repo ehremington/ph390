{
 "cells": [
  {
   "cell_type": "markdown",
   "id": "0c674939-003b-42f1-a987-04f791683282",
   "metadata": {},
   "source": [
    "## Day 23?"
   ]
  },
  {
   "cell_type": "code",
   "execution_count": 1,
   "id": "a6f57ae6-df4d-4a97-ad1d-8fed6dd9ac34",
   "metadata": {},
   "outputs": [],
   "source": [
    "import numpy as np\n",
    "import matplotlib.pyplot as plt"
   ]
  },
  {
   "cell_type": "code",
   "execution_count": 2,
   "id": "435f48c1-c60e-40ff-abc5-85ab28124351",
   "metadata": {},
   "outputs": [],
   "source": [
    "import seaborn as sns\n",
    "sns.set_theme()"
   ]
  },
  {
   "cell_type": "code",
   "execution_count": 3,
   "id": "bb83f67e-7d36-4619-b6ff-4ba7ca8f4715",
   "metadata": {
    "tags": []
   },
   "outputs": [],
   "source": [
    "# Euler's Method\n",
    "\n",
    "def f(x,t):\n",
    "    return(-x**3 + np.sin(t))\n",
    "\n",
    "# define boundary conditions\n",
    "\n",
    "a = 0.0 # starting point\n",
    "b = 3.0 # ending point\n",
    "N = 100 # number of points between a and b\n",
    "dt = (b-a)/N\n",
    "\n",
    "x = 0.0 # initial condition\n",
    "\n",
    "\n",
    "tpointsE = np.arange(a, b, dt)\n",
    "xpointsE = []\n",
    "\n",
    "for t in tpointsE:\n",
    "    xpointsE.append(x)\n",
    "    x = x + dt*f(x,t)"
   ]
  },
  {
   "cell_type": "code",
   "execution_count": 4,
   "id": "f7cb2d02-2ba1-46bc-97ff-a7dfa88433c0",
   "metadata": {},
   "outputs": [],
   "source": [
    "# Runge-Kutta 2nd order\n",
    "\n",
    "def f(x,t):\n",
    "    return(-x**3 + np.sin(t))\n",
    "\n",
    "# define boundary conditions\n",
    "\n",
    "a = 0.0 # starting point\n",
    "b = 3.0 # ending point\n",
    "N = 100 # number of points between a and b\n",
    "dt = (b-a)/N\n",
    "\n",
    "x = 0.0 # initial condition\n",
    "\n",
    "\n",
    "tpointsRK2 = np.arange(a, b, dt)\n",
    "xpointsRK2 = []\n",
    "\n",
    "for t in tpointsRK2:\n",
    "    xpointsRK2.append(x)\n",
    "    k1 = dt*f(x,t)\n",
    "    k2 = dt*f(x+0.5*k1,t+0.5*dt)\n",
    "    x = x + k2"
   ]
  },
  {
   "cell_type": "code",
   "execution_count": 5,
   "id": "58524d9e-2a4d-491f-b506-99510cb884f3",
   "metadata": {},
   "outputs": [],
   "source": [
    "# Runge-Kutta 4nd order\n",
    "\n",
    "def f(x,t):\n",
    "    return(-x**3 + np.sin(t))\n",
    "\n",
    "# define boundary conditions\n",
    "\n",
    "a = 0.0 # starting point\n",
    "b = 3.0 # ending point\n",
    "N = 100 # number of points between a and b\n",
    "dt = (b-a)/N\n",
    "\n",
    "x = 0.0 # initial condition\n",
    "\n",
    "\n",
    "tpointsRK4 = np.arange(a, b, dt)\n",
    "xpointsRK4 = []\n",
    "\n",
    "for t in tpointsRK4:\n",
    "    xpointsRK4.append(x)\n",
    "    k1 = dt*f(x,t)\n",
    "    k2 = dt*f(x+0.5*k1,t+0.5*dt)\n",
    "    k3 = dt*f(x+0.5*k2,t+0.5*dt)\n",
    "    k4 = dt*f(x+k3, t+dt)\n",
    "    x = x + (k1+2*k2+2*k3+k4)/6"
   ]
  },
  {
   "cell_type": "code",
   "execution_count": 6,
   "id": "861b789a-19a0-465c-ba90-96c258869e2f",
   "metadata": {},
   "outputs": [
    {
     "data": {
      "application/vnd.jupyter.widget-view+json": {
       "model_id": "5c701b41dcce4bb9802e484bd933de73",
       "version_major": 2,
       "version_minor": 0
      },
      "text/plain": [
       "Canvas(toolbar=Toolbar(toolitems=[('Home', 'Reset original view', 'home', 'home'), ('Back', 'Back to previous …"
      ]
     },
     "metadata": {},
     "output_type": "display_data"
    },
    {
     "data": {
      "text/plain": [
       "[<matplotlib.lines.Line2D at 0x7f6001b31240>]"
      ]
     },
     "execution_count": 6,
     "metadata": {},
     "output_type": "execute_result"
    }
   ],
   "source": [
    "fig0,ax0 = plt.subplots()\n",
    "\n",
    "ax0.plot(tpointsE, xpointsE, 'o')\n",
    "ax0.plot(tpointsRK2, xpointsRK2, 'o')\n",
    "ax0.plot(tpointsRK4, xpointsRK4, 'o')"
   ]
  },
  {
   "cell_type": "code",
   "execution_count": null,
   "id": "d587960c-4b75-4607-b0a5-c147fb939c14",
   "metadata": {},
   "outputs": [],
   "source": []
  }
 ],
 "metadata": {
  "kernelspec": {
   "display_name": "Python 3",
   "language": "python",
   "name": "python3"
  },
  "language_info": {
   "codemirror_mode": {
    "name": "ipython",
    "version": 3
   },
   "file_extension": ".py",
   "mimetype": "text/x-python",
   "name": "python",
   "nbconvert_exporter": "python",
   "pygments_lexer": "ipython3",
   "version": "3.6.13"
  }
 },
 "nbformat": 4,
 "nbformat_minor": 5
}
