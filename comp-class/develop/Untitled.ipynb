{
 "cells": [
  {
   "cell_type": "code",
   "execution_count": 1,
   "id": "a574fe70-afd4-4e4d-9e86-aae994f16bf0",
   "metadata": {
    "tags": []
   },
   "outputs": [],
   "source": [
    "%matplotlib widget"
   ]
  },
  {
   "cell_type": "code",
   "execution_count": 2,
   "id": "6c57e89a-7343-47a2-a509-e8a72041546f",
   "metadata": {
    "tags": []
   },
   "outputs": [],
   "source": [
    "import numpy as np\n",
    "import matplotlib.pyplot as plt"
   ]
  },
  {
   "cell_type": "code",
   "execution_count": 3,
   "id": "5b66386a-5172-42e0-a672-855d558759df",
   "metadata": {
    "tags": []
   },
   "outputs": [],
   "source": [
    "from scripts import cRK4"
   ]
  },
  {
   "cell_type": "code",
   "execution_count": 4,
   "id": "ef495b3d-685b-4eb5-81a8-f09b0e7e5ce7",
   "metadata": {},
   "outputs": [],
   "source": [
    "import sys"
   ]
  },
  {
   "cell_type": "code",
   "execution_count": 5,
   "id": "f10b6057-59ce-4aa5-99b8-13bf950b8e1f",
   "metadata": {
    "tags": []
   },
   "outputs": [
    {
     "data": {
      "text/plain": [
       "['C:\\\\Users\\\\ehreming\\\\Dropbox\\\\390\\\\comp-class\\\\develop',\n",
       " 'C:\\\\Users\\\\ehreming\\\\Dropbox\\\\390\\\\comp-class\\\\scripts',\n",
       " 'C:\\\\Users\\\\ehreming\\\\Anaconda3\\\\python39.zip',\n",
       " 'C:\\\\Users\\\\ehreming\\\\Anaconda3\\\\DLLs',\n",
       " 'C:\\\\Users\\\\ehreming\\\\Anaconda3\\\\lib',\n",
       " 'C:\\\\Users\\\\ehreming\\\\Anaconda3',\n",
       " '',\n",
       " 'C:\\\\Users\\\\ehreming\\\\Anaconda3\\\\lib\\\\site-packages',\n",
       " 'C:\\\\Users\\\\ehreming\\\\Anaconda3\\\\lib\\\\site-packages\\\\win32',\n",
       " 'C:\\\\Users\\\\ehreming\\\\Anaconda3\\\\lib\\\\site-packages\\\\win32\\\\lib',\n",
       " 'C:\\\\Users\\\\ehreming\\\\Anaconda3\\\\lib\\\\site-packages\\\\Pythonwin']"
      ]
     },
     "execution_count": 5,
     "metadata": {},
     "output_type": "execute_result"
    }
   ],
   "source": [
    "sys.path"
   ]
  },
  {
   "cell_type": "code",
   "execution_count": null,
   "id": "46b7c956-943e-4537-acb4-4d0447c56d2c",
   "metadata": {},
   "outputs": [],
   "source": []
  }
 ],
 "metadata": {
  "kernelspec": {
   "display_name": "Python 3",
   "language": "python",
   "name": "python3"
  },
  "language_info": {
   "codemirror_mode": {
    "name": "ipython",
    "version": 3
   },
   "file_extension": ".py",
   "mimetype": "text/x-python",
   "name": "python",
   "nbconvert_exporter": "python",
   "pygments_lexer": "ipython3",
   "version": "3.6.13"
  }
 },
 "nbformat": 4,
 "nbformat_minor": 5
}
