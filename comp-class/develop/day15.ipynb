{
 "cells": [
  {
   "cell_type": "markdown",
   "id": "0a1d5a93-56c9-498b-95ff-4b4ac968a03d",
   "metadata": {},
   "source": [
    "# Day 15"
   ]
  },
  {
   "cell_type": "code",
   "execution_count": 1,
   "id": "79405508-31ea-4450-8a38-ab768aaf8a82",
   "metadata": {},
   "outputs": [],
   "source": [
    "import numpy as np\n",
    "import matplotlib.pyplot as plt"
   ]
  },
  {
   "cell_type": "code",
   "execution_count": 3,
   "id": "a2067814-e60d-4176-ac14-d83476d65a62",
   "metadata": {},
   "outputs": [],
   "source": [
    "h = (2-1)/1000"
   ]
  },
  {
   "cell_type": "code",
   "execution_count": 4,
   "id": "4e98ba41-528c-4fde-94a4-2ac05e2dcb22",
   "metadata": {},
   "outputs": [
    {
     "data": {
      "text/plain": [
       "0.001"
      ]
     },
     "execution_count": 4,
     "metadata": {},
     "output_type": "execute_result"
    }
   ],
   "source": [
    "h"
   ]
  },
  {
   "cell_type": "code",
   "execution_count": 11,
   "id": "7fa4d1cc-f7e9-4438-9caf-a48af70ef310",
   "metadata": {},
   "outputs": [],
   "source": [
    "x = np.linspace(1,2,1001)"
   ]
  },
  {
   "cell_type": "code",
   "execution_count": 12,
   "id": "3a4bfecc-2fc9-49a6-aa0c-faedf4de19aa",
   "metadata": {},
   "outputs": [
    {
     "data": {
      "text/plain": [
       "1.0"
      ]
     },
     "execution_count": 12,
     "metadata": {},
     "output_type": "execute_result"
    }
   ],
   "source": [
    "x[0]"
   ]
  },
  {
   "cell_type": "code",
   "execution_count": 13,
   "id": "c14387e9-5699-40e0-9993-3691bc35fc68",
   "metadata": {},
   "outputs": [
    {
     "data": {
      "text/plain": [
       "1.001"
      ]
     },
     "execution_count": 13,
     "metadata": {},
     "output_type": "execute_result"
    }
   ],
   "source": [
    "x[1]"
   ]
  },
  {
   "cell_type": "code",
   "execution_count": 14,
   "id": "9b2a3b46-c522-4e6a-ac42-8e09d0f66417",
   "metadata": {},
   "outputs": [
    {
     "data": {
      "text/plain": [
       "0.0009999999999998899"
      ]
     },
     "execution_count": 14,
     "metadata": {},
     "output_type": "execute_result"
    }
   ],
   "source": [
    "x[1]-x[0]"
   ]
  },
  {
   "cell_type": "code",
   "execution_count": 21,
   "id": "b7455437-fee8-4991-ad13-da207bf65e70",
   "metadata": {},
   "outputs": [],
   "source": [
    "def integrate(func, a, b, steps):\n",
    "    h = (b-a)/steps\n",
    "    s = (func(a)+func(b))*h/2\n",
    "    x = np.linspace(a, b, steps+1)\n",
    "    y = func(x)\n",
    "    s = s + np.sum(y[1:steps]*h)\n",
    "    return(s)\n",
    "    "
   ]
  },
  {
   "cell_type": "code",
   "execution_count": 22,
   "id": "60224ebe-b3e1-4832-9d46-f8e0bdab4458",
   "metadata": {},
   "outputs": [],
   "source": [
    "def f(x):\n",
    "    return(x)"
   ]
  },
  {
   "cell_type": "code",
   "execution_count": 23,
   "id": "1e98c4a3-949d-49e0-91fb-57db923bfd04",
   "metadata": {},
   "outputs": [
    {
     "data": {
      "text/plain": [
       "1.5"
      ]
     },
     "execution_count": 23,
     "metadata": {},
     "output_type": "execute_result"
    }
   ],
   "source": [
    "integrate(f,1,2,1000)"
   ]
  },
  {
   "cell_type": "code",
   "execution_count": 24,
   "id": "35f62d93-d285-4df9-85ae-fa0f1db1e575",
   "metadata": {},
   "outputs": [],
   "source": [
    "def f1(x):\n",
    "    return(np.exp(3*x))"
   ]
  },
  {
   "cell_type": "code",
   "execution_count": 25,
   "id": "2b3f90e1-2945-45ce-8ffb-4ce82ba54503",
   "metadata": {},
   "outputs": [
    {
     "data": {
      "text/plain": [
       "127.78118135898225"
      ]
     },
     "execution_count": 25,
     "metadata": {},
     "output_type": "execute_result"
    }
   ],
   "source": [
    "integrate(f1,1,2,1000)"
   ]
  },
  {
   "cell_type": "code",
   "execution_count": null,
   "id": "4e76a5b8-f991-40ef-8723-f81fbb722acf",
   "metadata": {},
   "outputs": [],
   "source": []
  }
 ],
 "metadata": {
  "kernelspec": {
   "display_name": "Python 3",
   "language": "python",
   "name": "python3"
  },
  "language_info": {
   "codemirror_mode": {
    "name": "ipython",
    "version": 3
   },
   "file_extension": ".py",
   "mimetype": "text/x-python",
   "name": "python",
   "nbconvert_exporter": "python",
   "pygments_lexer": "ipython3",
   "version": "3.6.13"
  }
 },
 "nbformat": 4,
 "nbformat_minor": 5
}
