{
 "cells": [
  {
   "cell_type": "markdown",
   "id": "f094034f-bce1-4ff8-8eb1-ebbe106718a0",
   "metadata": {},
   "source": [
    "# Day 29"
   ]
  },
  {
   "cell_type": "code",
   "execution_count": 6,
   "id": "3f40c54c-d23b-4b82-8889-4249566f65d5",
   "metadata": {},
   "outputs": [],
   "source": [
    "def f(r,t):\n",
    "    x = r[0]\n",
    "    y = r[1]\n",
    "    z = r[2]\n",
    "    s = 10\n",
    "    t = 28\n",
    "    b = 8/3\n",
    "    fx = s*(y-x)\n",
    "    fy = t*x-y-x*z\n",
    "    fz = x*y-b*z\n",
    "    return(np.array([fx, fy, fz],float))\n",
    "\n",
    "def cRK4(f, tf, x0, y0, z0, t0=0, dt=2**-5): \n",
    "\n",
    "    r = np.array([x0,y0,z0],float) # initial condition\n",
    "\n",
    "    tpoints = np.arange(t0, tf, dt)\n",
    "    xpoints = []\n",
    "    ypoints = []\n",
    "    zpoints = []\n",
    "\n",
    "    for t in tpoints:\n",
    "        xpoints.append(r[0])\n",
    "        ypoints.append(r[1])\n",
    "        zpoints.append(r[2])\n",
    "        k1 = dt*f(r,t)\n",
    "        k2 = dt*f(r+0.5*k1,t+0.5*dt)\n",
    "        k3 = dt*f(r+0.5*k2,t+0.5*dt)\n",
    "        k4 = dt*f(r+k3, t+dt)\n",
    "        r = r + (k1+2*k2+2*k3+k4)/6\n",
    "        \n",
    "    return(tpoints, xpoints, ypoints, zpoints)"
   ]
  },
  {
   "cell_type": "code",
   "execution_count": 7,
   "id": "6aa7baec-121e-4e5b-af3d-9a55de097318",
   "metadata": {},
   "outputs": [],
   "source": [
    "t, x, y, z = cRK4(f, 50, 0, 1, 0)"
   ]
  },
  {
   "cell_type": "code",
   "execution_count": 8,
   "id": "ffe83b27-9d2e-4c09-b271-27df4db9cb00",
   "metadata": {},
   "outputs": [
    {
     "data": {
      "application/vnd.jupyter.widget-view+json": {
       "model_id": "e1c1c5d4229a4822a2c5a4f255395edc",
       "version_major": 2,
       "version_minor": 0
      },
      "text/plain": [
       "Canvas(toolbar=Toolbar(toolitems=[('Home', 'Reset original view', 'home', 'home'), ('Back', 'Back to previous …"
      ]
     },
     "metadata": {},
     "output_type": "display_data"
    },
    {
     "data": {
      "text/plain": [
       "[<matplotlib.lines.Line2D at 0x7f747741c518>]"
      ]
     },
     "execution_count": 8,
     "metadata": {},
     "output_type": "execute_result"
    }
   ],
   "source": [
    "fig0, ax0 = plt.subplots()\n",
    "ax0.plot(t,y)"
   ]
  },
  {
   "cell_type": "code",
   "execution_count": 10,
   "id": "9c72b2cd-c0d3-4388-8e32-82d94d69c31f",
   "metadata": {},
   "outputs": [
    {
     "data": {
      "application/vnd.jupyter.widget-view+json": {
       "model_id": "baba72ceeb004a76b090e6da54ad4b2d",
       "version_major": 2,
       "version_minor": 0
      },
      "text/plain": [
       "Canvas(toolbar=Toolbar(toolitems=[('Home', 'Reset original view', 'home', 'home'), ('Back', 'Back to previous …"
      ]
     },
     "metadata": {},
     "output_type": "display_data"
    },
    {
     "data": {
      "text/plain": [
       "[<matplotlib.lines.Line2D at 0x7f747676bb38>]"
      ]
     },
     "execution_count": 10,
     "metadata": {},
     "output_type": "execute_result"
    }
   ],
   "source": [
    "fig1, ax1 = plt.subplots()\n",
    "ax1.plot(x, z)"
   ]
  },
  {
   "cell_type": "code",
   "execution_count": null,
   "id": "d8510df9-9395-4bf2-a99b-5ce02463dde3",
   "metadata": {},
   "outputs": [],
   "source": [
    "def projectile(f, tf, x0, y0, z0, t0=0, dt=2**-5): \n",
    "\n",
    "    r = np.array([x0,y0,z0],float) # initial condition\n",
    "\n",
    "    tpoints = np.arange(t0, tf, dt)\n",
    "    xpoints = []\n",
    "    ypoints = []\n",
    "    zpoints = []\n",
    "\n",
    "    for t in tpoints:\n",
    "        xpoints.append(r[0])\n",
    "        ypoints.append(r[1])\n",
    "        zpoints.append(r[2])\n",
    "        k1 = dt*f(r,t)\n",
    "        k2 = dt*f(r+0.5*k1,t+0.5*dt)\n",
    "        k3 = dt*f(r+0.5*k2,t+0.5*dt)\n",
    "        k4 = dt*f(r+k3, t+dt)\n",
    "        r = r + (k1+2*k2+2*k3+k4)/6\n",
    "        \n",
    "    return(tpoints, xpoints, ypoints, zpoints)"
   ]
  },
  {
   "cell_type": "code",
   "execution_count": null,
   "id": "baec180c-9703-4735-84db-4f7444192d39",
   "metadata": {},
   "outputs": [],
   "source": [
    "def f(r,t):\n",
    "    x = r[0]\n",
    "    vx = r[1]\n",
    "    y = r[2]\n",
    "    vy = r[3]\n",
    "    R = \n",
    "    m = \n",
    "    g = 9.8\n",
    "    rho = \n",
    "    C = \n",
    "    fx = \n",
    "    fvx = \n",
    "    fy = \n",
    "    fvy = \n",
    "    \n",
    "    return(np.array([fx, fy, fz],float))"
   ]
  }
 ],
 "metadata": {
  "kernelspec": {
   "display_name": "Python 3",
   "language": "python",
   "name": "python3"
  },
  "language_info": {
   "codemirror_mode": {
    "name": "ipython",
    "version": 3
   },
   "file_extension": ".py",
   "mimetype": "text/x-python",
   "name": "python",
   "nbconvert_exporter": "python",
   "pygments_lexer": "ipython3",
   "version": "3.6.13"
  }
 },
 "nbformat": 4,
 "nbformat_minor": 5
}
