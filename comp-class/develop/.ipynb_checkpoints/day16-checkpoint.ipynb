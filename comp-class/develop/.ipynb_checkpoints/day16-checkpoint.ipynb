{
 "cells": [
  {
   "cell_type": "code",
   "execution_count": 1,
   "id": "a93ffedb-239d-46e1-b9e0-d9c71c0e164a",
   "metadata": {},
   "outputs": [],
   "source": [
    "import numpy as np\n",
    "import matplotlib.pyplot as plt"
   ]
  },
  {
   "cell_type": "code",
   "execution_count": 2,
   "id": "bb328fcf-b1ce-4e03-b0d1-29d048215da5",
   "metadata": {},
   "outputs": [],
   "source": [
    "def integrate0(func, a, b, steps):\n",
    "    h = (b-a)/steps\n",
    "    s = (func(a)+func(b))*h/2\n",
    "    x = np.linspace(a, b, steps+1)\n",
    "    y = func(x)\n",
    "    s = s + np.sum(y[1:steps]*h)\n",
    "    return(s)\n",
    "\n",
    "def integrate1(func, a, b, steps):\n",
    "    h = (b-a)/steps\n",
    "    x = np.linspace(a, b, steps+1)\n",
    "    s = 0\n",
    "    for i in x[:-1]:\n",
    "        s = s + (func(i+h)+func(i))/2*h\n",
    "    return(s)"
   ]
  },
  {
   "cell_type": "code",
   "execution_count": 3,
   "id": "471497d8-b0cc-4648-9ef5-4f0dfe764d49",
   "metadata": {},
   "outputs": [],
   "source": [
    "def f(x):\n",
    "    return(np.sin(x))"
   ]
  },
  {
   "cell_type": "code",
   "execution_count": 7,
   "id": "0bf9a8bb-c0be-4ccd-a9e9-03194ffaf3b0",
   "metadata": {},
   "outputs": [
    {
     "data": {
      "text/plain": [
       "1.9999999835506597"
      ]
     },
     "execution_count": 7,
     "metadata": {},
     "output_type": "execute_result"
    }
   ],
   "source": [
    "integrate0(f, 0, np.pi, 10000)"
   ]
  },
  {
   "cell_type": "code",
   "execution_count": 8,
   "id": "482c29df-4a20-42aa-a25a-179527d04de7",
   "metadata": {},
   "outputs": [
    {
     "name": "stdout",
     "output_type": "stream",
     "text": [
      "The slowest run took 6.21 times longer than the fastest. This could mean that an intermediate result is being cached.\n",
      "1000 loops, best of 3: 196 µs per loop\n"
     ]
    }
   ],
   "source": [
    "%%timeit\n",
    "integrate0(f, 0, np.pi, 10000)"
   ]
  },
  {
   "cell_type": "code",
   "execution_count": 9,
   "id": "14f876cf-73e8-41ff-ab1f-0d267520d9b5",
   "metadata": {},
   "outputs": [
    {
     "name": "stdout",
     "output_type": "stream",
     "text": [
      "10 loops, best of 3: 39.1 ms per loop\n"
     ]
    }
   ],
   "source": [
    "%%timeit\n",
    "integrate1(f, 0, np.pi, 10000)"
   ]
  },
  {
   "cell_type": "code",
   "execution_count": 10,
   "id": "b082f38e-6574-48fc-88b5-fe3f22e04f9b",
   "metadata": {},
   "outputs": [
    {
     "data": {
      "text/plain": [
       "199.48979591836738"
      ]
     },
     "execution_count": 10,
     "metadata": {},
     "output_type": "execute_result"
    }
   ],
   "source": [
    "39.1*10**-3/(196*10**-6)"
   ]
  },
  {
   "cell_type": "code",
   "execution_count": 12,
   "id": "9e9bade8-8812-4f55-bb90-fd363f0cff49",
   "metadata": {},
   "outputs": [],
   "source": [
    "t, v = np.loadtxt('../data/velocities.txt', unpack=True)"
   ]
  },
  {
   "cell_type": "code",
   "execution_count": 37,
   "id": "80f00311-3fd1-46e0-8067-991d162fc2d6",
   "metadata": {},
   "outputs": [
    {
     "data": {
      "application/vnd.jupyter.widget-view+json": {
       "model_id": "c7f43bd33c22422d8c732338ddeaa7e7",
       "version_major": 2,
       "version_minor": 0
      },
      "text/plain": [
       "Canvas(toolbar=Toolbar(toolitems=[('Home', 'Reset original view', 'home', 'home'), ('Back', 'Back to previous …"
      ]
     },
     "metadata": {},
     "output_type": "display_data"
    },
    {
     "data": {
      "text/plain": [
       "<matplotlib.collections.PolyCollection at 0x7fb3a1a655f8>"
      ]
     },
     "execution_count": 37,
     "metadata": {},
     "output_type": "execute_result"
    }
   ],
   "source": [
    "fig0,ax0 = plt.subplots()\n",
    "\n",
    "ax0.plot(t,v)\n",
    "ax0.fill_between(t, v, alpha=0.3)"
   ]
  },
  {
   "cell_type": "code",
   "execution_count": 20,
   "id": "9a9825a7-ae9e-444a-b111-2d469f8f9b8c",
   "metadata": {},
   "outputs": [],
   "source": [
    "def integrateList1(x, y):\n",
    "    s = [0]\n",
    "    for i in range(len(y)-1):\n",
    "        s.append(s[-1] + (y[i] + y[i+1])/2*(x[i+1]-x[i]))\n",
    "    return(s)"
   ]
  },
  {
   "cell_type": "code",
   "execution_count": 34,
   "id": "2b45cc13-b7f3-4170-bd6b-ecd08a9d13f3",
   "metadata": {},
   "outputs": [
    {
     "data": {
      "application/vnd.jupyter.widget-view+json": {
       "model_id": "7041eef647f946698d9cc2fd42222c9d",
       "version_major": 2,
       "version_minor": 0
      },
      "text/plain": [
       "Canvas(toolbar=Toolbar(toolitems=[('Home', 'Reset original view', 'home', 'home'), ('Back', 'Back to previous …"
      ]
     },
     "metadata": {},
     "output_type": "display_data"
    },
    {
     "data": {
      "text/plain": [
       "<matplotlib.legend.Legend at 0x7fb3a1c084a8>"
      ]
     },
     "execution_count": 34,
     "metadata": {},
     "output_type": "execute_result"
    }
   ],
   "source": [
    "fig1,ax1 = plt.subplots()\n",
    "\n",
    "d = integrateList1(t,v)\n",
    "\n",
    "ax1.plot(t,v, label='v',)\n",
    "ax1.plot(t,d, label='x')\n",
    "ax1.fill_between(t, v, color='blue', alpha=0.3)\n",
    "ax1.legend()"
   ]
  },
  {
   "cell_type": "code",
   "execution_count": null,
   "id": "f87e1fe4-125a-413a-b784-babfbb41a762",
   "metadata": {},
   "outputs": [],
   "source": []
  }
 ],
 "metadata": {
  "kernelspec": {
   "display_name": "Python 3",
   "language": "python",
   "name": "python3"
  },
  "language_info": {
   "codemirror_mode": {
    "name": "ipython",
    "version": 3
   },
   "file_extension": ".py",
   "mimetype": "text/x-python",
   "name": "python",
   "nbconvert_exporter": "python",
   "pygments_lexer": "ipython3",
   "version": "3.6.13"
  }
 },
 "nbformat": 4,
 "nbformat_minor": 5
}
