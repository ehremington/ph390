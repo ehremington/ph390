{
 "cells": [
  {
   "cell_type": "markdown",
   "id": "776dc4e6-0ccd-46ca-9d42-431f7ac2ac79",
   "metadata": {},
   "source": [
    "# Welcome to Day 5 of Computational Physics!\n",
    "\n",
    "This is a Markdown cell. The code here is really just text, but with some *slight* **modifications**. Markdown is great because you can see exactly what is going to appear and if you do not have a renderer for Markdown its fine because you can still read it. It is used throughout the coding world as the default for any kind of human-readable text. You can use inline equations like $\\psi= \\int\\vec{E}\\cdot d\\vec{a}$ or you can enter centered equations such as: $$i\\hbar\\frac{\\partial}{\\partial t} \\Psi(x,t) = \\left [ - \\frac{\\hbar^2}{2m}\\frac{\\partial^2}{\\partial x^2} + V(x,t)\\right ] \\Psi(x,t)$$\n",
    "\n",
    "There are many features of markdown that we will see over the semester, but I'll use this as a way to show you what is going on in each day's file. It may sound silly, but this is one of those soft skills that can really impress a future employer, so this is definitely worth paying attention to."
   ]
  },
  {
   "cell_type": "code",
   "execution_count": 1,
   "id": "2f57e620-278e-4791-aff6-08f8d027dc01",
   "metadata": {
    "tags": []
   },
   "outputs": [
    {
     "name": "stdout",
     "output_type": "stream",
     "text": [
      "done\n"
     ]
    }
   ],
   "source": [
    "x = 30\n",
    "\n",
    "if x<10:\n",
    "    print(x**2)\n",
    "elif 25>x>10:\n",
    "    print(x/2)\n",
    "    \n",
    "print('done')"
   ]
  },
  {
   "cell_type": "code",
   "execution_count": null,
   "id": "b42e4dac-824b-4d11-ae76-0a02dc85aaeb",
   "metadata": {
    "tags": []
   },
   "outputs": [],
   "source": [
    "h = float(input(\"Enter the height of the tower: \"))\n",
    "t = float(input(\"Enter the time interval: \"))\n",
    "g = 9.81\n",
    "\n",
    "x = h - 1/2*g*t**2\n",
    "if x>0:\n",
    "    print(\"The height of the rock is \",x,\" meters.\")\n",
    "else:\n",
    "    print(\"The height of the rock is 0 meters.\")"
   ]
  },
  {
   "cell_type": "code",
   "execution_count": 2,
   "id": "109ed621-4c7e-46e4-9728-e7b5d2f33ba4",
   "metadata": {
    "tags": []
   },
   "outputs": [
    {
     "name": "stdout",
     "output_type": "stream",
     "text": [
      "5.0\n",
      "2.5\n",
      "1.25\n",
      "done\n"
     ]
    }
   ],
   "source": [
    "x =10 \n",
    "while x>1:\n",
    "    x = x/2\n",
    "    print(x)\n",
    "    if x<2:\n",
    "        break\n",
    "print('done')"
   ]
  },
  {
   "cell_type": "code",
   "execution_count": 3,
   "id": "f16b56a1-09d4-48a1-b2ae-eeefa2e831bb",
   "metadata": {
    "tags": []
   },
   "outputs": [
    {
     "name": "stdout",
     "output_type": "stream",
     "text": [
      "0\n",
      "1\n",
      "2\n",
      "3\n",
      "4\n",
      "5\n",
      "6\n",
      "7\n",
      "8\n",
      "9\n",
      "10\n",
      "done\n"
     ]
    }
   ],
   "source": [
    "for i in range(0,11):\n",
    "    print(i)\n",
    "print('done')"
   ]
  },
  {
   "cell_type": "code",
   "execution_count": 2,
   "id": "3721fb31-9db0-4385-868c-950105c628be",
   "metadata": {},
   "outputs": [
    {
     "ename": "TypeError",
     "evalue": "unsupported operand type(s) for /: 'range' and 'int'",
     "output_type": "error",
     "traceback": [
      "\u001b[1;31m---------------------------------------------------------------------------\u001b[0m",
      "\u001b[1;31mTypeError\u001b[0m                                 Traceback (most recent call last)",
      "Cell \u001b[1;32mIn[2], line 1\u001b[0m\n\u001b[1;32m----> 1\u001b[0m \u001b[38;5;28;01mfor\u001b[39;00m i \u001b[38;5;129;01min\u001b[39;00m \u001b[38;5;28;43mrange\u001b[39;49m\u001b[43m(\u001b[49m\u001b[38;5;241;43m10\u001b[39;49m\u001b[43m)\u001b[49m\u001b[38;5;241;43m/\u001b[39;49m\u001b[38;5;241;43m2\u001b[39;49m:\n\u001b[0;32m      2\u001b[0m     \u001b[38;5;28mprint\u001b[39m(i)\n",
      "\u001b[1;31mTypeError\u001b[0m: unsupported operand type(s) for /: 'range' and 'int'"
     ]
    }
   ],
   "source": [
    "for i in range(10)/2:\n",
    "    print(i)"
   ]
  },
  {
   "cell_type": "code",
   "execution_count": 4,
   "id": "3ba4141d-dee2-43e7-a1d7-c5fe0d57ddf0",
   "metadata": {},
   "outputs": [
    {
     "name": "stdout",
     "output_type": "stream",
     "text": [
      "0.0\n",
      "0.5\n",
      "1.0\n",
      "1.5\n",
      "2.0\n",
      "2.5\n",
      "3.0\n",
      "3.5\n",
      "4.0\n",
      "4.5\n",
      "5.0\n",
      "5.5\n",
      "6.0\n",
      "6.5\n",
      "7.0\n",
      "7.5\n",
      "8.0\n",
      "8.5\n",
      "9.0\n",
      "9.5\n",
      "10.0\n",
      "done\n"
     ]
    }
   ],
   "source": [
    "import numpy as np\n",
    "\n",
    "for i in np.linspace(0,10,21):\n",
    "    print(i)\n",
    "print('done')"
   ]
  },
  {
   "cell_type": "code",
   "execution_count": 15,
   "id": "c8e904a7-6ff7-471e-b146-4705a68fff1a",
   "metadata": {},
   "outputs": [
    {
     "name": "stdout",
     "output_type": "stream",
     "text": [
      "0.0\n",
      "0.5\n",
      "1.0\n",
      "1.5\n",
      "2.0\n",
      "2.5\n",
      "3.0\n",
      "3.5\n",
      "4.0\n",
      "4.5\n",
      "5.0\n",
      "5.5\n",
      "6.0\n",
      "6.5\n",
      "7.0\n",
      "7.5\n",
      "8.0\n",
      "8.5\n",
      "9.0\n",
      "9.5\n",
      "done\n"
     ]
    }
   ],
   "source": [
    "import numpy as np\n",
    "\n",
    "for i in np.arange(0,10,.5):\n",
    "    print(i)\n",
    "print('done')"
   ]
  },
  {
   "cell_type": "code",
   "execution_count": null,
   "id": "ea21397d-5ab1-41ad-8c7d-8290f0a6e5bf",
   "metadata": {},
   "outputs": [],
   "source": []
  },
  {
   "cell_type": "code",
   "execution_count": 20,
   "id": "d668d5be-b740-44a5-bac8-5bb92f320d23",
   "metadata": {
    "collapsed": true,
    "jupyter": {
     "outputs_hidden": true
    },
    "tags": []
   },
   "outputs": [
    {
     "name": "stdout",
     "output_type": "stream",
     "text": [
      "0.0\n",
      "0.1\n",
      "0.2\n",
      "0.30000000000000004\n",
      "0.4\n",
      "0.5\n",
      "0.6000000000000001\n",
      "0.7000000000000001\n",
      "0.8\n",
      "0.9\n",
      "1.0\n",
      "1.1\n",
      "1.2000000000000002\n",
      "1.3\n",
      "1.4000000000000001\n",
      "1.5\n",
      "1.6\n",
      "1.7000000000000002\n",
      "1.8\n",
      "1.9000000000000001\n",
      "2.0\n",
      "2.1\n",
      "2.2\n",
      "2.3000000000000003\n",
      "2.4000000000000004\n",
      "2.5\n",
      "2.6\n",
      "2.7\n",
      "2.8000000000000003\n",
      "2.9000000000000004\n",
      "3.0\n",
      "3.1\n",
      "3.2\n",
      "3.3000000000000003\n",
      "3.4000000000000004\n",
      "3.5\n",
      "3.6\n",
      "3.7\n",
      "3.8000000000000003\n",
      "3.9000000000000004\n",
      "4.0\n",
      "4.1000000000000005\n",
      "4.2\n",
      "4.3\n",
      "4.4\n",
      "4.5\n",
      "4.6000000000000005\n",
      "4.7\n",
      "4.800000000000001\n",
      "4.9\n",
      "5.0\n",
      "5.1000000000000005\n",
      "5.2\n",
      "5.300000000000001\n",
      "5.4\n",
      "5.5\n",
      "5.6000000000000005\n",
      "5.7\n",
      "5.800000000000001\n",
      "5.9\n",
      "6.0\n",
      "6.1000000000000005\n",
      "6.2\n",
      "6.300000000000001\n",
      "6.4\n",
      "6.5\n",
      "6.6000000000000005\n",
      "6.7\n",
      "6.800000000000001\n",
      "6.9\n",
      "7.0\n",
      "7.1000000000000005\n",
      "7.2\n",
      "7.300000000000001\n",
      "7.4\n",
      "7.5\n",
      "7.6000000000000005\n",
      "7.7\n",
      "7.800000000000001\n",
      "7.9\n",
      "8.0\n",
      "8.1\n",
      "8.200000000000001\n",
      "8.3\n",
      "8.4\n",
      "8.5\n",
      "8.6\n",
      "8.700000000000001\n",
      "8.8\n",
      "8.9\n",
      "9.0\n",
      "9.1\n",
      "9.200000000000001\n",
      "9.3\n",
      "9.4\n",
      "9.5\n",
      "9.600000000000001\n",
      "9.700000000000001\n",
      "9.8\n",
      "9.9\n",
      "10.0\n",
      "done\n"
     ]
    }
   ],
   "source": [
    "import numpy as np\n",
    "\n",
    "for i in np.linspace(0,10,101):\n",
    "    print(i)\n",
    "print('done')"
   ]
  },
  {
   "cell_type": "code",
   "execution_count": 21,
   "id": "2f25b7b7-3d9f-4c80-99cd-bbaae7eb92be",
   "metadata": {},
   "outputs": [
    {
     "name": "stdout",
     "output_type": "stream",
     "text": [
      "2\n",
      "3\n",
      "5\n",
      "8\n",
      "13\n",
      "21\n",
      "34\n",
      "55\n",
      "89\n",
      "144\n",
      "233\n",
      "377\n",
      "610\n",
      "987\n",
      "1597\n",
      "2584\n"
     ]
    }
   ],
   "source": [
    "f1 = 1\n",
    "f2 = 1\n",
    "\n",
    "while f1<1000:\n",
    "    fnext = f1 + f2\n",
    "    f1 = f2\n",
    "    f2 = fnext\n",
    "    print(fnext)\n"
   ]
  },
  {
   "cell_type": "code",
   "execution_count": 1,
   "id": "c5b8f0cc-fe1b-4375-b8a1-34ec525e634e",
   "metadata": {},
   "outputs": [
    {
     "name": "stdout",
     "output_type": "stream",
     "text": [
      "5.187377517639621\n"
     ]
    }
   ],
   "source": [
    "x = 0 \n",
    "for i in range(1,101):\n",
    "    x = x + 1/i\n",
    "print(x)"
   ]
  },
  {
   "cell_type": "code",
   "execution_count": null,
   "id": "060cd880-1c65-476f-88a8-359b35b6c266",
   "metadata": {},
   "outputs": [],
   "source": []
  }
 ],
 "metadata": {
  "kernelspec": {
   "display_name": "Python 3 (ipykernel)",
   "language": "python",
   "name": "python3"
  },
  "language_info": {
   "codemirror_mode": {
    "name": "ipython",
    "version": 3
   },
   "file_extension": ".py",
   "mimetype": "text/x-python",
   "name": "python",
   "nbconvert_exporter": "python",
   "pygments_lexer": "ipython3",
   "version": "3.9.17"
  }
 },
 "nbformat": 4,
 "nbformat_minor": 5
}
