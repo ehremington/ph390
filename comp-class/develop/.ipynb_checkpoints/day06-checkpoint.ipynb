{
 "cells": [
  {
   "cell_type": "markdown",
   "id": "520b6f96-2eef-4c9d-8249-9ef2c0c43456",
   "metadata": {},
   "source": [
    "# Day 6 - The function"
   ]
  },
  {
   "cell_type": "code",
   "execution_count": 1,
   "id": "a5d6205d-ec61-491b-ace3-6f56ea7794ab",
   "metadata": {},
   "outputs": [],
   "source": [
    "def myFunction():\n",
    "    print('this is a function')"
   ]
  },
  {
   "cell_type": "code",
   "execution_count": 2,
   "id": "763d7fb0-9cb0-404c-b401-0fb5a9442269",
   "metadata": {},
   "outputs": [
    {
     "name": "stdout",
     "output_type": "stream",
     "text": [
      "this is a function\n"
     ]
    }
   ],
   "source": [
    "myFunction()"
   ]
  },
  {
   "cell_type": "code",
   "execution_count": 3,
   "id": "cabf9983-7b81-4bac-bad0-306ebdaa9adf",
   "metadata": {},
   "outputs": [],
   "source": [
    "def factorial(n):\n",
    "    if n<0:\n",
    "        print('undefined')\n",
    "    else:\n",
    "        f = 1\n",
    "        for i in range(f,n+1):\n",
    "            f = f*i\n",
    "        return(f)"
   ]
  },
  {
   "cell_type": "code",
   "execution_count": 4,
   "id": "b0b5ff40-aa60-4c1a-9ca0-1d6f57576fbd",
   "metadata": {},
   "outputs": [
    {
     "name": "stdout",
     "output_type": "stream",
     "text": [
      "undefined\n"
     ]
    }
   ],
   "source": [
    "factorial(-4)"
   ]
  },
  {
   "cell_type": "code",
   "execution_count": 5,
   "id": "416b4993-cae6-449f-b1ed-1e9e0a828a26",
   "metadata": {},
   "outputs": [],
   "source": [
    "def distance(x,y,z):return (x**2+y**2+z**2)**(1/2)"
   ]
  },
  {
   "cell_type": "code",
   "execution_count": 6,
   "id": "dbd9c01f-f6df-4f02-bd3f-517dcaa62ee0",
   "metadata": {},
   "outputs": [
    {
     "data": {
      "text/plain": [
       "1.7320508075688772"
      ]
     },
     "execution_count": 6,
     "metadata": {},
     "output_type": "execute_result"
    }
   ],
   "source": [
    "distance(1,1,1)"
   ]
  },
  {
   "cell_type": "code",
   "execution_count": 7,
   "id": "3f5c866a-40ce-4a56-8238-c2b34d7ac3c1",
   "metadata": {},
   "outputs": [],
   "source": [
    "def sphxyz(r, theta, phi):\n",
    "    from math import sin,cos\n",
    "    x = r*sin(theta)*cos(phi)\n",
    "    y = r*sin(theta)*sin(phi)\n",
    "    z = r*cos(theta)\n",
    "    return (x, y, z)"
   ]
  },
  {
   "cell_type": "code",
   "execution_count": 8,
   "id": "f6d02d8c-0152-4874-a7bb-b14c9d704d96",
   "metadata": {},
   "outputs": [
    {
     "data": {
      "text/plain": [
       "(1.0606601717798212, 1.060660171779821, 0.8660254037844388)"
      ]
     },
     "execution_count": 8,
     "metadata": {},
     "output_type": "execute_result"
    }
   ],
   "source": [
    "import math\n",
    "\n",
    "sphxyz(1.7320508075688772,math.pi/3,math.pi/4)"
   ]
  },
  {
   "cell_type": "code",
   "execution_count": 9,
   "id": "227a5bf8-c04a-4d17-b3db-74e4c53c9a5e",
   "metadata": {},
   "outputs": [
    {
     "data": {
      "text/plain": [
       "3.141592653589793"
      ]
     },
     "execution_count": 9,
     "metadata": {},
     "output_type": "execute_result"
    }
   ],
   "source": [
    "math.pi"
   ]
  },
  {
   "cell_type": "code",
   "execution_count": 10,
   "id": "f5b92469-cd7d-46ae-a255-b2c21cac7765",
   "metadata": {},
   "outputs": [],
   "source": [
    "def xyzsph(x,y,z):\n",
    "    r = (x**2+y**2+z**2)**(.5)\n",
    "    theta = math.atan((x**2+y**2)**(.5)/z)\n",
    "    phi = math.atan(y/x)\n",
    "    return (r,theta,phi)"
   ]
  },
  {
   "cell_type": "code",
   "execution_count": 11,
   "id": "c0a12a0e-6555-473d-9d91-8fb548fad823",
   "metadata": {},
   "outputs": [
    {
     "data": {
      "text/plain": [
       "(1.7320508075688772, 0.9553166181245093, 0.7853981633974483)"
      ]
     },
     "execution_count": 11,
     "metadata": {},
     "output_type": "execute_result"
    }
   ],
   "source": [
    "xyzsph(1,1,1)"
   ]
  },
  {
   "cell_type": "code",
   "execution_count": 13,
   "id": "ed7cdc40-ff36-40d9-a2e6-dd2a9ae4ffa2",
   "metadata": {},
   "outputs": [
    {
     "data": {
      "text/plain": [
       "3.141592653589793"
      ]
     },
     "execution_count": 13,
     "metadata": {},
     "output_type": "execute_result"
    }
   ],
   "source": [
    "math.pi"
   ]
  },
  {
   "cell_type": "code",
   "execution_count": null,
   "id": "c325d60a-2af9-4d4e-a476-e3ae96f6ccb2",
   "metadata": {},
   "outputs": [],
   "source": []
  }
 ],
 "metadata": {
  "kernelspec": {
   "display_name": "Python 3",
   "language": "python",
   "name": "python3"
  },
  "language_info": {
   "codemirror_mode": {
    "name": "ipython",
    "version": 3
   },
   "file_extension": ".py",
   "mimetype": "text/x-python",
   "name": "python",
   "nbconvert_exporter": "python",
   "pygments_lexer": "ipython3",
   "version": "3.6.13"
  }
 },
 "nbformat": 4,
 "nbformat_minor": 5
}
