{
 "cells": [
  {
   "cell_type": "markdown",
   "id": "d37160a0-db5a-42cb-a62e-149f343a2b79",
   "metadata": {},
   "source": [
    "# Day 27"
   ]
  },
  {
   "cell_type": "code",
   "execution_count": null,
   "id": "51f1ef5f-b56f-4899-b08f-c009e528039a",
   "metadata": {},
   "outputs": [],
   "source": []
  },
  {
   "cell_type": "code",
   "execution_count": 10,
   "id": "2a4d80cd-2a2d-4f06-a1a9-0301f314f2a2",
   "metadata": {
    "tags": []
   },
   "outputs": [],
   "source": [
    "# Runge-Kutta 4nd order\n",
    "\n",
    "def f(r,t):\n",
    "    y = r[0]\n",
    "    v = r[1]\n",
    "    fy = v\n",
    "    fv = -9.81\n",
    "    return(np.array([fy,fv],float))\n",
    "\n",
    "# define boundary conditions\n",
    "\n",
    "t0 = 0.0 # starting point\n",
    "tf = 10.0 # ending point\n",
    "N = 1000 # number of points between a and b\n",
    "dt = (tf-t0)/N\n",
    "\n",
    "r = np.array([100,30],float) # initial condition\n",
    "\n",
    "tpoints = np.arange(t0, tf, dt)\n",
    "ypoints = []\n",
    "vpoints = []\n",
    "\n",
    "for t in tpoints:\n",
    "    ypoints.append(r[0])\n",
    "    vpoints.append(r[1])\n",
    "    k1 = dt*f(r,t)\n",
    "    k2 = dt*f(r+0.5*k1,t+0.5*dt)\n",
    "    k3 = dt*f(r+0.5*k2,t+0.5*dt)\n",
    "    k4 = dt*f(r+k3, t+dt)\n",
    "    r = r + (k1+2*k2+2*k3+k4)/6"
   ]
  },
  {
   "cell_type": "code",
   "execution_count": 11,
   "id": "7ff85693-32a7-4807-a03e-faae279b9115",
   "metadata": {},
   "outputs": [
    {
     "data": {
      "application/vnd.jupyter.widget-view+json": {
       "model_id": "5b9b12653506465597197a4ca171572b",
       "version_major": 2,
       "version_minor": 0
      },
      "text/plain": [
       "Canvas(toolbar=Toolbar(toolitems=[('Home', 'Reset original view', 'home', 'home'), ('Back', 'Back to previous …"
      ]
     },
     "metadata": {},
     "output_type": "display_data"
    },
    {
     "data": {
      "text/plain": [
       "[<matplotlib.lines.Line2D at 0x7f06a52a3ac8>]"
      ]
     },
     "execution_count": 11,
     "metadata": {},
     "output_type": "execute_result"
    }
   ],
   "source": [
    "fig0, ax0 = plt.subplots()\n",
    "ax0.plot(tpoints, ypoints)\n",
    "ax0.plot(tpoints, vpoints)"
   ]
  },
  {
   "cell_type": "markdown",
   "id": "23c16ca2-5639-4fb5-be1e-91608a552cca",
   "metadata": {},
   "source": [
    "## what about linear drag?"
   ]
  },
  {
   "cell_type": "code",
   "execution_count": 20,
   "id": "79fe9c50-b945-44e3-ac31-8d0b3b15105e",
   "metadata": {
    "tags": []
   },
   "outputs": [],
   "source": [
    "# Runge-Kutta 4nd order\n",
    "\n",
    "def f(r,t):\n",
    "    y = r[0]\n",
    "    v = r[1]\n",
    "    fy = v\n",
    "    c = 1\n",
    "    fv = -9.81 - c*v\n",
    "    return(np.array([fy,fv],float))\n",
    "\n",
    "# define boundary conditions\n",
    "\n",
    "t0 = 0.0 # starting point\n",
    "tf = 5.0 # ending point\n",
    "N = 1000 # number of points between a and b\n",
    "dt = (tf-t0)/N\n",
    "\n",
    "r = np.array([100,0],float) # initial condition\n",
    "\n",
    "tpoints = np.arange(t0, tf, dt)\n",
    "ypoints = []\n",
    "vpoints = []\n",
    "\n",
    "for t in tpoints:\n",
    "    ypoints.append(r[0])\n",
    "    vpoints.append(r[1])\n",
    "    k1 = dt*f(r,t)\n",
    "    k2 = dt*f(r+0.5*k1,t+0.5*dt)\n",
    "    k3 = dt*f(r+0.5*k2,t+0.5*dt)\n",
    "    k4 = dt*f(r+k3, t+dt)\n",
    "    r = r + (k1+2*k2+2*k3+k4)/6"
   ]
  },
  {
   "cell_type": "code",
   "execution_count": 21,
   "id": "3c4856f8-ac40-43aa-939f-e58eb1606dc1",
   "metadata": {},
   "outputs": [
    {
     "data": {
      "application/vnd.jupyter.widget-view+json": {
       "model_id": "58e2884d85084570beb13c336816d7ab",
       "version_major": 2,
       "version_minor": 0
      },
      "text/plain": [
       "Canvas(toolbar=Toolbar(toolitems=[('Home', 'Reset original view', 'home', 'home'), ('Back', 'Back to previous …"
      ]
     },
     "metadata": {},
     "output_type": "display_data"
    },
    {
     "data": {
      "text/plain": [
       "[<matplotlib.lines.Line2D at 0x7f06a4fa4b38>]"
      ]
     },
     "execution_count": 21,
     "metadata": {},
     "output_type": "execute_result"
    }
   ],
   "source": [
    "fig1, ax1 = plt.subplots()\n",
    "ax1.plot(tpoints, ypoints)"
   ]
  },
  {
   "cell_type": "code",
   "execution_count": 22,
   "id": "f4b7a329-9914-411d-8e85-08626f938797",
   "metadata": {},
   "outputs": [
    {
     "data": {
      "application/vnd.jupyter.widget-view+json": {
       "model_id": "4e213c88270146a08d1e0f42cbb4773b",
       "version_major": 2,
       "version_minor": 0
      },
      "text/plain": [
       "Canvas(toolbar=Toolbar(toolitems=[('Home', 'Reset original view', 'home', 'home'), ('Back', 'Back to previous …"
      ]
     },
     "metadata": {},
     "output_type": "display_data"
    },
    {
     "data": {
      "text/plain": [
       "[<matplotlib.lines.Line2D at 0x7f06a4f210f0>]"
      ]
     },
     "execution_count": 22,
     "metadata": {},
     "output_type": "execute_result"
    }
   ],
   "source": [
    "fig2, ax2 = plt.subplots()\n",
    "ax2.plot(tpoints, vpoints)"
   ]
  },
  {
   "cell_type": "markdown",
   "id": "826fd549-b550-4270-9e9a-58fc5601778e",
   "metadata": {},
   "source": [
    "## What about quadratic drag??"
   ]
  },
  {
   "cell_type": "code",
   "execution_count": 30,
   "id": "e90033d9-8e52-4885-9d3b-42a8c3720563",
   "metadata": {
    "tags": []
   },
   "outputs": [],
   "source": [
    "# Runge-Kutta 4nd order\n",
    "\n",
    "def f(r,t):\n",
    "    y = r[0]\n",
    "    v = r[1]\n",
    "    fy = v\n",
    "    c = .001\n",
    "    fv = -9.81 - c*v**2\n",
    "    return(np.array([fy,fv],float))\n",
    "\n",
    "# define boundary conditions\n",
    "\n",
    "t0 = 0.0 # starting point\n",
    "tf = 5.0 # ending point\n",
    "N = 1000 # number of points between a and b\n",
    "dt = (tf-t0)/N\n",
    "\n",
    "r = np.array([100,0],float) # initial condition\n",
    "\n",
    "tpoints = np.arange(t0, tf, dt)\n",
    "ypoints = []\n",
    "vpoints = []\n",
    "\n",
    "for t in tpoints:\n",
    "    ypoints.append(r[0])\n",
    "    vpoints.append(r[1])\n",
    "    k1 = dt*f(r,t)\n",
    "    k2 = dt*f(r+0.5*k1,t+0.5*dt)\n",
    "    k3 = dt*f(r+0.5*k2,t+0.5*dt)\n",
    "    k4 = dt*f(r+k3, t+dt)\n",
    "    r = r + (k1+2*k2+2*k3+k4)/6"
   ]
  },
  {
   "cell_type": "code",
   "execution_count": 32,
   "id": "6d88e2ad-f3dd-4487-a864-5d7a9795841f",
   "metadata": {},
   "outputs": [
    {
     "data": {
      "application/vnd.jupyter.widget-view+json": {
       "model_id": "a2b1278950f6486396291058c0de7651",
       "version_major": 2,
       "version_minor": 0
      },
      "text/plain": [
       "Canvas(toolbar=Toolbar(toolitems=[('Home', 'Reset original view', 'home', 'home'), ('Back', 'Back to previous …"
      ]
     },
     "metadata": {},
     "output_type": "display_data"
    },
    {
     "data": {
      "text/plain": [
       "[<matplotlib.lines.Line2D at 0x7f069b05e470>]"
      ]
     },
     "execution_count": 32,
     "metadata": {},
     "output_type": "execute_result"
    }
   ],
   "source": [
    "fig3, ax3 = plt.subplots()\n",
    "ax3.plot(tpoints, ypoints)"
   ]
  },
  {
   "cell_type": "code",
   "execution_count": 33,
   "id": "994b0058-e2f9-4bc8-9b7e-e35b59e8c488",
   "metadata": {
    "tags": []
   },
   "outputs": [],
   "source": [
    "# Runge-Kutta 4nd order\n",
    "\n",
    "def f(r,t):\n",
    "    y = r[0]\n",
    "    v = r[1]\n",
    "    fy = v\n",
    "    c = 1\n",
    "    fv = -9.81 - c*v\n",
    "    return(np.array([fy,fv],float))\n",
    "\n",
    "def cRK4(f, tf, x0, v0, t0=0, dt=2**-5): \n",
    "\n",
    "    r = np.array([x0,v0],float) # initial condition\n",
    "\n",
    "    tpoints = np.arange(t0, tf, dt)\n",
    "    xpoints = []\n",
    "    vpoints = []\n",
    "\n",
    "    for t in tpoints:\n",
    "        xpoints.append(r[0])\n",
    "        vpoints.append(r[1])\n",
    "        k1 = dt*f(r,t)\n",
    "        k2 = dt*f(r+0.5*k1,t+0.5*dt)\n",
    "        k3 = dt*f(r+0.5*k2,t+0.5*dt)\n",
    "        k4 = dt*f(r+k3, t+dt)\n",
    "        r = r + (k1+2*k2+2*k3+k4)/6\n",
    "        \n",
    "    return(tpoints, xpoints, vpoints)"
   ]
  },
  {
   "cell_type": "code",
   "execution_count": 34,
   "id": "2b0f69ac-c480-439e-95f7-da63225d715e",
   "metadata": {},
   "outputs": [],
   "source": [
    "def func0(r,t):\n",
    "    y = r[0]\n",
    "    v = r[1]\n",
    "    fy = v\n",
    "    c = 1\n",
    "    fv = -9.81 - c*v\n",
    "    return(np.array([fy,fv],float))\n",
    "\n",
    "t0, y0, v0 = cRK4(func0, 5, 100, 0)"
   ]
  },
  {
   "cell_type": "code",
   "execution_count": 36,
   "id": "43c588fe-a1a0-4493-8aca-5b4246409c33",
   "metadata": {},
   "outputs": [
    {
     "name": "stderr",
     "output_type": "stream",
     "text": [
      "/home/eric/miniconda3/lib/python3.6/site-packages/ipykernel_launcher.py:1: RuntimeWarning: More than 20 figures have been opened. Figures created through the pyplot interface (`matplotlib.pyplot.figure`) are retained until explicitly closed and may consume too much memory. (To control this warning, see the rcParam `figure.max_open_warning`).\n",
      "  \"\"\"Entry point for launching an IPython kernel.\n"
     ]
    },
    {
     "data": {
      "application/vnd.jupyter.widget-view+json": {
       "model_id": "edb0fdd2abbf4088b3c6d66325f4a751",
       "version_major": 2,
       "version_minor": 0
      },
      "text/plain": [
       "Canvas(toolbar=Toolbar(toolitems=[('Home', 'Reset original view', 'home', 'home'), ('Back', 'Back to previous …"
      ]
     },
     "metadata": {},
     "output_type": "display_data"
    },
    {
     "data": {
      "text/plain": [
       "[<matplotlib.lines.Line2D at 0x7f069aa74470>]"
      ]
     },
     "execution_count": 36,
     "metadata": {},
     "output_type": "execute_result"
    }
   ],
   "source": [
    "fig4, ax4 = plt.subplots()\n",
    "ax4.plot(t0,v0)"
   ]
  },
  {
   "cell_type": "code",
   "execution_count": null,
   "id": "c6262b11-b3e7-45cb-8921-7fe4c2680f32",
   "metadata": {},
   "outputs": [],
   "source": []
  },
  {
   "cell_type": "code",
   "execution_count": null,
   "id": "d9b4f274-c6a2-489f-a79d-16f46bea1419",
   "metadata": {},
   "outputs": [],
   "source": []
  },
  {
   "cell_type": "code",
   "execution_count": null,
   "id": "37c2cc54-f2a7-4b6a-91bd-1f379dce2cc2",
   "metadata": {},
   "outputs": [],
   "source": []
  }
 ],
 "metadata": {
  "kernelspec": {
   "display_name": "Python 3",
   "language": "python",
   "name": "python3"
  },
  "language_info": {
   "codemirror_mode": {
    "name": "ipython",
    "version": 3
   },
   "file_extension": ".py",
   "mimetype": "text/x-python",
   "name": "python",
   "nbconvert_exporter": "python",
   "pygments_lexer": "ipython3",
   "version": "3.6.13"
  }
 },
 "nbformat": 4,
 "nbformat_minor": 5
}
