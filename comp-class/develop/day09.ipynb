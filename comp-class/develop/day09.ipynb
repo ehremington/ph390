{
 "cells": [
  {
   "cell_type": "markdown",
   "id": "fe815acf-0dd3-4094-8cf4-d391792f124a",
   "metadata": {},
   "source": [
    "# Day 9 - complicated data"
   ]
  },
  {
   "cell_type": "code",
   "execution_count": 1,
   "id": "49b7b1ea-d25e-4b7a-9254-00b1abd5389b",
   "metadata": {},
   "outputs": [],
   "source": [
    "import numpy as np\n",
    "import pandas as pd\n",
    "import matplotlib.pyplot as plt"
   ]
  },
  {
   "cell_type": "code",
   "execution_count": 20,
   "id": "a89be384-10cc-4d88-a60b-f567fd3c799e",
   "metadata": {},
   "outputs": [],
   "source": [
    "data = pd.read_csv('../data/170330-00.mpt', header=55, sep='\\t', encoding='windows-1252')"
   ]
  },
  {
   "cell_type": "code",
   "execution_count": 21,
   "id": "d8d06598-6eed-4c08-a976-e6c5b6992efe",
   "metadata": {
    "tags": []
   },
   "outputs": [
    {
     "data": {
      "text/html": [
       "<div>\n",
       "<style scoped>\n",
       "    .dataframe tbody tr th:only-of-type {\n",
       "        vertical-align: middle;\n",
       "    }\n",
       "\n",
       "    .dataframe tbody tr th {\n",
       "        vertical-align: top;\n",
       "    }\n",
       "\n",
       "    .dataframe thead th {\n",
       "        text-align: right;\n",
       "    }\n",
       "</style>\n",
       "<table border=\"1\" class=\"dataframe\">\n",
       "  <thead>\n",
       "    <tr style=\"text-align: right;\">\n",
       "      <th></th>\n",
       "      <th>freq/Hz</th>\n",
       "      <th>Re(Z)/Ohm</th>\n",
       "      <th>-Im(Z)/Ohm</th>\n",
       "      <th>|Z|/Ohm</th>\n",
       "      <th>Phase(Z)/deg</th>\n",
       "      <th>time/s</th>\n",
       "      <th>&lt;Ewe&gt;/V</th>\n",
       "      <th>&lt;I&gt;/mA</th>\n",
       "      <th>Cs/µF</th>\n",
       "      <th>Cp/µF</th>\n",
       "      <th>cycle number</th>\n",
       "      <th>I Range</th>\n",
       "      <th>|Ewe|/V</th>\n",
       "      <th>|I|/A</th>\n",
       "      <th>Re(Y)/Ohm-1</th>\n",
       "      <th>Im(Y)/Ohm-1</th>\n",
       "      <th>|Y|/Ohm-1</th>\n",
       "      <th>Phase(Y)/deg</th>\n",
       "    </tr>\n",
       "  </thead>\n",
       "  <tbody>\n",
       "    <tr>\n",
       "      <th>0</th>\n",
       "      <td>7.000024e+06</td>\n",
       "      <td>895.75378</td>\n",
       "      <td>147.372860</td>\n",
       "      <td>907.79602</td>\n",
       "      <td>-9.342825</td>\n",
       "      <td>2.520596</td>\n",
       "      <td>0.000327</td>\n",
       "      <td>0.000038</td>\n",
       "      <td>0.000154</td>\n",
       "      <td>0.000004</td>\n",
       "      <td>1.0</td>\n",
       "      <td>40</td>\n",
       "      <td>0.007715</td>\n",
       "      <td>0.000008</td>\n",
       "      <td>0.001087</td>\n",
       "      <td>0.000179</td>\n",
       "      <td>0.001102</td>\n",
       "      <td>9.342825</td>\n",
       "    </tr>\n",
       "    <tr>\n",
       "      <th>1</th>\n",
       "      <td>5.551806e+06</td>\n",
       "      <td>978.20587</td>\n",
       "      <td>77.754303</td>\n",
       "      <td>981.29120</td>\n",
       "      <td>-4.544694</td>\n",
       "      <td>3.437591</td>\n",
       "      <td>-0.000015</td>\n",
       "      <td>0.000034</td>\n",
       "      <td>0.000369</td>\n",
       "      <td>0.000002</td>\n",
       "      <td>1.0</td>\n",
       "      <td>40</td>\n",
       "      <td>0.010245</td>\n",
       "      <td>0.000010</td>\n",
       "      <td>0.001016</td>\n",
       "      <td>0.000081</td>\n",
       "      <td>0.001019</td>\n",
       "      <td>4.544694</td>\n",
       "    </tr>\n",
       "    <tr>\n",
       "      <th>2</th>\n",
       "      <td>4.403234e+06</td>\n",
       "      <td>966.23254</td>\n",
       "      <td>76.227158</td>\n",
       "      <td>969.23468</td>\n",
       "      <td>-4.510785</td>\n",
       "      <td>3.546738</td>\n",
       "      <td>-0.000019</td>\n",
       "      <td>0.000036</td>\n",
       "      <td>0.000474</td>\n",
       "      <td>0.000003</td>\n",
       "      <td>1.0</td>\n",
       "      <td>40</td>\n",
       "      <td>0.010240</td>\n",
       "      <td>0.000011</td>\n",
       "      <td>0.001029</td>\n",
       "      <td>0.000081</td>\n",
       "      <td>0.001032</td>\n",
       "      <td>4.510785</td>\n",
       "    </tr>\n",
       "    <tr>\n",
       "      <th>3</th>\n",
       "      <td>3.492272e+06</td>\n",
       "      <td>968.32733</td>\n",
       "      <td>64.608551</td>\n",
       "      <td>970.48035</td>\n",
       "      <td>-3.817220</td>\n",
       "      <td>3.656734</td>\n",
       "      <td>-0.000012</td>\n",
       "      <td>0.000035</td>\n",
       "      <td>0.000705</td>\n",
       "      <td>0.000003</td>\n",
       "      <td>1.0</td>\n",
       "      <td>40</td>\n",
       "      <td>0.010122</td>\n",
       "      <td>0.000010</td>\n",
       "      <td>0.001028</td>\n",
       "      <td>0.000069</td>\n",
       "      <td>0.001030</td>\n",
       "      <td>3.817220</td>\n",
       "    </tr>\n",
       "    <tr>\n",
       "      <th>4</th>\n",
       "      <td>2.769775e+06</td>\n",
       "      <td>974.00806</td>\n",
       "      <td>62.624184</td>\n",
       "      <td>976.01923</td>\n",
       "      <td>-3.678788</td>\n",
       "      <td>3.866602</td>\n",
       "      <td>-0.000018</td>\n",
       "      <td>0.000030</td>\n",
       "      <td>0.000918</td>\n",
       "      <td>0.000004</td>\n",
       "      <td>1.0</td>\n",
       "      <td>40</td>\n",
       "      <td>0.010080</td>\n",
       "      <td>0.000010</td>\n",
       "      <td>0.001022</td>\n",
       "      <td>0.000066</td>\n",
       "      <td>0.001025</td>\n",
       "      <td>3.678788</td>\n",
       "    </tr>\n",
       "    <tr>\n",
       "      <th>...</th>\n",
       "      <td>...</td>\n",
       "      <td>...</td>\n",
       "      <td>...</td>\n",
       "      <td>...</td>\n",
       "      <td>...</td>\n",
       "      <td>...</td>\n",
       "      <td>...</td>\n",
       "      <td>...</td>\n",
       "      <td>...</td>\n",
       "      <td>...</td>\n",
       "      <td>...</td>\n",
       "      <td>...</td>\n",
       "      <td>...</td>\n",
       "      <td>...</td>\n",
       "      <td>...</td>\n",
       "      <td>...</td>\n",
       "      <td>...</td>\n",
       "      <td>...</td>\n",
       "    </tr>\n",
       "    <tr>\n",
       "      <th>64</th>\n",
       "      <td>2.526678e+00</td>\n",
       "      <td>5487.50390</td>\n",
       "      <td>466.635010</td>\n",
       "      <td>5507.30860</td>\n",
       "      <td>-4.860507</td>\n",
       "      <td>17.487966</td>\n",
       "      <td>0.000371</td>\n",
       "      <td>0.000024</td>\n",
       "      <td>134.987300</td>\n",
       "      <td>0.969100</td>\n",
       "      <td>1.0</td>\n",
       "      <td>41</td>\n",
       "      <td>0.010288</td>\n",
       "      <td>0.000002</td>\n",
       "      <td>0.000181</td>\n",
       "      <td>0.000015</td>\n",
       "      <td>0.000182</td>\n",
       "      <td>4.860507</td>\n",
       "    </tr>\n",
       "    <tr>\n",
       "      <th>65</th>\n",
       "      <td>2.003207e+00</td>\n",
       "      <td>5506.98240</td>\n",
       "      <td>372.655120</td>\n",
       "      <td>5519.57670</td>\n",
       "      <td>-3.871279</td>\n",
       "      <td>18.595106</td>\n",
       "      <td>0.000369</td>\n",
       "      <td>0.000013</td>\n",
       "      <td>213.199950</td>\n",
       "      <td>0.971829</td>\n",
       "      <td>1.0</td>\n",
       "      <td>42</td>\n",
       "      <td>0.010266</td>\n",
       "      <td>0.000002</td>\n",
       "      <td>0.000181</td>\n",
       "      <td>0.000012</td>\n",
       "      <td>0.000181</td>\n",
       "      <td>3.871279</td>\n",
       "    </tr>\n",
       "    <tr>\n",
       "      <th>66</th>\n",
       "      <td>1.589842e+00</td>\n",
       "      <td>5523.89450</td>\n",
       "      <td>295.391200</td>\n",
       "      <td>5531.78710</td>\n",
       "      <td>-3.060986</td>\n",
       "      <td>19.301461</td>\n",
       "      <td>0.000363</td>\n",
       "      <td>0.000012</td>\n",
       "      <td>338.897670</td>\n",
       "      <td>0.966346</td>\n",
       "      <td>1.0</td>\n",
       "      <td>42</td>\n",
       "      <td>0.010269</td>\n",
       "      <td>0.000002</td>\n",
       "      <td>0.000181</td>\n",
       "      <td>0.000010</td>\n",
       "      <td>0.000181</td>\n",
       "      <td>3.060986</td>\n",
       "    </tr>\n",
       "    <tr>\n",
       "      <th>67</th>\n",
       "      <td>1.261711e+00</td>\n",
       "      <td>5530.05370</td>\n",
       "      <td>236.371870</td>\n",
       "      <td>5535.10300</td>\n",
       "      <td>-2.447512</td>\n",
       "      <td>20.187411</td>\n",
       "      <td>0.000371</td>\n",
       "      <td>0.000012</td>\n",
       "      <td>533.659730</td>\n",
       "      <td>0.973206</td>\n",
       "      <td>1.0</td>\n",
       "      <td>42</td>\n",
       "      <td>0.010262</td>\n",
       "      <td>0.000002</td>\n",
       "      <td>0.000181</td>\n",
       "      <td>0.000008</td>\n",
       "      <td>0.000181</td>\n",
       "      <td>2.447512</td>\n",
       "    </tr>\n",
       "    <tr>\n",
       "      <th>68</th>\n",
       "      <td>1.000061e+00</td>\n",
       "      <td>5536.58640</td>\n",
       "      <td>188.091290</td>\n",
       "      <td>5539.78030</td>\n",
       "      <td>-1.945728</td>\n",
       "      <td>21.301483</td>\n",
       "      <td>0.000364</td>\n",
       "      <td>0.000011</td>\n",
       "      <td>846.105900</td>\n",
       "      <td>0.975387</td>\n",
       "      <td>1.0</td>\n",
       "      <td>42</td>\n",
       "      <td>0.010266</td>\n",
       "      <td>0.000002</td>\n",
       "      <td>0.000180</td>\n",
       "      <td>0.000006</td>\n",
       "      <td>0.000181</td>\n",
       "      <td>1.945728</td>\n",
       "    </tr>\n",
       "  </tbody>\n",
       "</table>\n",
       "<p>69 rows × 18 columns</p>\n",
       "</div>"
      ],
      "text/plain": [
       "         freq/Hz   Re(Z)/Ohm  -Im(Z)/Ohm     |Z|/Ohm  Phase(Z)/deg     time/s  \\\n",
       "0   7.000024e+06   895.75378  147.372860   907.79602     -9.342825   2.520596   \n",
       "1   5.551806e+06   978.20587   77.754303   981.29120     -4.544694   3.437591   \n",
       "2   4.403234e+06   966.23254   76.227158   969.23468     -4.510785   3.546738   \n",
       "3   3.492272e+06   968.32733   64.608551   970.48035     -3.817220   3.656734   \n",
       "4   2.769775e+06   974.00806   62.624184   976.01923     -3.678788   3.866602   \n",
       "..           ...         ...         ...         ...           ...        ...   \n",
       "64  2.526678e+00  5487.50390  466.635010  5507.30860     -4.860507  17.487966   \n",
       "65  2.003207e+00  5506.98240  372.655120  5519.57670     -3.871279  18.595106   \n",
       "66  1.589842e+00  5523.89450  295.391200  5531.78710     -3.060986  19.301461   \n",
       "67  1.261711e+00  5530.05370  236.371870  5535.10300     -2.447512  20.187411   \n",
       "68  1.000061e+00  5536.58640  188.091290  5539.78030     -1.945728  21.301483   \n",
       "\n",
       "     <Ewe>/V    <I>/mA       Cs/µF     Cp/µF  cycle number  I Range   |Ewe|/V  \\\n",
       "0   0.000327  0.000038    0.000154  0.000004           1.0       40  0.007715   \n",
       "1  -0.000015  0.000034    0.000369  0.000002           1.0       40  0.010245   \n",
       "2  -0.000019  0.000036    0.000474  0.000003           1.0       40  0.010240   \n",
       "3  -0.000012  0.000035    0.000705  0.000003           1.0       40  0.010122   \n",
       "4  -0.000018  0.000030    0.000918  0.000004           1.0       40  0.010080   \n",
       "..       ...       ...         ...       ...           ...      ...       ...   \n",
       "64  0.000371  0.000024  134.987300  0.969100           1.0       41  0.010288   \n",
       "65  0.000369  0.000013  213.199950  0.971829           1.0       42  0.010266   \n",
       "66  0.000363  0.000012  338.897670  0.966346           1.0       42  0.010269   \n",
       "67  0.000371  0.000012  533.659730  0.973206           1.0       42  0.010262   \n",
       "68  0.000364  0.000011  846.105900  0.975387           1.0       42  0.010266   \n",
       "\n",
       "       |I|/A  Re(Y)/Ohm-1  Im(Y)/Ohm-1  |Y|/Ohm-1  Phase(Y)/deg  \n",
       "0   0.000008     0.001087     0.000179   0.001102      9.342825  \n",
       "1   0.000010     0.001016     0.000081   0.001019      4.544694  \n",
       "2   0.000011     0.001029     0.000081   0.001032      4.510785  \n",
       "3   0.000010     0.001028     0.000069   0.001030      3.817220  \n",
       "4   0.000010     0.001022     0.000066   0.001025      3.678788  \n",
       "..       ...          ...          ...        ...           ...  \n",
       "64  0.000002     0.000181     0.000015   0.000182      4.860507  \n",
       "65  0.000002     0.000181     0.000012   0.000181      3.871279  \n",
       "66  0.000002     0.000181     0.000010   0.000181      3.060986  \n",
       "67  0.000002     0.000181     0.000008   0.000181      2.447512  \n",
       "68  0.000002     0.000180     0.000006   0.000181      1.945728  \n",
       "\n",
       "[69 rows x 18 columns]"
      ]
     },
     "execution_count": 21,
     "metadata": {},
     "output_type": "execute_result"
    }
   ],
   "source": [
    "data"
   ]
  },
  {
   "cell_type": "code",
   "execution_count": 22,
   "id": "7da9619b-2bef-4566-9abf-eed454986c0c",
   "metadata": {},
   "outputs": [
    {
     "data": {
      "text/plain": [
       "Index(['freq/Hz', 'Re(Z)/Ohm', '-Im(Z)/Ohm', '|Z|/Ohm', 'Phase(Z)/deg',\n",
       "       'time/s', '<Ewe>/V', '<I>/mA', 'Cs/µF', 'Cp/µF', 'cycle number',\n",
       "       'I Range', '|Ewe|/V', '|I|/A', 'Re(Y)/Ohm-1', 'Im(Y)/Ohm-1',\n",
       "       '|Y|/Ohm-1', 'Phase(Y)/deg'],\n",
       "      dtype='object')"
      ]
     },
     "execution_count": 22,
     "metadata": {},
     "output_type": "execute_result"
    }
   ],
   "source": [
    "data.columns"
   ]
  },
  {
   "cell_type": "code",
   "execution_count": 26,
   "id": "fdcc4935-a46c-4b9d-9dab-d00eecf18589",
   "metadata": {},
   "outputs": [
    {
     "data": {
      "application/vnd.jupyter.widget-view+json": {
       "model_id": "52d404f2be7244df9925331f2b29ac07",
       "version_major": 2,
       "version_minor": 0
      },
      "text/plain": [
       "Canvas(toolbar=Toolbar(toolitems=[('Home', 'Reset original view', 'home', 'home'), ('Back', 'Back to previous …"
      ]
     },
     "metadata": {},
     "output_type": "display_data"
    },
    {
     "data": {
      "text/plain": [
       "Text(0, 0.5, 'Re(Z)/Ohm')"
      ]
     },
     "execution_count": 26,
     "metadata": {},
     "output_type": "execute_result"
    }
   ],
   "source": [
    "fig0 = plt.figure()\n",
    "ax0 = fig0.add_subplot()\n",
    "\n",
    "ax0.semilogx(data['freq/Hz'], data['Re(Z)/Ohm'])\n",
    "\n",
    "ax0.set_xlabel('freq/Hz')\n",
    "ax0.set_ylabel('Re(Z)/Ohm')"
   ]
  },
  {
   "cell_type": "code",
   "execution_count": 35,
   "id": "e33d5de6-0c89-4524-9f4d-25c07457838c",
   "metadata": {},
   "outputs": [
    {
     "data": {
      "application/vnd.jupyter.widget-view+json": {
       "model_id": "f6f02a4669ad492785821a67e6d0b8dc",
       "version_major": 2,
       "version_minor": 0
      },
      "text/plain": [
       "Canvas(toolbar=Toolbar(toolitems=[('Home', 'Reset original view', 'home', 'home'), ('Back', 'Back to previous …"
      ]
     },
     "metadata": {},
     "output_type": "display_data"
    },
    {
     "data": {
      "text/plain": [
       "Text(0, 0.5, '-Im(Z)/Ohm')"
      ]
     },
     "execution_count": 35,
     "metadata": {},
     "output_type": "execute_result"
    }
   ],
   "source": [
    "fig1 = plt.figure()\n",
    "ax1 = fig1.add_subplot()\n",
    "\n",
    "ax1.semilogx(data['freq/Hz'], data['-Im(Z)/Ohm'], 'gv')\n",
    "\n",
    "ax1.set_xlabel('freq/Hz')\n",
    "ax1.set_ylabel('-Im(Z)/Ohm')"
   ]
  },
  {
   "cell_type": "code",
   "execution_count": 39,
   "id": "f5d6ccc8-b1fb-4535-87f2-5de22c202590",
   "metadata": {},
   "outputs": [
    {
     "data": {
      "application/vnd.jupyter.widget-view+json": {
       "model_id": "3ed968a028584f7ba2293131e1dd2f50",
       "version_major": 2,
       "version_minor": 0
      },
      "text/plain": [
       "Canvas(toolbar=Toolbar(toolitems=[('Home', 'Reset original view', 'home', 'home'), ('Back', 'Back to previous …"
      ]
     },
     "metadata": {},
     "output_type": "display_data"
    },
    {
     "data": {
      "text/plain": [
       "[<matplotlib.lines.Line2D at 0x7fb7bd4fa9e8>]"
      ]
     },
     "execution_count": 39,
     "metadata": {},
     "output_type": "execute_result"
    }
   ],
   "source": [
    "fig2 = plt.figure()\n",
    "ax2 = fig2.add_subplot()\n",
    "\n",
    "ax2.plot(data['Re(Z)/Ohm'], data['-Im(Z)/Ohm'], 'o')"
   ]
  },
  {
   "cell_type": "code",
   "execution_count": null,
   "id": "5e6072eb-2a00-4801-8596-0c855dbfe5fe",
   "metadata": {},
   "outputs": [],
   "source": []
  }
 ],
 "metadata": {
  "kernelspec": {
   "display_name": "Python 3",
   "language": "python",
   "name": "python3"
  },
  "language_info": {
   "codemirror_mode": {
    "name": "ipython",
    "version": 3
   },
   "file_extension": ".py",
   "mimetype": "text/x-python",
   "name": "python",
   "nbconvert_exporter": "python",
   "pygments_lexer": "ipython3",
   "version": "3.6.13"
  }
 },
 "nbformat": 4,
 "nbformat_minor": 5
}
