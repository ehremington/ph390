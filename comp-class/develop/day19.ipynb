{
 "cells": [
  {
   "cell_type": "code",
   "execution_count": 1,
   "id": "e47b6317-6eb3-4a81-8d6b-c41bf251df66",
   "metadata": {
    "tags": []
   },
   "outputs": [],
   "source": [
    "######################################################################\n",
    "#\n",
    "# Functions to calculate integration points and weights for Gaussian\n",
    "# quadrature\n",
    "#\n",
    "# x,w = gaussxw(N) returns integration points x and integration\n",
    "#           weights w such that sum_i w[i]*f(x[i]) is the Nth-order\n",
    "#           Gaussian approximation to the integral int_{-1}^1 f(x) dx\n",
    "# x,w = gaussxwab(N,a,b) returns integration points and weights\n",
    "#           mapped to the interval [a,b], so that sum_i w[i]*f(x[i])\n",
    "#           is the Nth-order Gaussian approximation to the integral\n",
    "#           int_a^b f(x) dx\n",
    "#\n",
    "# This code finds the zeros of the nth Legendre polynomial using\n",
    "# Newton's method, starting from the approximation given in Abramowitz\n",
    "# and Stegun 22.16.6.  The Legendre polynomial itself is evaluated\n",
    "# using the recurrence relation given in Abramowitz and Stegun\n",
    "# 22.7.10.  The function has been checked against other sources for\n",
    "# values of N up to 1000.  It is compatible with version 2 and version\n",
    "# 3 of Python.\n",
    "#\n",
    "# Written by Mark Newman <mejn@umich.edu>, June 4, 2011\n",
    "# You may use, share, or modify this file freely\n",
    "#\n",
    "######################################################################\n",
    "\n",
    "from numpy import ones,copy,cos,tan,pi,linspace\n",
    "\n",
    "def gaussxw(N):\n",
    "\n",
    "    # Initial approximation to roots of the Legendre polynomial\n",
    "    a = linspace(3,4*N-1,N)/(4*N+2)\n",
    "    x = cos(pi*a+1/(8*N*N*tan(a)))\n",
    "\n",
    "    # Find roots using Newton's method\n",
    "    epsilon = 1e-15\n",
    "    delta = 1.0\n",
    "    while delta>epsilon:\n",
    "        p0 = ones(N,float)\n",
    "        p1 = copy(x)\n",
    "        for k in range(1,N):\n",
    "            p0,p1 = p1,((2*k+1)*x*p1-k*p0)/(k+1)\n",
    "        dp = (N+1)*(p0-x*p1)/(1-x*x)\n",
    "        dx = p1/dp\n",
    "        x -= dx\n",
    "        delta = max(abs(dx))\n",
    "\n",
    "    # Calculate the weights\n",
    "    w = 2*(N+1)*(N+1)/(N*N*(1-x*x)*dp*dp)\n",
    "\n",
    "    return x,w\n",
    "\n",
    "def gaussxwab(N,a,b):\n",
    "    x,w = gaussxw(N)\n",
    "    return 0.5*(b-a)*x+0.5*(b+a),0.5*(b-a)*w\n"
   ]
  },
  {
   "cell_type": "code",
   "execution_count": 2,
   "id": "60cbbc99-a389-4b96-a17f-cf144f993992",
   "metadata": {
    "tags": []
   },
   "outputs": [
    {
     "data": {
      "text/plain": [
       "(array([ 0.96028986,  0.79666648,  0.52553241,  0.18343464, -0.18343464,\n",
       "        -0.52553241, -0.79666648, -0.96028986]),\n",
       " array([0.10122854, 0.22238103, 0.31370665, 0.36268378, 0.36268378,\n",
       "        0.31370665, 0.22238103, 0.10122854]))"
      ]
     },
     "execution_count": 2,
     "metadata": {},
     "output_type": "execute_result"
    }
   ],
   "source": [
    "gaussxw(8)"
   ]
  },
  {
   "cell_type": "code",
   "execution_count": 3,
   "id": "aa81f6b6-b76a-4f6d-8b76-042114948854",
   "metadata": {
    "tags": []
   },
   "outputs": [],
   "source": [
    "def GaussLagQuad8(function):\n",
    "    x=np.asarray([1.7027963230510100e-1, 9.0370177679937991e-1,\\\n",
    "       2.2510866298661307,    4.2667001702876588,\\\n",
    "       7.0459054023934657,    1.0758516010180995e+1,\\\n",
    "       1.5740678641278005e+1, 2.2863131736889264e+1])\n",
    "    w=np.asarray([3.6918858934163753e-1, 4.1878678081434296e-1,\\\n",
    "       1.7579498663717181e-1, 3.3343492261215652e-2,\\\n",
    "       2.7945362352256725e-3, 9.0765087733582131e-5,\\\n",
    "       8.4857467162725315e-7, 1.0480011748715104e-9])\n",
    "    integral = np.sum(w*function(x))\n",
    "    return(integral)\n",
    "\n",
    "def gaussHermQuad8(function):\n",
    "    x = np.asarray([-0.38118699,-1.157193712,-1.981656757,-2.93063742,0.38118699,1.157193712,1.981656757,2.93063742])\n",
    "    w = np.asarray([0.661147013,0.207802326,0.017077983,0.000199604,0.661147013,0.207802326,0.017077983,.000199604])\n",
    "    integral = np.sum(w*function(x))\n",
    "    return(integral)\n",
    "\n",
    "def gaussLegQuad8(function):\n",
    "    x = np.asarray([-0.183434643,-0.52553241,-0.796666477,-0.960289857,0.183434643,0.52553241,0.796666477,0.960289857])\n",
    "    w = np.asarray([0.362683783,0.313706646,0.222381035,0.101228536,0.362683783,0.313706646,0.222381035,0.101228536])\n",
    "    integral = np.sum(w*function(x))\n",
    "\n"
   ]
  },
  {
   "cell_type": "code",
   "execution_count": null,
   "id": "c85b5427-9afc-4188-9b19-b7f97ac75922",
   "metadata": {},
   "outputs": [],
   "source": []
  }
 ],
 "metadata": {
  "kernelspec": {
   "display_name": "Python 3 (ipykernel)",
   "language": "python",
   "name": "python3"
  },
  "language_info": {
   "codemirror_mode": {
    "name": "ipython",
    "version": 3
   },
   "file_extension": ".py",
   "mimetype": "text/x-python",
   "name": "python",
   "nbconvert_exporter": "python",
   "pygments_lexer": "ipython3",
   "version": "3.9.17"
  }
 },
 "nbformat": 4,
 "nbformat_minor": 5
}
