{
 "cells": [
  {
   "cell_type": "markdown",
   "id": "fabde7c5-c6eb-4655-a406-72a191f888a1",
   "metadata": {},
   "source": [
    "# Day 31"
   ]
  },
  {
   "cell_type": "code",
   "execution_count": 2,
   "id": "cf164bc7-b5a3-48b1-b373-19a6385ab34b",
   "metadata": {},
   "outputs": [],
   "source": [
    "import numpy as np\n",
    "import matplotlib.pyplot as plt"
   ]
  },
  {
   "cell_type": "code",
   "execution_count": 3,
   "id": "2d0bd443-3137-477b-829c-dc4e5eba55e9",
   "metadata": {},
   "outputs": [],
   "source": [
    "def bisection(function, lower_guess, upper_guess, tolerance=2**-32):\n",
    "    midpoint = (lower_guess + upper_guess)/2\n",
    "    while upper_guess - lower_guess > tolerance:\n",
    "        if function(lower_guess)*function(midpoint)<0:\n",
    "            upper_guess = midpoint\n",
    "            midpoint = (lower_guess + upper_guess)/2\n",
    "        elif function(midpoint)*function(upper_guess)<0:\n",
    "            lower_guess = midpoint\n",
    "            midpoint = (lower_guess + upper_guess)/2\n",
    "        elif function(lower_guess)*function(midpoint)>0 and function(midpoint)*function(upper_guess)>0:\n",
    "            print('no unique root in that bracket')\n",
    "            break\n",
    "    return(midpoint)"
   ]
  },
  {
   "cell_type": "code",
   "execution_count": 8,
   "id": "7670ed45-cb01-458e-9f1f-00733cee94e2",
   "metadata": {
    "tags": []
   },
   "outputs": [
    {
     "data": {
      "application/vnd.jupyter.widget-view+json": {
       "model_id": "c0339d7e1af742569fbb68ebad11b3ce",
       "version_major": 2,
       "version_minor": 0
      },
      "text/plain": [
       "Canvas(toolbar=Toolbar(toolitems=[('Home', 'Reset original view', 'home', 'home'), ('Back', 'Back to previous …"
      ]
     },
     "metadata": {},
     "output_type": "display_data"
    },
    {
     "data": {
      "text/plain": [
       "[<matplotlib.lines.Line2D at 0x7f3a48f0b400>]"
      ]
     },
     "execution_count": 8,
     "metadata": {},
     "output_type": "execute_result"
    }
   ],
   "source": [
    "fig0, ax0 = plt.subplots()\n",
    "x = np.linspace(-1,5,100)\n",
    "ax0.plot(x, 5*np.exp(-x)+x-5)"
   ]
  },
  {
   "cell_type": "code",
   "execution_count": 9,
   "id": "6314179b-1bbc-4c3f-b316-c93b171f68ab",
   "metadata": {},
   "outputs": [],
   "source": [
    "def f(x):\n",
    "    return(5*np.exp(-x)+x-5)"
   ]
  },
  {
   "cell_type": "code",
   "execution_count": 10,
   "id": "52b95da2-3819-458b-b5a4-56ce67558f60",
   "metadata": {},
   "outputs": [
    {
     "data": {
      "text/plain": [
       "4.9651142318034545"
      ]
     },
     "execution_count": 10,
     "metadata": {},
     "output_type": "execute_result"
    }
   ],
   "source": [
    "bisection(f, 4, 6)"
   ]
  },
  {
   "cell_type": "code",
   "execution_count": 15,
   "id": "a0be511b-736d-466f-a5ff-c4b1872dac15",
   "metadata": {},
   "outputs": [],
   "source": [
    "def newton(f, df, guess, tolerance = 2**-32):\n",
    "    x = guess\n",
    "    n = 0\n",
    "    while abs(f(x)) > tolerance:\n",
    "        x = x - f(x)/df(x)\n",
    "        n += 1\n",
    "    return(x, n)"
   ]
  },
  {
   "cell_type": "code",
   "execution_count": 12,
   "id": "1cb09485-4a5d-444b-9d71-995ae1706252",
   "metadata": {},
   "outputs": [],
   "source": [
    "def df(x):\n",
    "    return(-5*np.exp(-x)+1)"
   ]
  },
  {
   "cell_type": "code",
   "execution_count": 29,
   "id": "2f9f7357-ddd5-4973-84a5-d009042cec95",
   "metadata": {},
   "outputs": [
    {
     "data": {
      "text/plain": [
       "(4.965114231750048, 3)"
      ]
     },
     "execution_count": 29,
     "metadata": {},
     "output_type": "execute_result"
    }
   ],
   "source": [
    "newton(f, df, 9)"
   ]
  },
  {
   "cell_type": "code",
   "execution_count": null,
   "id": "630a36c2-6403-439c-9d9b-41b6355237aa",
   "metadata": {},
   "outputs": [],
   "source": [
    "def secant(f, guess, delta, tolerance = 2**-32):\n",
    "    x0 = guess\n",
    "    x1 = x0 + delta\n",
    "    n = 0\n",
    "    while abs(f(x1))>tolerance:\n",
    "        "
   ]
  }
 ],
 "metadata": {
  "kernelspec": {
   "display_name": "Python 3",
   "language": "python",
   "name": "python3"
  },
  "language_info": {
   "codemirror_mode": {
    "name": "ipython",
    "version": 3
   },
   "file_extension": ".py",
   "mimetype": "text/x-python",
   "name": "python",
   "nbconvert_exporter": "python",
   "pygments_lexer": "ipython3",
   "version": "3.6.13"
  }
 },
 "nbformat": 4,
 "nbformat_minor": 5
}
