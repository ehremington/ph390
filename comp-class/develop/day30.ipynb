{
 "cells": [
  {
   "cell_type": "markdown",
   "id": "4c46df39-c3d3-46cd-9232-29ef09fd9420",
   "metadata": {},
   "source": [
    "# Day 30"
   ]
  },
  {
   "cell_type": "code",
   "execution_count": 4,
   "id": "95deb8d6-1fce-4a7f-b6f1-346092a5804e",
   "metadata": {},
   "outputs": [],
   "source": [
    "import numpy as np\n",
    "import matplotlib.pyplot as plt"
   ]
  },
  {
   "cell_type": "code",
   "execution_count": 6,
   "id": "fd07baf9-bd8d-4cc4-b77f-8becea91dd80",
   "metadata": {},
   "outputs": [
    {
     "data": {
      "application/vnd.jupyter.widget-view+json": {
       "model_id": "894e215b4de44ea08ca86c0e9ee3b086",
       "version_major": 2,
       "version_minor": 0
      },
      "text/plain": [
       "Canvas(toolbar=Toolbar(toolitems=[('Home', 'Reset original view', 'home', 'home'), ('Back', 'Back to previous …"
      ]
     },
     "metadata": {},
     "output_type": "display_data"
    },
    {
     "data": {
      "text/plain": [
       "[<matplotlib.lines.Line2D at 0x7f0dfb85a630>]"
      ]
     },
     "execution_count": 6,
     "metadata": {},
     "output_type": "execute_result"
    }
   ],
   "source": [
    "fig0,ax0 = plt.subplots()\n",
    "x = np.linspace(0,1,100)\n",
    "ax0.plot(x, np.exp(-x))\n",
    "ax0.plot(x,x)"
   ]
  },
  {
   "cell_type": "code",
   "execution_count": 8,
   "id": "742731e8-232a-4ae1-b6ef-48538b623fbe",
   "metadata": {},
   "outputs": [
    {
     "name": "stdout",
     "output_type": "stream",
     "text": [
      "0.36787944117144233\n",
      "0.6922006275553464\n",
      "0.5004735005636368\n",
      "0.6062435350855974\n",
      "0.545395785975027\n",
      "0.5796123355033789\n",
      "0.5601154613610891\n",
      "0.571143115080177\n",
      "0.5648793473910495\n",
      "0.5684287250290607\n",
      "0.5664147331468833\n",
      "0.5675566373282834\n",
      "0.5669089119214953\n",
      "0.5672762321755696\n",
      "0.5670678983907884\n",
      "0.567186050099357\n",
      "0.5671190400572149\n",
      "0.5671570440012975\n",
      "0.5671354902062784\n",
      "0.5671477142601192\n"
     ]
    }
   ],
   "source": [
    "x = 1\n",
    "for i in range(20):\n",
    "    x = np.exp(-x)\n",
    "    print(x)"
   ]
  },
  {
   "cell_type": "code",
   "execution_count": 11,
   "id": "e8f28397-96d6-43c8-9f0e-4dad761dc9ed",
   "metadata": {
    "collapsed": true,
    "jupyter": {
     "outputs_hidden": true
    },
    "tags": []
   },
   "outputs": [
    {
     "name": "stdout",
     "output_type": "stream",
     "text": [
      "3.720075976020836e-44\n",
      "1.0\n",
      "0.36787944117144233\n",
      "0.6922006275553464\n",
      "0.5004735005636368\n",
      "0.6062435350855974\n",
      "0.545395785975027\n",
      "0.5796123355033789\n",
      "0.5601154613610891\n",
      "0.571143115080177\n",
      "0.5648793473910495\n",
      "0.5684287250290607\n",
      "0.5664147331468833\n",
      "0.5675566373282834\n",
      "0.5669089119214953\n",
      "0.5672762321755696\n",
      "0.5670678983907884\n",
      "0.567186050099357\n",
      "0.5671190400572149\n",
      "0.5671570440012975\n"
     ]
    }
   ],
   "source": [
    "x = 100\n",
    "for i in range(20):\n",
    "    x = np.exp(-x)\n",
    "    print(x)"
   ]
  },
  {
   "cell_type": "markdown",
   "id": "74d7ca5f-5889-441d-9f00-c2297cebf856",
   "metadata": {},
   "source": [
    "Let's try with a new function:\n",
    "$$x = e^{1-x^2}$$"
   ]
  },
  {
   "cell_type": "code",
   "execution_count": 15,
   "id": "ccecc98e-c99e-455a-a639-a4d3e19572be",
   "metadata": {},
   "outputs": [
    {
     "data": {
      "application/vnd.jupyter.widget-view+json": {
       "model_id": "adea553fb53c424daac834233da65131",
       "version_major": 2,
       "version_minor": 0
      },
      "text/plain": [
       "Canvas(toolbar=Toolbar(toolitems=[('Home', 'Reset original view', 'home', 'home'), ('Back', 'Back to previous …"
      ]
     },
     "metadata": {},
     "output_type": "display_data"
    },
    {
     "data": {
      "text/plain": [
       "[<matplotlib.lines.Line2D at 0x7f0dfb9eb198>]"
      ]
     },
     "execution_count": 15,
     "metadata": {},
     "output_type": "execute_result"
    }
   ],
   "source": [
    "fig2, ax2 = plt.subplots()\n",
    "x = np.linspace(0,2,100)\n",
    "ax2.plot(x,np.exp(1-x**2))\n",
    "ax2.plot(x,x)"
   ]
  },
  {
   "cell_type": "code",
   "execution_count": 14,
   "id": "296e4f02-bf16-4517-8c00-238c18d11d45",
   "metadata": {
    "collapsed": true,
    "jupyter": {
     "outputs_hidden": true
    },
    "tags": []
   },
   "outputs": [
    {
     "name": "stdout",
     "output_type": "stream",
     "text": [
      "2.117000016612675\n",
      "0.030755419069985038\n",
      "2.715711832754083\n",
      "0.0017034651847384463\n",
      "2.71827394057758\n",
      "0.001679913095081425\n",
      "2.7182741571849562\n",
      "0.0016799111168229455\n",
      "2.7182741572030236\n",
      "0.0016799111166579386\n",
      "2.7182741572030253\n",
      "0.0016799111166579221\n",
      "2.7182741572030253\n",
      "0.0016799111166579221\n",
      "2.7182741572030253\n",
      "0.0016799111166579221\n",
      "2.7182741572030253\n",
      "0.0016799111166579221\n",
      "2.7182741572030253\n",
      "0.0016799111166579221\n"
     ]
    }
   ],
   "source": [
    "x = 0.5\n",
    "for i in range(20):\n",
    "    x = np.exp(1-x**2)\n",
    "    print(x)"
   ]
  },
  {
   "cell_type": "markdown",
   "id": "8d372ef0-6e63-420c-889a-5b9acd16df50",
   "metadata": {},
   "source": [
    "Let's try the inverted form of the previous equation:\n",
    "$$x=\\sqrt{1-\\ln x}$$"
   ]
  },
  {
   "cell_type": "code",
   "execution_count": 17,
   "id": "8790a2d7-d50c-4830-8a3c-1c16452ccb07",
   "metadata": {},
   "outputs": [
    {
     "data": {
      "application/vnd.jupyter.widget-view+json": {
       "model_id": "bf4380eca94e4f88b86207d09a59c75c",
       "version_major": 2,
       "version_minor": 0
      },
      "text/plain": [
       "Canvas(toolbar=Toolbar(toolitems=[('Home', 'Reset original view', 'home', 'home'), ('Back', 'Back to previous …"
      ]
     },
     "metadata": {},
     "output_type": "display_data"
    },
    {
     "name": "stderr",
     "output_type": "stream",
     "text": [
      "/home/eric/miniconda3/lib/python3.6/site-packages/ipykernel_launcher.py:3: RuntimeWarning: divide by zero encountered in log\n",
      "  This is separate from the ipykernel package so we can avoid doing imports until\n"
     ]
    },
    {
     "data": {
      "text/plain": [
       "[<matplotlib.lines.Line2D at 0x7f0dfb8a7fd0>]"
      ]
     },
     "execution_count": 17,
     "metadata": {},
     "output_type": "execute_result"
    }
   ],
   "source": [
    "fig1, ax1 = plt.subplots()\n",
    "x = np.linspace(0,2,100)\n",
    "ax1.plot(x, np.sqrt(1-np.log(x)))\n",
    "ax1.plot(x,x)"
   ]
  },
  {
   "cell_type": "code",
   "execution_count": 18,
   "id": "8da1e067-77e1-47f0-a1a4-4e093142cbfd",
   "metadata": {
    "tags": []
   },
   "outputs": [
    {
     "name": "stdout",
     "output_type": "stream",
     "text": [
      "1.3012098910475378\n",
      "0.8583154914892762\n",
      "1.0736775779454883\n",
      "0.9637999044091371\n",
      "1.0182689104343374\n",
      "0.990906635925747\n",
      "1.004557096969838\n",
      "0.997724037576543\n",
      "1.0011386299421705\n",
      "0.9994308469350205\n",
      "1.000284617043603\n",
      "0.9998577016016549\n",
      "1.000071151730577\n",
      "0.9999644247674951\n",
      "1.0000177877744567\n",
      "0.9999911061523217\n",
      "1.0000044469337268\n",
      "0.9999977765356085\n",
      "1.0000011117328136\n",
      "0.9999994441337476\n"
     ]
    }
   ],
   "source": [
    "x = 0.5\n",
    "for i in range(20):\n",
    "    x = np.sqrt(1-np.log(x))\n",
    "    print(x)"
   ]
  },
  {
   "cell_type": "code",
   "execution_count": 21,
   "id": "e3710930-2012-4228-af55-6ce0f86fdfff",
   "metadata": {},
   "outputs": [
    {
     "name": "stdout",
     "output_type": "stream",
     "text": [
      "1.0000000000589966\n"
     ]
    }
   ],
   "source": [
    "x = 2 # guess\n",
    "diff = 1 # arbitrary\n",
    "while abs(diff) > 2**-32:\n",
    "    x1 = np.sqrt(1-np.log(x))\n",
    "    diff = x - x1\n",
    "    x = x1\n",
    "    \n",
    "print(x)"
   ]
  },
  {
   "cell_type": "code",
   "execution_count": 2,
   "id": "223a0e08-271c-40fa-bc4d-9f6b8837e99c",
   "metadata": {},
   "outputs": [],
   "source": [
    "def bisection(function, lower_guess, upper_guess, tolerance=2**-32):\n",
    "    midpoint = (lower_guess + upper_guess)/2\n",
    "    while upper_guess - lower_guess > tolerance:\n",
    "        if function(lower_guess)*function(midpoint)<0:\n",
    "            upper_guess = midpoint\n",
    "            midpoint = (lower_guess + upper_guess)/2\n",
    "        elif function(midpoint)*function(upper_guess)<0:\n",
    "            lower_guess = midpoint\n",
    "            midpoint = (lower_guess + upper_guess)/2\n",
    "        elif function(lower_guess)*function(midpoint)>0 and function(midpoint)*function(upper_guess)>0:\n",
    "            print('no unique root in that bracket')\n",
    "            break\n",
    "    return(midpoint)"
   ]
  },
  {
   "cell_type": "code",
   "execution_count": 3,
   "id": "9c399258-4f39-4545-99b8-51cd42381623",
   "metadata": {},
   "outputs": [
    {
     "data": {
      "text/plain": [
       "1.0000000000640283"
      ]
     },
     "execution_count": 3,
     "metadata": {},
     "output_type": "execute_result"
    }
   ],
   "source": [
    "def func(x):\n",
    "    return(x-np.exp(1-x**2))\n",
    "\n",
    "bisection(func, 0, 1.7)"
   ]
  },
  {
   "cell_type": "code",
   "execution_count": 33,
   "id": "4c486fb1-e7a0-422c-9514-74b92c96e815",
   "metadata": {},
   "outputs": [
    {
     "data": {
      "text/plain": [
       "1.9502129316321362"
      ]
     },
     "execution_count": 33,
     "metadata": {},
     "output_type": "execute_result"
    }
   ],
   "source": [
    "func(2)"
   ]
  },
  {
   "cell_type": "code",
   "execution_count": null,
   "id": "b4e576cd-f77d-46d8-9a34-15d608eb73bd",
   "metadata": {},
   "outputs": [],
   "source": []
  }
 ],
 "metadata": {
  "kernelspec": {
   "display_name": "Python 3",
   "language": "python",
   "name": "python3"
  },
  "language_info": {
   "codemirror_mode": {
    "name": "ipython",
    "version": 3
   },
   "file_extension": ".py",
   "mimetype": "text/x-python",
   "name": "python",
   "nbconvert_exporter": "python",
   "pygments_lexer": "ipython3",
   "version": "3.6.13"
  }
 },
 "nbformat": 4,
 "nbformat_minor": 5
}
