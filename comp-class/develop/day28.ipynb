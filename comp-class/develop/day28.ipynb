{
 "cells": [
  {
   "cell_type": "code",
   "execution_count": 5,
   "id": "1e25643e-8d55-4849-b602-18aed6f0c915",
   "metadata": {
    "collapsed": true,
    "jupyter": {
     "outputs_hidden": true
    },
    "tags": []
   },
   "outputs": [
    {
     "ename": "ImportError",
     "evalue": "cannot import name 'cRK4'",
     "output_type": "error",
     "traceback": [
      "\u001b[0;31m---------------------------------------------------------------------------\u001b[0m",
      "\u001b[0;31mImportError\u001b[0m                               Traceback (most recent call last)",
      "\u001b[0;32m<ipython-input-5-a94ebb040bbb>\u001b[0m in \u001b[0;36m<module>\u001b[0;34m()\u001b[0m\n\u001b[0;32m----> 1\u001b[0;31m \u001b[0;32mfrom\u001b[0m \u001b[0mscripts\u001b[0m \u001b[0;32mimport\u001b[0m \u001b[0mcRK4\u001b[0m\u001b[0;34m\u001b[0m\u001b[0;34m\u001b[0m\u001b[0m\n\u001b[0m",
      "\u001b[0;31mImportError\u001b[0m: cannot import name 'cRK4'"
     ]
    }
   ],
   "source": [
    "from scripts import cRK4"
   ]
  },
  {
   "cell_type": "markdown",
   "id": "e020bd72-fe1d-4c9d-ac1a-5b3280d3a0e3",
   "metadata": {},
   "source": [
    "# UGGGGHHHHHHHHHHHHHHHHHHHH"
   ]
  },
  {
   "cell_type": "code",
   "execution_count": null,
   "id": "e8a3c827-b783-4ae8-b4bb-6ab97128e216",
   "metadata": {},
   "outputs": [],
   "source": [
    "def f(r,t):\n",
    "    x = r[0]\n",
    "    y = r[1]\n",
    "    a =\n",
    "    b = \n",
    "    g =\n",
    "    d =\n",
    "       \n",
    "    fx = a*x-b*x*y\n",
    "    fy = \n",
    "    return(np.array([fx,fy],float))\n",
    "\n",
    "def cRK4(f, tf, x0, v0, t0=0, dt=2**-5): \n",
    "\n",
    "    r = np.array([x0,v0],float) # initial condition\n",
    "\n",
    "    tpoints = np.arange(t0, tf, dt)\n",
    "    xpoints = []\n",
    "    vpoints = []\n",
    "\n",
    "    for t in tpoints:\n",
    "        xpoints.append(r[0])\n",
    "        vpoints.append(r[1])\n",
    "        k1 = dt*f(r,t)\n",
    "        k2 = dt*f(r+0.5*k1,t+0.5*dt)\n",
    "        k3 = dt*f(r+0.5*k2,t+0.5*dt)\n",
    "        k4 = dt*f(r+k3, t+dt)\n",
    "        r = r + (k1+2*k2+2*k3+k4)/6\n",
    "        \n",
    "    return(tpoints, xpoints, vpoints)a"
   ]
  }
 ],
 "metadata": {
  "kernelspec": {
   "display_name": "Python 3",
   "language": "python",
   "name": "python3"
  },
  "language_info": {
   "codemirror_mode": {
    "name": "ipython",
    "version": 3
   },
   "file_extension": ".py",
   "mimetype": "text/x-python",
   "name": "python",
   "nbconvert_exporter": "python",
   "pygments_lexer": "ipython3",
   "version": "3.6.13"
  }
 },
 "nbformat": 4,
 "nbformat_minor": 5
}
