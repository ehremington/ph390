{
 "cells": [
  {
   "cell_type": "markdown",
   "id": "5c0e46f8-f99b-4144-9c10-266ecfd78c9c",
   "metadata": {},
   "source": [
    "# Day 18"
   ]
  },
  {
   "cell_type": "code",
   "execution_count": 1,
   "id": "94bb92a9-cc08-4fdf-9432-70367026c799",
   "metadata": {},
   "outputs": [],
   "source": [
    "def GaussLagQuad8(function):\n",
    "    x=np.asarray([1.7027963230510100e-1, 9.0370177679937991e-1,\\\n",
    "       2.2510866298661307,    4.2667001702876588,\\\n",
    "       7.0459054023934657,    1.0758516010180995e+1,\\\n",
    "       1.5740678641278005e+1, 2.2863131736889264e+1])\n",
    "    w=np.asarray([3.6918858934163753e-1, 4.1878678081434296e-1,\\\n",
    "       1.7579498663717181e-1, 3.3343492261215652e-2,\\\n",
    "       2.7945362352256725e-3, 9.0765087733582131e-5,\\\n",
    "       8.4857467162725315e-7, 1.0480011748715104e-9])\n",
    "    integral = np.sum(w*function(x))\n",
    "    return(integral)\n",
    "\n",
    "def gaussHermQuad8(function):\n",
    "    x = np.asarray([-0.38118699,-1.157193712,-1.981656757,-2.93063742,0.38118699,1.157193712,1.981656757,2.93063742])\n",
    "    w = np.asarray([0.661147013,0.207802326,0.017077983,0.000199604,0.661147013,0.207802326,0.017077983,.000199604])\n",
    "    integral = np.sum(w*function(x))\n",
    "    return(integral)\n",
    "\n",
    "def gaussLegQuad8(function):\n",
    "    x = np.asarray([-0.183434643,-0.52553241,-0.796666477,-0.960289857,0.183434643,0.52553241,0.796666477,0.960289857])\n",
    "    w = np.asarray([0.362683783,0.313706646,0.222381035,0.101228536,0.362683783,0.313706646,0.222381035,0.101228536])\n",
    "    integral = np.sum(w*function(x))\n",
    "\n"
   ]
  },
  {
   "cell_type": "code",
   "execution_count": 2,
   "id": "882c0e63-e095-437a-8a0f-9572197d271a",
   "metadata": {},
   "outputs": [],
   "source": [
    "def f(x):\n",
    "    return(x**3/(1-np.exp(-x)))"
   ]
  },
  {
   "cell_type": "code",
   "execution_count": 3,
   "id": "51afba8b-6a3d-41d3-88fd-4b14ba48efdf",
   "metadata": {},
   "outputs": [
    {
     "data": {
      "text/plain": [
       "6.493935665352684"
      ]
     },
     "execution_count": 3,
     "metadata": {},
     "output_type": "execute_result"
    }
   ],
   "source": [
    "GaussLagQuad8(f)"
   ]
  },
  {
   "cell_type": "code",
   "execution_count": 4,
   "id": "69cd08d0-57ff-4ca6-a11f-e654ba77da34",
   "metadata": {},
   "outputs": [],
   "source": [
    "def g(x):\n",
    "    return(1/(1-x)**2/np.exp(-x))"
   ]
  },
  {
   "cell_type": "code",
   "execution_count": 5,
   "id": "896b108f-d283-4fc4-b7e0-e6f18724652c",
   "metadata": {},
   "outputs": [
    {
     "data": {
      "text/plain": [
       "113.59158514977683"
      ]
     },
     "execution_count": 5,
     "metadata": {},
     "output_type": "execute_result"
    }
   ],
   "source": [
    "GaussLagQuad8(g)"
   ]
  },
  {
   "cell_type": "code",
   "execution_count": null,
   "id": "499d1566-f874-4b11-8fc0-c54d0d296977",
   "metadata": {},
   "outputs": [],
   "source": []
  }
 ],
 "metadata": {
  "kernelspec": {
   "display_name": "Python 3",
   "language": "python",
   "name": "python3"
  },
  "language_info": {
   "codemirror_mode": {
    "name": "ipython",
    "version": 3
   },
   "file_extension": ".py",
   "mimetype": "text/x-python",
   "name": "python",
   "nbconvert_exporter": "python",
   "pygments_lexer": "ipython3",
   "version": "3.6.13"
  }
 },
 "nbformat": 4,
 "nbformat_minor": 5
}
