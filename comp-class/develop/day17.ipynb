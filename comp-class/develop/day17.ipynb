{
 "cells": [
  {
   "cell_type": "markdown",
   "id": "d1b06994-3859-4216-a5e3-4fa005015eb5",
   "metadata": {},
   "source": [
    "# Day 17"
   ]
  },
  {
   "cell_type": "code",
   "execution_count": 1,
   "id": "433fd444-62b4-4876-88ce-e37fcb1eec25",
   "metadata": {},
   "outputs": [],
   "source": [
    "import numpy as np\n",
    "import matplotlib.pyplot as plt"
   ]
  },
  {
   "cell_type": "code",
   "execution_count": 2,
   "id": "2288175f-c18b-4480-ada2-7438079ed89d",
   "metadata": {},
   "outputs": [],
   "source": [
    "def integrate(func, a, b, steps):\n",
    "    # using trapezoid method\n",
    "    h = (b-a)/steps\n",
    "    s = (func(a)+func(b))*h/2\n",
    "    x = np.linspace(a, b, steps+1)\n",
    "    y = func(x)\n",
    "    s = s + np.sum(y[1:steps]*h)\n",
    "    return(s)\n",
    "\n",
    "def integrate1(func, a, b, steps):\n",
    "    if steps%2 != 0:\n",
    "        steps = steps + 1\n",
    "    h = (b-a)/steps\n",
    "    x = np.linspace(a, b, steps+1)\n",
    "    y = func(x)\n",
    "    s = h/3*(y[0] + y[-1] + 4*np.sum(y[1:steps:2]) +\n",
    "             2*np.sum(y[2:steps-1:2]))\n",
    "    return(s)"
   ]
  },
  {
   "cell_type": "code",
   "execution_count": 3,
   "id": "d28b6f8d-a7e7-4738-8ce1-119c576bd876",
   "metadata": {},
   "outputs": [],
   "source": [
    "def f(x):\n",
    "    return(x**4-2*x+1)"
   ]
  },
  {
   "cell_type": "code",
   "execution_count": 4,
   "id": "adf54bcf-e760-4173-b501-52ab64dd8419",
   "metadata": {},
   "outputs": [
    {
     "data": {
      "text/plain": [
       "4.400000039417404"
      ]
     },
     "execution_count": 4,
     "metadata": {},
     "output_type": "execute_result"
    }
   ],
   "source": [
    "integrate1(f, 0, 2, 101)"
   ]
  },
  {
   "cell_type": "code",
   "execution_count": 5,
   "id": "e5d676fd-ddc1-4c6d-b0a5-88d0c5ea1bd0",
   "metadata": {},
   "outputs": [],
   "source": [
    "def f1(t):\n",
    "    return(np.exp(-(t**2)))\n",
    "\n",
    "def capitalE(x):\n",
    "    return(integrate1(f1,0,x,100))"
   ]
  },
  {
   "cell_type": "code",
   "execution_count": 6,
   "id": "9a83118b-311b-47c9-86fe-9fb2b1a66e7f",
   "metadata": {},
   "outputs": [
    {
     "data": {
      "application/vnd.jupyter.widget-view+json": {
       "model_id": "49a3888b25e9401daa3c7f0a74330395",
       "version_major": 2,
       "version_minor": 0
      },
      "text/plain": [
       "Canvas(toolbar=Toolbar(toolitems=[('Home', 'Reset original view', 'home', 'home'), ('Back', 'Back to previous …"
      ]
     },
     "metadata": {},
     "output_type": "display_data"
    },
    {
     "data": {
      "text/plain": [
       "[<matplotlib.lines.Line2D at 0x7f1ef77d4160>]"
      ]
     },
     "execution_count": 6,
     "metadata": {},
     "output_type": "execute_result"
    }
   ],
   "source": [
    "fig0, ax0 = plt.subplots()\n",
    "\n",
    "x = np.linspace(0, 3, 31)\n",
    "y = capitalE(x)\n",
    "\n",
    "ax0.plot(x,f1(x), 'o', label=r'f1(t)')\n",
    "#ax0.plot(x,y, 'o', label=r'$\\int f1(t) dt$')"
   ]
  },
  {
   "cell_type": "code",
   "execution_count": 7,
   "id": "696f761c-3845-41e6-8217-3fc5ddb27265",
   "metadata": {},
   "outputs": [
    {
     "data": {
      "text/plain": [
       "0.8862242155976702"
      ]
     },
     "execution_count": 7,
     "metadata": {},
     "output_type": "execute_result"
    }
   ],
   "source": [
    "capitalE(3.3)"
   ]
  },
  {
   "cell_type": "code",
   "execution_count": 8,
   "id": "00b7ce84-6a1a-4172-aa25-648c96b6335b",
   "metadata": {},
   "outputs": [
    {
     "data": {
      "text/plain": [
       "56.85737714997254"
      ]
     },
     "execution_count": 8,
     "metadata": {},
     "output_type": "execute_result"
    }
   ],
   "source": [
    "y[30]"
   ]
  },
  {
   "cell_type": "code",
   "execution_count": 9,
   "id": "52a932d2-baab-4fbe-9a66-1915062bbf46",
   "metadata": {},
   "outputs": [
    {
     "data": {
      "text/plain": [
       "array([0. , 0.1, 0.2, 0.3, 0.4, 0.5, 0.6, 0.7, 0.8, 0.9, 1. , 1.1, 1.2,\n",
       "       1.3, 1.4, 1.5, 1.6, 1.7, 1.8, 1.9, 2. , 2.1, 2.2, 2.3, 2.4, 2.5,\n",
       "       2.6, 2.7, 2.8, 2.9, 3. ])"
      ]
     },
     "execution_count": 9,
     "metadata": {},
     "output_type": "execute_result"
    }
   ],
   "source": [
    "x"
   ]
  },
  {
   "cell_type": "code",
   "execution_count": 10,
   "id": "4bfe41a1-7f4f-4892-866f-77599c36ce50",
   "metadata": {},
   "outputs": [
    {
     "data": {
      "text/plain": [
       "array([ 0.        ,  1.89557588,  3.79113225,  5.68665152,  7.58211965,\n",
       "        9.47752732, 11.37287054, 13.26815051, 15.16337302, 17.05854735,\n",
       "       18.9536849 , 20.84879789, 22.74389808, 24.63899581, 26.53409943,\n",
       "       28.42921495, 30.32434611, 32.21949462, 34.11466053, 36.00984274,\n",
       "       37.90503938, 39.80024823, 41.69546699, 43.59069352, 45.48592594,\n",
       "       47.38116268, 49.27640251, 51.17164447, 53.06688786, 54.9621322 ,\n",
       "       56.85737715])"
      ]
     },
     "execution_count": 10,
     "metadata": {},
     "output_type": "execute_result"
    }
   ],
   "source": [
    "capitalE(x)"
   ]
  },
  {
   "cell_type": "code",
   "execution_count": null,
   "id": "ddbd3101-59c1-4f18-b469-949139cae998",
   "metadata": {},
   "outputs": [],
   "source": []
  }
 ],
 "metadata": {
  "kernelspec": {
   "display_name": "Python 3",
   "language": "python",
   "name": "python3"
  },
  "language_info": {
   "codemirror_mode": {
    "name": "ipython",
    "version": 3
   },
   "file_extension": ".py",
   "mimetype": "text/x-python",
   "name": "python",
   "nbconvert_exporter": "python",
   "pygments_lexer": "ipython3",
   "version": "3.6.13"
  }
 },
 "nbformat": 4,
 "nbformat_minor": 5
}
