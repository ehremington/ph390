{
 "cells": [
  {
   "cell_type": "markdown",
   "id": "31d67a4f-fa4f-4964-9f8a-2c47036e0125",
   "metadata": {},
   "source": [
    "## Day 21\n",
    "\n",
    "Solving ODE's using python rather than excel"
   ]
  },
  {
   "cell_type": "code",
   "execution_count": null,
   "id": "e9622010-0425-4470-915a-62de2b3463f3",
   "metadata": {},
   "outputs": [],
   "source": []
  },
  {
   "cell_type": "code",
   "execution_count": null,
   "id": "55d448e6-83c2-4c3d-98d4-d92ea53cf063",
   "metadata": {},
   "outputs": [],
   "source": []
  },
  {
   "cell_type": "code",
   "execution_count": null,
   "id": "1e680760-f186-4595-8f04-938b536ad562",
   "metadata": {},
   "outputs": [],
   "source": []
  },
  {
   "cell_type": "code",
   "execution_count": null,
   "id": "a5c1c574-2fae-428e-b08b-5e09719e68da",
   "metadata": {},
   "outputs": [],
   "source": []
  },
  {
   "cell_type": "code",
   "execution_count": null,
   "id": "887a903f-6528-4b87-9e7a-4bd10d3a8b27",
   "metadata": {},
   "outputs": [],
   "source": []
  },
  {
   "cell_type": "code",
   "execution_count": null,
   "id": "d39f04ac-87ab-468a-97be-d5929abfb5a9",
   "metadata": {},
   "outputs": [],
   "source": []
  },
  {
   "cell_type": "code",
   "execution_count": null,
   "id": "42c2b79c-a426-4d5a-821c-b394a89bc863",
   "metadata": {},
   "outputs": [],
   "source": []
  },
  {
   "cell_type": "code",
   "execution_count": null,
   "id": "50ce0a05-86cb-473e-bc77-43d3a0578456",
   "metadata": {},
   "outputs": [],
   "source": []
  },
  {
   "cell_type": "code",
   "execution_count": null,
   "id": "7d4b8c33-65f4-4bc5-9931-d69a998b90d3",
   "metadata": {},
   "outputs": [],
   "source": []
  },
  {
   "cell_type": "code",
   "execution_count": null,
   "id": "6c955f52-6856-4056-87d2-f7166999e395",
   "metadata": {},
   "outputs": [],
   "source": []
  },
  {
   "cell_type": "code",
   "execution_count": null,
   "id": "dc39e8cf-4fc1-4918-900d-fce9982c66f8",
   "metadata": {},
   "outputs": [],
   "source": []
  },
  {
   "cell_type": "code",
   "execution_count": null,
   "id": "4ab1e42c-04e8-4214-8dfd-d8f581c18333",
   "metadata": {},
   "outputs": [],
   "source": []
  },
  {
   "cell_type": "code",
   "execution_count": null,
   "id": "596f45fb-c7b3-47c2-b604-dad90af3c8f4",
   "metadata": {},
   "outputs": [],
   "source": []
  },
  {
   "cell_type": "code",
   "execution_count": null,
   "id": "ff5b6352-451e-486a-9d5f-dfb493e46d5a",
   "metadata": {},
   "outputs": [],
   "source": []
  },
  {
   "cell_type": "code",
   "execution_count": null,
   "id": "ebde8314-aad2-4e9b-a1a6-c2b4e86e130a",
   "metadata": {},
   "outputs": [],
   "source": []
  },
  {
   "cell_type": "code",
   "execution_count": null,
   "id": "89f6484f-2f9c-49ff-8c31-62c71ea800b9",
   "metadata": {},
   "outputs": [],
   "source": []
  },
  {
   "cell_type": "code",
   "execution_count": null,
   "id": "485a5a5f-90a6-438f-950e-c86cdd8b4213",
   "metadata": {},
   "outputs": [],
   "source": []
  },
  {
   "cell_type": "code",
   "execution_count": 21,
   "id": "33d39fab-6776-41d0-8214-be6b70f4b8e1",
   "metadata": {
    "tags": []
   },
   "outputs": [
    {
     "data": {
      "application/vnd.jupyter.widget-view+json": {
       "model_id": "befc2a733dfc4b4d8015f83897f148a7",
       "version_major": 2,
       "version_minor": 0
      },
      "text/plain": [
       "Canvas(toolbar=Toolbar(toolitems=[('Home', 'Reset original view', 'home', 'home'), ('Back', 'Back to previous …"
      ]
     },
     "metadata": {},
     "output_type": "display_data"
    },
    {
     "data": {
      "text/plain": [
       "Text(0, 0.5, 'x(t)')"
      ]
     },
     "execution_count": 21,
     "metadata": {},
     "output_type": "execute_result"
    }
   ],
   "source": [
    "from math import sin\n",
    "from numpy import arange\n",
    "#from pylab import plot,xlabel,ylabel,show\n",
    "from matplotlib.pyplot import subplots\n",
    "\n",
    "def f(x,t):\n",
    "    return -x**3 + sin(t)\n",
    "\n",
    "a = 0.0           # Start of the interval\n",
    "b = 10.0          # End of the interval\n",
    "N = 100          # Number of steps\n",
    "h = (b-a)/N       # Size of a single step\n",
    "x = 0.0           # Initial condition\n",
    "\n",
    "tpoints = arange(a,b,h)\n",
    "xpoints = []\n",
    "for t in tpoints:\n",
    "    xpoints.append(x)\n",
    "    x += h*f(x,t)\n",
    "\n",
    "fig, ax = subplots()\n",
    "ax.plot(tpoints,xpoints)\n",
    "ax.set_xlabel(\"t\")\n",
    "ax.set_ylabel(\"x(t)\")\n"
   ]
  },
  {
   "cell_type": "code",
   "execution_count": 3,
   "id": "69db454e-bc41-46da-b9a7-ef0882db0b4d",
   "metadata": {},
   "outputs": [
    {
     "data": {
      "text/plain": [
       "1000"
      ]
     },
     "execution_count": 3,
     "metadata": {},
     "output_type": "execute_result"
    }
   ],
   "source": [
    "len(xpoints)"
   ]
  },
  {
   "cell_type": "code",
   "execution_count": 8,
   "id": "c3616c80-8938-498b-a355-2ddbdd34292f",
   "metadata": {},
   "outputs": [
    {
     "data": {
      "text/plain": [
       "array([0.  , 0.01, 0.02, 0.03, 0.04, 0.05, 0.06, 0.07, 0.08, 0.09])"
      ]
     },
     "execution_count": 8,
     "metadata": {},
     "output_type": "execute_result"
    }
   ],
   "source": [
    "tpoints[0:10]"
   ]
  },
  {
   "cell_type": "code",
   "execution_count": 9,
   "id": "42127682-0690-4d94-a0c1-963cca640511",
   "metadata": {},
   "outputs": [
    {
     "data": {
      "text/plain": [
       "[0.0,\n",
       " 0.0,\n",
       " 9.999833334166665e-05,\n",
       " 0.000299985000264998,\n",
       " 0.000599940002019995,\n",
       " 0.0009998333417269847,\n",
       " 0.001499625024438767,\n",
       " 0.0020992650555085174,\n",
       " 0.002798693436371044,\n",
       " 0.003597840156849931]"
      ]
     },
     "execution_count": 9,
     "metadata": {},
     "output_type": "execute_result"
    }
   ],
   "source": [
    "xpoints[0:10]"
   ]
  },
  {
   "cell_type": "code",
   "execution_count": null,
   "id": "b8503c3e-a9dc-43db-9a6b-f129a1867d69",
   "metadata": {},
   "outputs": [],
   "source": []
  }
 ],
 "metadata": {
  "kernelspec": {
   "display_name": "Python 3",
   "language": "python",
   "name": "python3"
  },
  "language_info": {
   "codemirror_mode": {
    "name": "ipython",
    "version": 3
   },
   "file_extension": ".py",
   "mimetype": "text/x-python",
   "name": "python",
   "nbconvert_exporter": "python",
   "pygments_lexer": "ipython3",
   "version": "3.6.13"
  }
 },
 "nbformat": 4,
 "nbformat_minor": 5
}
