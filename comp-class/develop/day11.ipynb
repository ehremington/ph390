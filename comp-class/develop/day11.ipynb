{
 "cells": [
  {
   "cell_type": "markdown",
   "id": "90262755-b501-4ab1-8e59-c96abce97a09",
   "metadata": {},
   "source": [
    "# Day 11"
   ]
  },
  {
   "cell_type": "code",
   "execution_count": 1,
   "id": "fe61c9a7-daec-4fea-b443-ea7d4221917d",
   "metadata": {},
   "outputs": [],
   "source": [
    "def forwardDiff(func, x, h):\n",
    "    return((func(x+h)-func(x))/h)\n",
    "\n",
    "def backwardDiff(func, x, h):\n",
    "    return((func(x)-func(x-h))/h)\n",
    "\n",
    "def midpointDiff(func, x, h):\n",
    "    return((func(x+h)-func(x-h))/2/h)\n",
    "           \n",
    "           "
   ]
  },
  {
   "cell_type": "code",
   "execution_count": 2,
   "id": "d28ea86a-6820-46b4-9e0d-ef0ef91a4cf4",
   "metadata": {},
   "outputs": [],
   "source": [
    "def myfunc(x):\n",
    "    return(1/3*x**3)"
   ]
  },
  {
   "cell_type": "code",
   "execution_count": 3,
   "id": "dbee10e2-03a0-40fc-a499-a37e59a3deb2",
   "metadata": {},
   "outputs": [
    {
     "data": {
      "text/plain": [
       "1.0100333333333378"
      ]
     },
     "execution_count": 3,
     "metadata": {},
     "output_type": "execute_result"
    }
   ],
   "source": [
    "forwardDiff(myfunc, 1, 0.01)"
   ]
  },
  {
   "cell_type": "code",
   "execution_count": 4,
   "id": "7b12db0a-a7bf-48b4-bd47-4a91c4a94dc0",
   "metadata": {},
   "outputs": [
    {
     "data": {
      "text/plain": [
       "0.9900333333333344"
      ]
     },
     "execution_count": 4,
     "metadata": {},
     "output_type": "execute_result"
    }
   ],
   "source": [
    "backwardDiff(myfunc, 1, 0.01)"
   ]
  },
  {
   "cell_type": "code",
   "execution_count": 15,
   "id": "2b35afd8-ddaf-4dd0-af3c-9043ded1057e",
   "metadata": {},
   "outputs": [
    {
     "data": {
      "text/plain": [
       "1.000033333333336"
      ]
     },
     "execution_count": 15,
     "metadata": {},
     "output_type": "execute_result"
    }
   ],
   "source": [
    "midpointDiff(myfunc, 1, 0.01)"
   ]
  },
  {
   "cell_type": "code",
   "execution_count": 16,
   "id": "66847b83-831f-488e-9472-0f4911470e69",
   "metadata": {},
   "outputs": [
    {
     "data": {
      "text/plain": [
       "1.000000082740371"
      ]
     },
     "execution_count": 16,
     "metadata": {},
     "output_type": "execute_result"
    }
   ],
   "source": [
    "midpointDiff(myfunc, 1, 0.00000000001)"
   ]
  },
  {
   "cell_type": "code",
   "execution_count": null,
   "id": "9ce3db47-6095-4b97-9874-e9a26ef6ba29",
   "metadata": {},
   "outputs": [],
   "source": []
  }
 ],
 "metadata": {
  "kernelspec": {
   "display_name": "Python 3",
   "language": "python",
   "name": "python3"
  },
  "language_info": {
   "codemirror_mode": {
    "name": "ipython",
    "version": 3
   },
   "file_extension": ".py",
   "mimetype": "text/x-python",
   "name": "python",
   "nbconvert_exporter": "python",
   "pygments_lexer": "ipython3",
   "version": "3.6.13"
  }
 },
 "nbformat": 4,
 "nbformat_minor": 5
}
