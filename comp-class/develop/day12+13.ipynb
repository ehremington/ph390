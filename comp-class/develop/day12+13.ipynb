{
 "cells": [
  {
   "cell_type": "markdown",
   "id": "7fa3ac29-1a9a-488b-9c4b-83271fe67272",
   "metadata": {},
   "source": [
    "# Day 12"
   ]
  },
  {
   "cell_type": "code",
   "execution_count": 6,
   "id": "a96141c9-5055-43e4-9e60-77bddea41e32",
   "metadata": {},
   "outputs": [],
   "source": [
    "def forwardDiff(func, x, h):\n",
    "    return((func(x+h)-func(x))/h)\n",
    "\n",
    "def backwardDiff(func, x, h):\n",
    "    return((func(x)-func(x-h))/h)\n",
    "\n",
    "def midpointDiff(func, x, h):\n",
    "    return((func(x+h)-func(x-h))/2/h)\n",
    "\n",
    "def doubleD(func, x, h):\n",
    "    return((func(x+h)-2*func(x)+func(x-h))/h**2)"
   ]
  },
  {
   "cell_type": "code",
   "execution_count": 7,
   "id": "f9bf0367-b41b-41d9-b282-d92b62ed768a",
   "metadata": {},
   "outputs": [],
   "source": [
    "def myfunc(x):\n",
    "    return(1/3*x**3)"
   ]
  },
  {
   "cell_type": "code",
   "execution_count": 8,
   "id": "46245529-e493-46f0-b0cc-5e0da4393fc6",
   "metadata": {},
   "outputs": [
    {
     "data": {
      "text/plain": [
       "0.9999999999732445"
      ]
     },
     "execution_count": 8,
     "metadata": {},
     "output_type": "execute_result"
    }
   ],
   "source": [
    "midpointDiff(myfunc,1,1e-6)"
   ]
  },
  {
   "cell_type": "code",
   "execution_count": 9,
   "id": "53f3e50f-4b89-490f-adf5-fc16cd6eb7ee",
   "metadata": {},
   "outputs": [
    {
     "data": {
      "text/plain": [
       "1.999955756559757"
      ]
     },
     "execution_count": 9,
     "metadata": {},
     "output_type": "execute_result"
    }
   ],
   "source": [
    "doubleD(myfunc,1,1e-6)"
   ]
  },
  {
   "cell_type": "code",
   "execution_count": null,
   "id": "c0a963e7-6912-4551-829b-f97e15345008",
   "metadata": {},
   "outputs": [],
   "source": []
  },
  {
   "cell_type": "code",
   "execution_count": 24,
   "id": "14176f36-5526-41a1-a6af-7e4d860f3766",
   "metadata": {},
   "outputs": [],
   "source": [
    "def derivative(func, start_value, stop_value):\n",
    "    x = np.linspace(start_value, stop_value, 100)\n",
    "    y = []\n",
    "    for i in x:\n",
    "        y.append(midpointDiff(func, i, 1e-6))\n",
    "    return(x,y)"
   ]
  },
  {
   "cell_type": "code",
   "execution_count": 25,
   "id": "be8205cd-d28c-4be2-9bb3-bb18e9a7183e",
   "metadata": {},
   "outputs": [
    {
     "data": {
      "application/vnd.jupyter.widget-view+json": {
       "model_id": "5add8b398caf42a99dbf23e3ca44ae93",
       "version_major": 2,
       "version_minor": 0
      },
      "text/plain": [
       "Canvas(toolbar=Toolbar(toolitems=[('Home', 'Reset original view', 'home', 'home'), ('Back', 'Back to previous …"
      ]
     },
     "metadata": {},
     "output_type": "display_data"
    },
    {
     "data": {
      "text/plain": [
       "[<matplotlib.lines.Line2D at 0x7f0fa38d6978>]"
      ]
     },
     "execution_count": 25,
     "metadata": {},
     "output_type": "execute_result"
    }
   ],
   "source": [
    "fig = plt.figure()\n",
    "ax0 = fig.add_subplot()\n",
    "\n",
    "x1, y1 = derivative(myfunc, -1,1)\n",
    "\n",
    "ax0.plot(x1, myfunc(x1), 'o')\n",
    "ax0.plot(x1, y1,'o')"
   ]
  },
  {
   "cell_type": "code",
   "execution_count": 22,
   "id": "27d37d55-ea99-4e0f-b184-9f6598481104",
   "metadata": {},
   "outputs": [],
   "source": [
    "f = np.linspace(0,1)"
   ]
  },
  {
   "cell_type": "code",
   "execution_count": 26,
   "id": "2e987795-6397-44be-81fd-716fced07349",
   "metadata": {},
   "outputs": [],
   "source": [
    "g = range(0,10)"
   ]
  },
  {
   "cell_type": "code",
   "execution_count": 27,
   "id": "51b23efc-6b10-4ac1-aa18-5eb4df2f2cf7",
   "metadata": {},
   "outputs": [
    {
     "data": {
      "text/plain": [
       "range(0, 10)"
      ]
     },
     "execution_count": 27,
     "metadata": {},
     "output_type": "execute_result"
    }
   ],
   "source": [
    "g"
   ]
  },
  {
   "cell_type": "code",
   "execution_count": null,
   "id": "05100331-ddb2-431c-9e82-2887fcc522f0",
   "metadata": {},
   "outputs": [],
   "source": []
  }
 ],
 "metadata": {
  "kernelspec": {
   "display_name": "Python 3",
   "language": "python",
   "name": "python3"
  },
  "language_info": {
   "codemirror_mode": {
    "name": "ipython",
    "version": 3
   },
   "file_extension": ".py",
   "mimetype": "text/x-python",
   "name": "python",
   "nbconvert_exporter": "python",
   "pygments_lexer": "ipython3",
   "version": "3.6.13"
  }
 },
 "nbformat": 4,
 "nbformat_minor": 5
}
