{
 "cells": [
  {
   "cell_type": "markdown",
   "id": "8e1177cc-a2a6-42c8-989d-1f666ced3f69",
   "metadata": {},
   "source": [
    "## Day 14 - the derivative of data"
   ]
  },
  {
   "cell_type": "code",
   "execution_count": 7,
   "id": "ad005cfe-7365-4e77-a5fe-ed110c445655",
   "metadata": {},
   "outputs": [],
   "source": [
    "# import statements\n",
    "import numpy as np\n",
    "import pandas as pd\n",
    "import matplotlib.pyplot as plt\n",
    "\n",
    "# let's cook up some data\n",
    "x = np.linspace(0,5,101)\n",
    "y = np.cos(x)"
   ]
  },
  {
   "cell_type": "code",
   "execution_count": 9,
   "id": "aa689977-2b53-4047-8634-b5e5476b05c0",
   "metadata": {},
   "outputs": [
    {
     "data": {
      "application/vnd.jupyter.widget-view+json": {
       "model_id": "e7ba13eff80d4b65b7d9f381179099b0",
       "version_major": 2,
       "version_minor": 0
      },
      "text/plain": [
       "Canvas(toolbar=Toolbar(toolitems=[('Home', 'Reset original view', 'home', 'home'), ('Back', 'Back to previous …"
      ]
     },
     "metadata": {},
     "output_type": "display_data"
    },
    {
     "data": {
      "text/plain": [
       "[<matplotlib.lines.Line2D at 0x7f12124090b8>]"
      ]
     },
     "execution_count": 9,
     "metadata": {},
     "output_type": "execute_result"
    }
   ],
   "source": [
    "fig0, ax0 = plt.subplots()\n",
    "\n",
    "ax0.plot(x,y, 'o')"
   ]
  },
  {
   "cell_type": "code",
   "execution_count": 17,
   "id": "83b68e4d-853d-4aef-88ba-bd22436a7b84",
   "metadata": {},
   "outputs": [],
   "source": [
    "dy = np.gradient(y, 0.05)"
   ]
  },
  {
   "cell_type": "code",
   "execution_count": 23,
   "id": "64b28a91-a2d3-4ceb-897e-55730110a100",
   "metadata": {},
   "outputs": [
    {
     "data": {
      "application/vnd.jupyter.widget-view+json": {
       "model_id": "b17f95ab48fe4c6c89b2ca99d5452bb7",
       "version_major": 2,
       "version_minor": 0
      },
      "text/plain": [
       "Canvas(toolbar=Toolbar(toolitems=[('Home', 'Reset original view', 'home', 'home'), ('Back', 'Back to previous …"
      ]
     },
     "metadata": {},
     "output_type": "display_data"
    },
    {
     "data": {
      "text/plain": [
       "<matplotlib.legend.Legend at 0x7f121183f8d0>"
      ]
     },
     "execution_count": 23,
     "metadata": {},
     "output_type": "execute_result"
    }
   ],
   "source": [
    "fig1, ax1 = plt.subplots()\n",
    "\n",
    "ax1.plot(x, y, 'o', label=r'cos($\\theta$)')\n",
    "ax1.plot(x, dy, 'o', label= 'dy/dx')\n",
    "\n",
    "ax1.legend()"
   ]
  },
  {
   "cell_type": "code",
   "execution_count": 20,
   "id": "d295b3c1-4a48-493f-aeaf-4fb5b335c723",
   "metadata": {},
   "outputs": [
    {
     "data": {
      "application/vnd.jupyter.widget-view+json": {
       "model_id": "b3dc0d1a19124cef9c0f738160831921",
       "version_major": 2,
       "version_minor": 0
      },
      "text/plain": [
       "Canvas(toolbar=Toolbar(toolitems=[('Home', 'Reset original view', 'home', 'home'), ('Back', 'Back to previous …"
      ]
     },
     "metadata": {},
     "output_type": "display_data"
    },
    {
     "data": {
      "text/plain": [
       "[<matplotlib.lines.Line2D at 0x7f12122b8080>]"
      ]
     },
     "execution_count": 20,
     "metadata": {},
     "output_type": "execute_result"
    }
   ],
   "source": []
  },
  {
   "cell_type": "code",
   "execution_count": null,
   "id": "2a19e528-28db-4224-abdb-1d238d084914",
   "metadata": {},
   "outputs": [],
   "source": []
  }
 ],
 "metadata": {
  "kernelspec": {
   "display_name": "Python 3",
   "language": "python",
   "name": "python3"
  },
  "language_info": {
   "codemirror_mode": {
    "name": "ipython",
    "version": 3
   },
   "file_extension": ".py",
   "mimetype": "text/x-python",
   "name": "python",
   "nbconvert_exporter": "python",
   "pygments_lexer": "ipython3",
   "version": "3.6.13"
  }
 },
 "nbformat": 4,
 "nbformat_minor": 5
}
