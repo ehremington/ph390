{
 "cells": [
  {
   "cell_type": "code",
   "execution_count": 41,
   "id": "3983533a-503f-4dca-b98b-ac6f2a6c25dc",
   "metadata": {},
   "outputs": [],
   "source": [
    "x = 5 #integer"
   ]
  },
  {
   "cell_type": "code",
   "execution_count": 42,
   "id": "68fe7154-beba-4382-be48-b7e405c24dc3",
   "metadata": {},
   "outputs": [
    {
     "data": {
      "text/plain": [
       "5"
      ]
     },
     "execution_count": 42,
     "metadata": {},
     "output_type": "execute_result"
    }
   ],
   "source": [
    "x"
   ]
  },
  {
   "cell_type": "code",
   "execution_count": 43,
   "id": "43a705ae-725e-4b68-9277-9b3e8214100c",
   "metadata": {},
   "outputs": [
    {
     "data": {
      "text/plain": [
       "int"
      ]
     },
     "execution_count": 43,
     "metadata": {},
     "output_type": "execute_result"
    }
   ],
   "source": [
    "type(x)"
   ]
  },
  {
   "cell_type": "code",
   "execution_count": 44,
   "id": "b2a94050-27e3-49de-8fd6-3b355718ad75",
   "metadata": {},
   "outputs": [],
   "source": [
    "y = 5.0"
   ]
  },
  {
   "cell_type": "code",
   "execution_count": 45,
   "id": "e97b4aa4-84fd-46e1-b94d-317da5e65d07",
   "metadata": {},
   "outputs": [
    {
     "data": {
      "text/plain": [
       "float"
      ]
     },
     "execution_count": 45,
     "metadata": {},
     "output_type": "execute_result"
    }
   ],
   "source": [
    "type(y)"
   ]
  },
  {
   "cell_type": "code",
   "execution_count": 46,
   "id": "860ecb98-ccae-4c76-b029-56b0c7644416",
   "metadata": {},
   "outputs": [],
   "source": [
    "z = 'Jordan'"
   ]
  },
  {
   "cell_type": "code",
   "execution_count": 47,
   "id": "0df8839e-5e0c-4208-8fe7-e01ec2b2477a",
   "metadata": {},
   "outputs": [
    {
     "name": "stdout",
     "output_type": "stream",
     "text": [
      "Jordan\n"
     ]
    }
   ],
   "source": [
    "print(z)"
   ]
  },
  {
   "cell_type": "code",
   "execution_count": 48,
   "id": "f3b9e8e9-963c-488e-978c-eca76b6cec86",
   "metadata": {},
   "outputs": [],
   "source": [
    "xx = 'Caroline is 19 years old'"
   ]
  },
  {
   "cell_type": "code",
   "execution_count": 49,
   "id": "e5ca3602-3d41-4ef4-8b0c-d6d6ddb3d093",
   "metadata": {},
   "outputs": [
    {
     "data": {
      "text/plain": [
       "'Caroline is 19 years old'"
      ]
     },
     "execution_count": 49,
     "metadata": {},
     "output_type": "execute_result"
    }
   ],
   "source": [
    "xx"
   ]
  },
  {
   "cell_type": "code",
   "execution_count": 50,
   "id": "8145c399-d1b3-4a14-8633-08e5bac88dd5",
   "metadata": {},
   "outputs": [
    {
     "data": {
      "text/plain": [
       "str"
      ]
     },
     "execution_count": 50,
     "metadata": {},
     "output_type": "execute_result"
    }
   ],
   "source": [
    "type(xx)"
   ]
  },
  {
   "cell_type": "code",
   "execution_count": 51,
   "id": "de217891-a65f-4455-920b-1ef8f6f5cfb2",
   "metadata": {},
   "outputs": [],
   "source": [
    "xy = '19'"
   ]
  },
  {
   "cell_type": "code",
   "execution_count": 52,
   "id": "3014286b-9788-4f74-86d7-21336c7b2095",
   "metadata": {},
   "outputs": [
    {
     "data": {
      "text/plain": [
       "'19'"
      ]
     },
     "execution_count": 52,
     "metadata": {},
     "output_type": "execute_result"
    }
   ],
   "source": [
    "xy"
   ]
  },
  {
   "cell_type": "code",
   "execution_count": 53,
   "id": "7d60d07a-463a-4b9b-a2c8-285c20f044d9",
   "metadata": {},
   "outputs": [
    {
     "data": {
      "text/plain": [
       "19.0"
      ]
     },
     "execution_count": 53,
     "metadata": {},
     "output_type": "execute_result"
    }
   ],
   "source": [
    "float(xy)"
   ]
  },
  {
   "cell_type": "code",
   "execution_count": 54,
   "id": "e1416d0e-8547-4f3d-b2a4-91ddf9d6c877",
   "metadata": {},
   "outputs": [
    {
     "ename": "ValueError",
     "evalue": "could not convert string to float: 'Caroline is 19 years old'",
     "output_type": "error",
     "traceback": [
      "\u001b[0;31m---------------------------------------------------------------------------\u001b[0m",
      "\u001b[0;31mValueError\u001b[0m                                Traceback (most recent call last)",
      "\u001b[0;32m<ipython-input-54-2252268de861>\u001b[0m in \u001b[0;36m<module>\u001b[0;34m()\u001b[0m\n\u001b[0;32m----> 1\u001b[0;31m \u001b[0mfloat\u001b[0m\u001b[0;34m(\u001b[0m\u001b[0mxx\u001b[0m\u001b[0;34m)\u001b[0m\u001b[0;34m\u001b[0m\u001b[0;34m\u001b[0m\u001b[0m\n\u001b[0m",
      "\u001b[0;31mValueError\u001b[0m: could not convert string to float: 'Caroline is 19 years old'"
     ]
    }
   ],
   "source": [
    "float(xx)"
   ]
  },
  {
   "cell_type": "code",
   "execution_count": 55,
   "id": "5639241e-54b6-4ce5-a82e-324727d8ae2e",
   "metadata": {},
   "outputs": [
    {
     "data": {
      "text/plain": [
       "19"
      ]
     },
     "execution_count": 55,
     "metadata": {},
     "output_type": "execute_result"
    }
   ],
   "source": [
    "int(xy)"
   ]
  },
  {
   "cell_type": "code",
   "execution_count": 56,
   "id": "86b6f727-1c9e-4936-8d0b-4a14ed89571b",
   "metadata": {},
   "outputs": [
    {
     "data": {
      "text/plain": [
       "5"
      ]
     },
     "execution_count": 56,
     "metadata": {},
     "output_type": "execute_result"
    }
   ],
   "source": [
    "int(y)"
   ]
  },
  {
   "cell_type": "code",
   "execution_count": 57,
   "id": "63393aa1-cb04-46af-894f-142f97509d1c",
   "metadata": {},
   "outputs": [],
   "source": [
    "z = 5.9"
   ]
  },
  {
   "cell_type": "code",
   "execution_count": 58,
   "id": "686a3c2e-cf4d-42ac-8da9-32694f5e5a8f",
   "metadata": {},
   "outputs": [
    {
     "data": {
      "text/plain": [
       "5"
      ]
     },
     "execution_count": 58,
     "metadata": {},
     "output_type": "execute_result"
    }
   ],
   "source": [
    "int(z)"
   ]
  },
  {
   "cell_type": "code",
   "execution_count": 59,
   "id": "0787240f-0d6f-4e09-b2b2-cd5562d9ef8d",
   "metadata": {},
   "outputs": [],
   "source": [
    "test = [1,2,3,4,5]"
   ]
  },
  {
   "cell_type": "code",
   "execution_count": 60,
   "id": "8ed53bd5-661f-4392-a1ed-cb2b2be4326e",
   "metadata": {},
   "outputs": [
    {
     "data": {
      "text/plain": [
       "[1, 2, 3, 4, 5]"
      ]
     },
     "execution_count": 60,
     "metadata": {},
     "output_type": "execute_result"
    }
   ],
   "source": [
    "test"
   ]
  },
  {
   "cell_type": "code",
   "execution_count": 61,
   "id": "c06cd441-bea3-48b9-b450-29ce45803d57",
   "metadata": {},
   "outputs": [
    {
     "data": {
      "text/plain": [
       "list"
      ]
     },
     "execution_count": 61,
     "metadata": {},
     "output_type": "execute_result"
    }
   ],
   "source": [
    "type(test)"
   ]
  },
  {
   "cell_type": "code",
   "execution_count": 62,
   "id": "c715352a-b4d2-45e8-a3ba-62c152dc8b1a",
   "metadata": {},
   "outputs": [
    {
     "data": {
      "text/plain": [
       "2"
      ]
     },
     "execution_count": 62,
     "metadata": {},
     "output_type": "execute_result"
    }
   ],
   "source": [
    "test[1]"
   ]
  },
  {
   "cell_type": "code",
   "execution_count": 63,
   "id": "e3129812-0f0b-4e57-abef-1110f2848076",
   "metadata": {},
   "outputs": [],
   "source": [
    "test2 = [1.2,5.4,8.0]"
   ]
  },
  {
   "cell_type": "code",
   "execution_count": 64,
   "id": "f9550fcf-3bd4-4b53-9b3c-872ce65b993c",
   "metadata": {},
   "outputs": [
    {
     "data": {
      "text/plain": [
       "[1.2, 5.4, 8.0]"
      ]
     },
     "execution_count": 64,
     "metadata": {},
     "output_type": "execute_result"
    }
   ],
   "source": [
    "test2"
   ]
  },
  {
   "cell_type": "code",
   "execution_count": 65,
   "id": "82f9b48e-ecc2-45c7-83a1-535706d3a24a",
   "metadata": {},
   "outputs": [
    {
     "ename": "IndexError",
     "evalue": "list index out of range",
     "output_type": "error",
     "traceback": [
      "\u001b[0;31m---------------------------------------------------------------------------\u001b[0m",
      "\u001b[0;31mIndexError\u001b[0m                                Traceback (most recent call last)",
      "\u001b[0;32m<ipython-input-65-04bbe7b21232>\u001b[0m in \u001b[0;36m<module>\u001b[0;34m()\u001b[0m\n\u001b[0;32m----> 1\u001b[0;31m \u001b[0mtest2\u001b[0m\u001b[0;34m[\u001b[0m\u001b[0;36m3\u001b[0m\u001b[0;34m]\u001b[0m\u001b[0;34m\u001b[0m\u001b[0;34m\u001b[0m\u001b[0m\n\u001b[0m",
      "\u001b[0;31mIndexError\u001b[0m: list index out of range"
     ]
    }
   ],
   "source": [
    "test2[3]"
   ]
  },
  {
   "cell_type": "code",
   "execution_count": 66,
   "id": "df4bd147-19d8-4132-8929-4a97bad3da28",
   "metadata": {},
   "outputs": [],
   "source": [
    "test3 = [0,1,3.4,'this is a test']"
   ]
  },
  {
   "cell_type": "code",
   "execution_count": 67,
   "id": "a840108e-5ba9-487f-8466-ee5a4c44f830",
   "metadata": {},
   "outputs": [
    {
     "data": {
      "text/plain": [
       "1"
      ]
     },
     "execution_count": 67,
     "metadata": {},
     "output_type": "execute_result"
    }
   ],
   "source": [
    "test3[1]"
   ]
  },
  {
   "cell_type": "code",
   "execution_count": 68,
   "id": "dd53e3c9-7e6a-430e-87df-685f6f9ee60f",
   "metadata": {},
   "outputs": [
    {
     "data": {
      "text/plain": [
       "str"
      ]
     },
     "execution_count": 68,
     "metadata": {},
     "output_type": "execute_result"
    }
   ],
   "source": [
    "type(test3[3])"
   ]
  },
  {
   "cell_type": "code",
   "execution_count": 69,
   "id": "5180756b-212d-491e-8885-472134792418",
   "metadata": {},
   "outputs": [],
   "source": [
    "test4 = [[3.4,4.5],[1,2,3,4],['this is list', 'jordan', 'caraline']]"
   ]
  },
  {
   "cell_type": "code",
   "execution_count": 70,
   "id": "b46c3ef3-4b8c-4f59-b516-e8f258cf6297",
   "metadata": {},
   "outputs": [
    {
     "data": {
      "text/plain": [
       "[3.4, 4.5]"
      ]
     },
     "execution_count": 70,
     "metadata": {},
     "output_type": "execute_result"
    }
   ],
   "source": [
    "test4[0]"
   ]
  },
  {
   "cell_type": "code",
   "execution_count": 71,
   "id": "3eecac06-4d6a-48ab-a29b-e10965a094d0",
   "metadata": {},
   "outputs": [
    {
     "data": {
      "text/plain": [
       "3.4"
      ]
     },
     "execution_count": 71,
     "metadata": {},
     "output_type": "execute_result"
    }
   ],
   "source": [
    "test4[0][0]"
   ]
  },
  {
   "cell_type": "code",
   "execution_count": 72,
   "id": "8982007b-704e-4c02-9b94-71e5d076f1b2",
   "metadata": {},
   "outputs": [
    {
     "data": {
      "text/plain": [
       "'Caroline is 19 years old'"
      ]
     },
     "execution_count": 72,
     "metadata": {},
     "output_type": "execute_result"
    }
   ],
   "source": [
    "xx"
   ]
  },
  {
   "cell_type": "code",
   "execution_count": 73,
   "id": "c0eb94db-471a-4a80-920d-39d52bb5e5f6",
   "metadata": {},
   "outputs": [
    {
     "data": {
      "text/plain": [
       "'C'"
      ]
     },
     "execution_count": 73,
     "metadata": {},
     "output_type": "execute_result"
    }
   ],
   "source": [
    "xx[0]"
   ]
  },
  {
   "cell_type": "code",
   "execution_count": 74,
   "id": "75f5971d-d114-472c-8cf2-767f10e83504",
   "metadata": {},
   "outputs": [
    {
     "data": {
      "text/plain": [
       "24"
      ]
     },
     "execution_count": 74,
     "metadata": {},
     "output_type": "execute_result"
    }
   ],
   "source": [
    "len(xx)"
   ]
  },
  {
   "cell_type": "code",
   "execution_count": 75,
   "id": "a79b78a0-2715-48b2-92c4-92aa665954f9",
   "metadata": {},
   "outputs": [
    {
     "data": {
      "text/plain": [
       "'C'"
      ]
     },
     "execution_count": 75,
     "metadata": {},
     "output_type": "execute_result"
    }
   ],
   "source": [
    "xx[0]"
   ]
  },
  {
   "cell_type": "code",
   "execution_count": 76,
   "id": "3ee9cb91-3b0c-45e7-af09-e4e1597ea477",
   "metadata": {},
   "outputs": [
    {
     "data": {
      "text/plain": [
       "'ol'"
      ]
     },
     "execution_count": 76,
     "metadata": {},
     "output_type": "execute_result"
    }
   ],
   "source": [
    "xx[3:5] # slice"
   ]
  },
  {
   "cell_type": "code",
   "execution_count": 77,
   "id": "38f3d1da-a479-4259-96d2-5e46a4544e40",
   "metadata": {},
   "outputs": [
    {
     "data": {
      "text/plain": [
       "[1, 2, 3, 4, 5]"
      ]
     },
     "execution_count": 77,
     "metadata": {},
     "output_type": "execute_result"
    }
   ],
   "source": [
    "test"
   ]
  },
  {
   "cell_type": "code",
   "execution_count": 78,
   "id": "a60c6500-2e3e-4b57-865f-f69d69acac63",
   "metadata": {},
   "outputs": [
    {
     "data": {
      "text/plain": [
       "[3, 4, 5]"
      ]
     },
     "execution_count": 78,
     "metadata": {},
     "output_type": "execute_result"
    }
   ],
   "source": [
    "test[2:5]"
   ]
  },
  {
   "cell_type": "code",
   "execution_count": 79,
   "id": "a90eb9be-5a34-4954-b860-3f0696bd369b",
   "metadata": {},
   "outputs": [
    {
     "data": {
      "text/plain": [
       "[3, 4, 5]"
      ]
     },
     "execution_count": 79,
     "metadata": {},
     "output_type": "execute_result"
    }
   ],
   "source": [
    "test[2:]"
   ]
  },
  {
   "cell_type": "code",
   "execution_count": 80,
   "id": "c136edac-a1e7-4b85-a584-d8061e295cfb",
   "metadata": {},
   "outputs": [
    {
     "data": {
      "text/plain": [
       "[1, 2, 3]"
      ]
     },
     "execution_count": 80,
     "metadata": {},
     "output_type": "execute_result"
    }
   ],
   "source": [
    "test[:3]"
   ]
  },
  {
   "cell_type": "code",
   "execution_count": 81,
   "id": "cf9bebe0-d2ac-4e2c-aa88-6f58adffab37",
   "metadata": {},
   "outputs": [
    {
     "data": {
      "text/plain": [
       "[4, 5]"
      ]
     },
     "execution_count": 81,
     "metadata": {},
     "output_type": "execute_result"
    }
   ],
   "source": [
    "test[-2:]"
   ]
  },
  {
   "cell_type": "code",
   "execution_count": 82,
   "id": "f4f329a9-fc43-489b-995f-50ed0034b98d",
   "metadata": {},
   "outputs": [
    {
     "data": {
      "text/plain": [
       "'old'"
      ]
     },
     "execution_count": 82,
     "metadata": {},
     "output_type": "execute_result"
    }
   ],
   "source": [
    "xx[-3:]"
   ]
  },
  {
   "cell_type": "code",
   "execution_count": 83,
   "id": "a02978a3-8619-4d7f-9a44-338e7b3ebe48",
   "metadata": {},
   "outputs": [
    {
     "data": {
      "text/plain": [
       "[1, 2, 3, 4, 5]"
      ]
     },
     "execution_count": 83,
     "metadata": {},
     "output_type": "execute_result"
    }
   ],
   "source": [
    "test"
   ]
  },
  {
   "cell_type": "code",
   "execution_count": 84,
   "id": "bc43e2bd-8ef4-4a30-8037-37d4b0feb321",
   "metadata": {},
   "outputs": [
    {
     "data": {
      "text/plain": [
       "[1.2, 5.4, 8.0]"
      ]
     },
     "execution_count": 84,
     "metadata": {},
     "output_type": "execute_result"
    }
   ],
   "source": [
    "test2"
   ]
  },
  {
   "cell_type": "code",
   "execution_count": 86,
   "id": "258e8198-089a-4734-ba68-e1e1c18bfbd2",
   "metadata": {},
   "outputs": [],
   "source": [
    "test5 = test+test2"
   ]
  },
  {
   "cell_type": "code",
   "execution_count": 87,
   "id": "0da9252a-8b71-45bc-beed-f281a5273d52",
   "metadata": {},
   "outputs": [
    {
     "data": {
      "text/plain": [
       "[1, 2, 3, 4, 5, 1.2, 5.4, 8.0]"
      ]
     },
     "execution_count": 87,
     "metadata": {},
     "output_type": "execute_result"
    }
   ],
   "source": [
    "test5"
   ]
  },
  {
   "cell_type": "code",
   "execution_count": 88,
   "id": "20e52d6f-5dd6-4fc0-a4c6-c6c9302bbff2",
   "metadata": {},
   "outputs": [
    {
     "ename": "TypeError",
     "evalue": "unsupported operand type(s) for -: 'list' and 'list'",
     "output_type": "error",
     "traceback": [
      "\u001b[0;31m---------------------------------------------------------------------------\u001b[0m",
      "\u001b[0;31mTypeError\u001b[0m                                 Traceback (most recent call last)",
      "\u001b[0;32m<ipython-input-88-bfefc86664f6>\u001b[0m in \u001b[0;36m<module>\u001b[0;34m()\u001b[0m\n\u001b[0;32m----> 1\u001b[0;31m \u001b[0mtest5\u001b[0m \u001b[0;34m-\u001b[0m \u001b[0;34m[\u001b[0m\u001b[0;36m1\u001b[0m\u001b[0;34m]\u001b[0m\u001b[0;34m\u001b[0m\u001b[0;34m\u001b[0m\u001b[0m\n\u001b[0m",
      "\u001b[0;31mTypeError\u001b[0m: unsupported operand type(s) for -: 'list' and 'list'"
     ]
    }
   ],
   "source": [
    "test5 - [1]"
   ]
  },
  {
   "cell_type": "code",
   "execution_count": 89,
   "id": "c20de427-2bf4-40e0-91ff-9e0bcde40b87",
   "metadata": {},
   "outputs": [],
   "source": [
    "test6 = test5+test2"
   ]
  },
  {
   "cell_type": "code",
   "execution_count": 90,
   "id": "8eeb6c3b-4562-4107-9088-63a18c39ec90",
   "metadata": {},
   "outputs": [
    {
     "data": {
      "text/plain": [
       "[1, 2, 3, 4, 5, 1.2, 5.4, 8.0, 1.2, 5.4, 8.0]"
      ]
     },
     "execution_count": 90,
     "metadata": {},
     "output_type": "execute_result"
    }
   ],
   "source": [
    "test6"
   ]
  },
  {
   "cell_type": "code",
   "execution_count": 91,
   "id": "619bc7ca-f667-40e3-9f1f-5a0094f1c6a0",
   "metadata": {},
   "outputs": [],
   "source": [
    "import numpy as np"
   ]
  },
  {
   "cell_type": "code",
   "execution_count": 92,
   "id": "5e35e7ef-802d-4708-8cbd-d61941b63747",
   "metadata": {},
   "outputs": [],
   "source": [
    "test7 = np.array([1,5,8.8,10,12])"
   ]
  },
  {
   "cell_type": "code",
   "execution_count": 93,
   "id": "698de335-1b20-4c03-964c-7fbe28a8bba8",
   "metadata": {},
   "outputs": [
    {
     "data": {
      "text/plain": [
       "array([ 1. ,  5. ,  8.8, 10. , 12. ])"
      ]
     },
     "execution_count": 93,
     "metadata": {},
     "output_type": "execute_result"
    }
   ],
   "source": [
    "test7"
   ]
  },
  {
   "cell_type": "code",
   "execution_count": 94,
   "id": "1ec84cad-b79d-4f4c-b032-3e454fbeb296",
   "metadata": {},
   "outputs": [
    {
     "data": {
      "text/plain": [
       "1.0"
      ]
     },
     "execution_count": 94,
     "metadata": {},
     "output_type": "execute_result"
    }
   ],
   "source": [
    "test7[0]"
   ]
  },
  {
   "cell_type": "code",
   "execution_count": 95,
   "id": "d7f8352f-86d4-4735-86ff-27f79051abfd",
   "metadata": {},
   "outputs": [
    {
     "data": {
      "text/plain": [
       "array([10., 12.])"
      ]
     },
     "execution_count": 95,
     "metadata": {},
     "output_type": "execute_result"
    }
   ],
   "source": [
    "test7[3:5]"
   ]
  },
  {
   "cell_type": "code",
   "execution_count": 96,
   "id": "d6212cb4-c309-4e2d-8618-88e25a06531c",
   "metadata": {},
   "outputs": [
    {
     "data": {
      "text/plain": [
       "array([ 8.8, 10. , 12. ])"
      ]
     },
     "execution_count": 96,
     "metadata": {},
     "output_type": "execute_result"
    }
   ],
   "source": [
    "test7[-3:]"
   ]
  },
  {
   "cell_type": "code",
   "execution_count": 97,
   "id": "2504f34e-5b3c-41d6-a50e-fe3c617d2b59",
   "metadata": {},
   "outputs": [],
   "source": [
    "test8 = test7 + 1"
   ]
  },
  {
   "cell_type": "code",
   "execution_count": 98,
   "id": "bf975b39-a6e3-4b51-97fc-fd5fde928d9d",
   "metadata": {},
   "outputs": [
    {
     "data": {
      "text/plain": [
       "array([ 2. ,  6. ,  9.8, 11. , 13. ])"
      ]
     },
     "execution_count": 98,
     "metadata": {},
     "output_type": "execute_result"
    }
   ],
   "source": [
    "test8"
   ]
  },
  {
   "cell_type": "code",
   "execution_count": 101,
   "id": "2b6cb232-c744-4f0b-b6bf-0256e7380a64",
   "metadata": {},
   "outputs": [],
   "source": [
    "test9 = np.array(['test','test2',1,2])"
   ]
  },
  {
   "cell_type": "code",
   "execution_count": 102,
   "id": "c30d4a64-53ed-425f-b8bf-a4f9c8836bf7",
   "metadata": {},
   "outputs": [
    {
     "data": {
      "text/plain": [
       "array(['test', 'test2', '1', '2'], dtype='<U5')"
      ]
     },
     "execution_count": 102,
     "metadata": {},
     "output_type": "execute_result"
    }
   ],
   "source": [
    "test9"
   ]
  },
  {
   "cell_type": "code",
   "execution_count": 103,
   "id": "ef9b74f4-2b3a-4de6-b4a0-c5ff22cb102c",
   "metadata": {},
   "outputs": [
    {
     "ename": "UFuncTypeError",
     "evalue": "ufunc 'add' did not contain a loop with signature matching types (dtype('<U5'), dtype('<U5')) -> dtype('<U5')",
     "output_type": "error",
     "traceback": [
      "\u001b[0;31m---------------------------------------------------------------------------\u001b[0m",
      "\u001b[0;31mUFuncTypeError\u001b[0m                            Traceback (most recent call last)",
      "\u001b[0;32m<ipython-input-103-05e89282d753>\u001b[0m in \u001b[0;36m<module>\u001b[0;34m()\u001b[0m\n\u001b[0;32m----> 1\u001b[0;31m \u001b[0mtest9\u001b[0m\u001b[0;34m+\u001b[0m\u001b[0;36m1\u001b[0m\u001b[0;34m\u001b[0m\u001b[0;34m\u001b[0m\u001b[0m\n\u001b[0m",
      "\u001b[0;31mUFuncTypeError\u001b[0m: ufunc 'add' did not contain a loop with signature matching types (dtype('<U5'), dtype('<U5')) -> dtype('<U5')"
     ]
    }
   ],
   "source": [
    "test9+1"
   ]
  },
  {
   "cell_type": "code",
   "execution_count": null,
   "id": "3467b1e7-c42b-4946-b81d-67780811a681",
   "metadata": {},
   "outputs": [],
   "source": []
  }
 ],
 "metadata": {
  "kernelspec": {
   "display_name": "Python 3",
   "language": "python",
   "name": "python3"
  },
  "language_info": {
   "codemirror_mode": {
    "name": "ipython",
    "version": 3
   },
   "file_extension": ".py",
   "mimetype": "text/x-python",
   "name": "python",
   "nbconvert_exporter": "python",
   "pygments_lexer": "ipython3",
   "version": "3.6.13"
  }
 },
 "nbformat": 4,
 "nbformat_minor": 5
}
